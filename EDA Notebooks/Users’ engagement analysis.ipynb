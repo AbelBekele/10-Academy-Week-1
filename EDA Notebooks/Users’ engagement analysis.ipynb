{
 "cells": [
  {
   "cell_type": "code",
   "execution_count": 1,
   "id": "d1b55154-4692-4c88-8d9f-80b5ebdc695b",
   "metadata": {},
   "outputs": [],
   "source": [
    "import pandas as pd\n",
    "import numpy as np\n",
    "import seaborn as sns\n",
    "import matplotlib.pyplot as plt\n",
    "from sqlalchemy import create_engine, text\n",
    "from scipy.stats import zscore\n",
    "import psycopg2\n",
    "import os\n",
    "import plotly.express as px\n",
    "import random\n",
    "from sklearn.decomposition import PCA\n",
    "from sklearn.preprocessing import StandardScaler\n",
    "from sklearn.cluster import KMeans\n",
    "import tabulate\n",
    "import plotly.graph_objects as go\n",
    "from scipy.spatial import distance"
   ]
  },
  {
   "cell_type": "code",
   "execution_count": 2,
   "id": "98795868-1ac0-424f-9607-836859ddd3de",
   "metadata": {},
   "outputs": [],
   "source": [
    "os.chdir('..')"
   ]
  },
  {
   "cell_type": "code",
   "execution_count": 3,
   "id": "e73d75a0-b183-4e67-b63b-3503b91d1a51",
   "metadata": {},
   "outputs": [],
   "source": [
    "from db.connection import DatabaseConnection\n",
    "from db.sql_preprocessor import DBFilter\n",
    "from src.utils import missing_values_table, find_agg, convert_bytes_to_megabytes, fix_outlier, remove_outliers\n",
    "from src.plot_utils import set_seaborn_style, plot_histogram_kde, plot_boxplot, plot_time_series, plot_countplot, create_table"
   ]
  },
  {
   "cell_type": "code",
   "execution_count": 4,
   "id": "ee3d033d-3dcc-4b40-8dd1-dced50277ee3",
   "metadata": {},
   "outputs": [],
   "source": [
    "db_connection = DatabaseConnection()\n",
    "set_seaborn_style()"
   ]
  },
  {
   "cell_type": "code",
   "execution_count": 5,
   "id": "a83fde42-90f7-48ea-8d7f-8d012e3cde4f",
   "metadata": {},
   "outputs": [
    {
     "name": "stdout",
     "output_type": "stream",
     "text": [
      "Connected to the database.\n"
     ]
    }
   ],
   "source": [
    "db_connection.connect()"
   ]
  },
  {
   "cell_type": "code",
   "execution_count": 6,
   "id": "f2c808ed-41ef-4a1e-b175-21c1c0fa0302",
   "metadata": {},
   "outputs": [],
   "source": [
    "query = \"SELECT * FROM xdr_data\"\n",
    "df = db_connection.execute_query(query)"
   ]
  },
  {
   "cell_type": "code",
   "execution_count": 7,
   "id": "e5be55a8-292e-4d49-b8ce-0bfa4a6e454b",
   "metadata": {},
   "outputs": [
    {
     "data": {
      "text/html": [
       "<div>\n",
       "<style scoped>\n",
       "    .dataframe tbody tr th:only-of-type {\n",
       "        vertical-align: middle;\n",
       "    }\n",
       "\n",
       "    .dataframe tbody tr th {\n",
       "        vertical-align: top;\n",
       "    }\n",
       "\n",
       "    .dataframe thead th {\n",
       "        text-align: right;\n",
       "    }\n",
       "</style>\n",
       "<table border=\"1\" class=\"dataframe\">\n",
       "  <thead>\n",
       "    <tr style=\"text-align: right;\">\n",
       "      <th></th>\n",
       "      <th>Bearer Id</th>\n",
       "      <th>Start</th>\n",
       "      <th>Start ms</th>\n",
       "      <th>End</th>\n",
       "      <th>End ms</th>\n",
       "      <th>Dur. (ms)</th>\n",
       "      <th>IMSI</th>\n",
       "      <th>MSISDN/Number</th>\n",
       "      <th>IMEI</th>\n",
       "      <th>Last Location Name</th>\n",
       "      <th>...</th>\n",
       "      <th>Youtube DL (Bytes)</th>\n",
       "      <th>Youtube UL (Bytes)</th>\n",
       "      <th>Netflix DL (Bytes)</th>\n",
       "      <th>Netflix UL (Bytes)</th>\n",
       "      <th>Gaming DL (Bytes)</th>\n",
       "      <th>Gaming UL (Bytes)</th>\n",
       "      <th>Other DL (Bytes)</th>\n",
       "      <th>Other UL (Bytes)</th>\n",
       "      <th>Total UL (Bytes)</th>\n",
       "      <th>Total DL (Bytes)</th>\n",
       "    </tr>\n",
       "  </thead>\n",
       "  <tbody>\n",
       "    <tr>\n",
       "      <th>0</th>\n",
       "      <td>1.311448e+19</td>\n",
       "      <td>4/4/2019 12:01</td>\n",
       "      <td>770.0</td>\n",
       "      <td>4/25/2019 14:35</td>\n",
       "      <td>662.0</td>\n",
       "      <td>1823652.0</td>\n",
       "      <td>2.082014e+14</td>\n",
       "      <td>3.366496e+10</td>\n",
       "      <td>3.552121e+13</td>\n",
       "      <td>9.16456699548519E+015</td>\n",
       "      <td>...</td>\n",
       "      <td>15854611.0</td>\n",
       "      <td>2501332.0</td>\n",
       "      <td>8198936.0</td>\n",
       "      <td>9656251.0</td>\n",
       "      <td>278082303.0</td>\n",
       "      <td>14344150.0</td>\n",
       "      <td>171744450.0</td>\n",
       "      <td>8814393.0</td>\n",
       "      <td>36749741.0</td>\n",
       "      <td>308879636.0</td>\n",
       "    </tr>\n",
       "    <tr>\n",
       "      <th>1</th>\n",
       "      <td>1.311448e+19</td>\n",
       "      <td>4/9/2019 13:04</td>\n",
       "      <td>235.0</td>\n",
       "      <td>4/25/2019 8:15</td>\n",
       "      <td>606.0</td>\n",
       "      <td>1365104.0</td>\n",
       "      <td>2.082019e+14</td>\n",
       "      <td>3.368185e+10</td>\n",
       "      <td>3.579401e+13</td>\n",
       "      <td>L77566A</td>\n",
       "      <td>...</td>\n",
       "      <td>20247395.0</td>\n",
       "      <td>19111729.0</td>\n",
       "      <td>18338413.0</td>\n",
       "      <td>17227132.0</td>\n",
       "      <td>608750074.0</td>\n",
       "      <td>1170709.0</td>\n",
       "      <td>526904238.0</td>\n",
       "      <td>15055145.0</td>\n",
       "      <td>53800391.0</td>\n",
       "      <td>653384965.0</td>\n",
       "    </tr>\n",
       "    <tr>\n",
       "      <th>2</th>\n",
       "      <td>1.311448e+19</td>\n",
       "      <td>4/9/2019 17:42</td>\n",
       "      <td>1.0</td>\n",
       "      <td>4/25/2019 11:58</td>\n",
       "      <td>652.0</td>\n",
       "      <td>1361762.0</td>\n",
       "      <td>2.082003e+14</td>\n",
       "      <td>3.376063e+10</td>\n",
       "      <td>3.528151e+13</td>\n",
       "      <td>D42335A</td>\n",
       "      <td>...</td>\n",
       "      <td>19725661.0</td>\n",
       "      <td>14699576.0</td>\n",
       "      <td>17587794.0</td>\n",
       "      <td>6163408.0</td>\n",
       "      <td>229584621.0</td>\n",
       "      <td>395630.0</td>\n",
       "      <td>410692588.0</td>\n",
       "      <td>4215763.0</td>\n",
       "      <td>27883638.0</td>\n",
       "      <td>279807335.0</td>\n",
       "    </tr>\n",
       "    <tr>\n",
       "      <th>3</th>\n",
       "      <td>1.311448e+19</td>\n",
       "      <td>4/10/2019 0:31</td>\n",
       "      <td>486.0</td>\n",
       "      <td>4/25/2019 7:36</td>\n",
       "      <td>171.0</td>\n",
       "      <td>1321509.0</td>\n",
       "      <td>2.082014e+14</td>\n",
       "      <td>3.375034e+10</td>\n",
       "      <td>3.535661e+13</td>\n",
       "      <td>T21824A</td>\n",
       "      <td>...</td>\n",
       "      <td>21388122.0</td>\n",
       "      <td>15146643.0</td>\n",
       "      <td>13994646.0</td>\n",
       "      <td>1097942.0</td>\n",
       "      <td>799538153.0</td>\n",
       "      <td>10849722.0</td>\n",
       "      <td>749039933.0</td>\n",
       "      <td>12797283.0</td>\n",
       "      <td>43324218.0</td>\n",
       "      <td>846028530.0</td>\n",
       "    </tr>\n",
       "    <tr>\n",
       "      <th>4</th>\n",
       "      <td>1.311448e+19</td>\n",
       "      <td>4/12/2019 20:10</td>\n",
       "      <td>565.0</td>\n",
       "      <td>4/25/2019 10:40</td>\n",
       "      <td>954.0</td>\n",
       "      <td>1089009.0</td>\n",
       "      <td>2.082014e+14</td>\n",
       "      <td>3.369980e+10</td>\n",
       "      <td>3.540701e+13</td>\n",
       "      <td>D88865A</td>\n",
       "      <td>...</td>\n",
       "      <td>15259380.0</td>\n",
       "      <td>18962873.0</td>\n",
       "      <td>17124581.0</td>\n",
       "      <td>415218.0</td>\n",
       "      <td>527707248.0</td>\n",
       "      <td>3529801.0</td>\n",
       "      <td>550709500.0</td>\n",
       "      <td>13910322.0</td>\n",
       "      <td>38542814.0</td>\n",
       "      <td>569138589.0</td>\n",
       "    </tr>\n",
       "  </tbody>\n",
       "</table>\n",
       "<p>5 rows × 55 columns</p>\n",
       "</div>"
      ],
      "text/plain": [
       "      Bearer Id            Start  Start ms              End  End ms  \\\n",
       "0  1.311448e+19   4/4/2019 12:01     770.0  4/25/2019 14:35   662.0   \n",
       "1  1.311448e+19   4/9/2019 13:04     235.0   4/25/2019 8:15   606.0   \n",
       "2  1.311448e+19   4/9/2019 17:42       1.0  4/25/2019 11:58   652.0   \n",
       "3  1.311448e+19   4/10/2019 0:31     486.0   4/25/2019 7:36   171.0   \n",
       "4  1.311448e+19  4/12/2019 20:10     565.0  4/25/2019 10:40   954.0   \n",
       "\n",
       "   Dur. (ms)          IMSI  MSISDN/Number          IMEI  \\\n",
       "0  1823652.0  2.082014e+14   3.366496e+10  3.552121e+13   \n",
       "1  1365104.0  2.082019e+14   3.368185e+10  3.579401e+13   \n",
       "2  1361762.0  2.082003e+14   3.376063e+10  3.528151e+13   \n",
       "3  1321509.0  2.082014e+14   3.375034e+10  3.535661e+13   \n",
       "4  1089009.0  2.082014e+14   3.369980e+10  3.540701e+13   \n",
       "\n",
       "      Last Location Name  ...  Youtube DL (Bytes)  Youtube UL (Bytes)  \\\n",
       "0  9.16456699548519E+015  ...          15854611.0           2501332.0   \n",
       "1                L77566A  ...          20247395.0          19111729.0   \n",
       "2                D42335A  ...          19725661.0          14699576.0   \n",
       "3                T21824A  ...          21388122.0          15146643.0   \n",
       "4                D88865A  ...          15259380.0          18962873.0   \n",
       "\n",
       "   Netflix DL (Bytes)  Netflix UL (Bytes)  Gaming DL (Bytes)  \\\n",
       "0           8198936.0           9656251.0        278082303.0   \n",
       "1          18338413.0          17227132.0        608750074.0   \n",
       "2          17587794.0           6163408.0        229584621.0   \n",
       "3          13994646.0           1097942.0        799538153.0   \n",
       "4          17124581.0            415218.0        527707248.0   \n",
       "\n",
       "   Gaming UL (Bytes)  Other DL (Bytes)  Other UL (Bytes)  Total UL (Bytes)  \\\n",
       "0         14344150.0       171744450.0         8814393.0        36749741.0   \n",
       "1          1170709.0       526904238.0        15055145.0        53800391.0   \n",
       "2           395630.0       410692588.0         4215763.0        27883638.0   \n",
       "3         10849722.0       749039933.0        12797283.0        43324218.0   \n",
       "4          3529801.0       550709500.0        13910322.0        38542814.0   \n",
       "\n",
       "   Total DL (Bytes)  \n",
       "0       308879636.0  \n",
       "1       653384965.0  \n",
       "2       279807335.0  \n",
       "3       846028530.0  \n",
       "4       569138589.0  \n",
       "\n",
       "[5 rows x 55 columns]"
      ]
     },
     "execution_count": 7,
     "metadata": {},
     "output_type": "execute_result"
    }
   ],
   "source": [
    "df.head()"
   ]
  },
  {
   "cell_type": "code",
   "execution_count": 8,
   "id": "f1bb1211-6b3d-4c0d-aa1c-61632fd4e538",
   "metadata": {},
   "outputs": [
    {
     "data": {
      "text/plain": [
       "Index(['Bearer Id', 'Start', 'Start ms', 'End', 'End ms', 'Dur. (ms)', 'IMSI',\n",
       "       'MSISDN/Number', 'IMEI', 'Last Location Name', 'Avg RTT DL (ms)',\n",
       "       'Avg RTT UL (ms)', 'Avg Bearer TP DL (kbps)', 'Avg Bearer TP UL (kbps)',\n",
       "       'TCP DL Retrans. Vol (Bytes)', 'TCP UL Retrans. Vol (Bytes)',\n",
       "       'DL TP < 50 Kbps (%)', '50 Kbps < DL TP < 250 Kbps (%)',\n",
       "       '250 Kbps < DL TP < 1 Mbps (%)', 'DL TP > 1 Mbps (%)',\n",
       "       'UL TP < 10 Kbps (%)', '10 Kbps < UL TP < 50 Kbps (%)',\n",
       "       '50 Kbps < UL TP < 300 Kbps (%)', 'UL TP > 300 Kbps (%)',\n",
       "       'HTTP DL (Bytes)', 'HTTP UL (Bytes)', 'Activity Duration DL (ms)',\n",
       "       'Activity Duration UL (ms)', 'Dur. (ms).1', 'Handset Manufacturer',\n",
       "       'Handset Type', 'Nb of sec with 125000B < Vol DL',\n",
       "       'Nb of sec with 1250B < Vol UL < 6250B',\n",
       "       'Nb of sec with 31250B < Vol DL < 125000B',\n",
       "       'Nb of sec with 37500B < Vol UL',\n",
       "       'Nb of sec with 6250B < Vol DL < 31250B',\n",
       "       'Nb of sec with 6250B < Vol UL < 37500B',\n",
       "       'Nb of sec with Vol DL < 6250B', 'Nb of sec with Vol UL < 1250B',\n",
       "       'Social Media DL (Bytes)', 'Social Media UL (Bytes)',\n",
       "       'Google DL (Bytes)', 'Google UL (Bytes)', 'Email DL (Bytes)',\n",
       "       'Email UL (Bytes)', 'Youtube DL (Bytes)', 'Youtube UL (Bytes)',\n",
       "       'Netflix DL (Bytes)', 'Netflix UL (Bytes)', 'Gaming DL (Bytes)',\n",
       "       'Gaming UL (Bytes)', 'Other DL (Bytes)', 'Other UL (Bytes)',\n",
       "       'Total UL (Bytes)', 'Total DL (Bytes)'],\n",
       "      dtype='object')"
      ]
     },
     "execution_count": 8,
     "metadata": {},
     "output_type": "execute_result"
    }
   ],
   "source": [
    "df.columns"
   ]
  },
  {
   "cell_type": "code",
   "execution_count": 9,
   "id": "619d1291-a6ee-4883-8a66-61ff085135dd",
   "metadata": {},
   "outputs": [
    {
     "name": "stdout",
     "output_type": "stream",
     "text": [
      "Number of duplicate rows: 0\n"
     ]
    }
   ],
   "source": [
    "duplicates = df.duplicated()\n",
    "print(\"Number of duplicate rows:\", duplicates.sum())"
   ]
  },
  {
   "cell_type": "code",
   "execution_count": 10,
   "id": "645c92b8-2725-48cd-b00d-3b3dd76e0768",
   "metadata": {},
   "outputs": [
    {
     "name": "stdout",
     "output_type": "stream",
     "text": [
      "Your selected dataframe has 55 columns.\n",
      "There are 41 columns that have missing values.\n",
      "Missing Values in df:\n",
      "                                          Missing Values  % of Total Values  \\\n",
      "Nb of sec with 37500B < Vol UL                    130254               86.8   \n",
      "Nb of sec with 6250B < Vol UL < 37500B            111843               74.6   \n",
      "Nb of sec with 125000B < Vol DL                    97538               65.0   \n",
      "TCP UL Retrans. Vol (Bytes)                        96649               64.4   \n",
      "Nb of sec with 31250B < Vol DL < 125000B           93586               62.4   \n",
      "Nb of sec with 1250B < Vol UL < 6250B              92894               61.9   \n",
      "Nb of sec with 6250B < Vol DL < 31250B             88317               58.9   \n",
      "TCP DL Retrans. Vol (Bytes)                        88146               58.8   \n",
      "HTTP UL (Bytes)                                    81810               54.5   \n",
      "HTTP DL (Bytes)                                    81474               54.3   \n",
      "Avg RTT DL (ms)                                    27829               18.6   \n",
      "Avg RTT UL (ms)                                    27812               18.5   \n",
      "Last Location Name                                  1153                0.8   \n",
      "MSISDN/Number                                       1066                0.7   \n",
      "Bearer Id                                            991                0.7   \n",
      "Nb of sec with Vol UL < 1250B                        793                0.5   \n",
      "10 Kbps < UL TP < 50 Kbps (%)                        792                0.5   \n",
      "UL TP > 300 Kbps (%)                                 792                0.5   \n",
      "50 Kbps < UL TP < 300 Kbps (%)                       792                0.5   \n",
      "UL TP < 10 Kbps (%)                                  792                0.5   \n",
      "Nb of sec with Vol DL < 6250B                        755                0.5   \n",
      "250 Kbps < DL TP < 1 Mbps (%)                        754                0.5   \n",
      "50 Kbps < DL TP < 250 Kbps (%)                       754                0.5   \n",
      "DL TP < 50 Kbps (%)                                  754                0.5   \n",
      "DL TP > 1 Mbps (%)                                   754                0.5   \n",
      "Handset Type                                         572                0.4   \n",
      "Handset Manufacturer                                 572                0.4   \n",
      "IMEI                                                 572                0.4   \n",
      "IMSI                                                 570                0.4   \n",
      "Dur. (ms)                                              1                0.0   \n",
      "Total UL (Bytes)                                       1                0.0   \n",
      "Start ms                                               1                0.0   \n",
      "End                                                    1                0.0   \n",
      "End ms                                                 1                0.0   \n",
      "Start                                                  1                0.0   \n",
      "Avg Bearer TP DL (kbps)                                1                0.0   \n",
      "Dur. (ms).1                                            1                0.0   \n",
      "Activity Duration UL (ms)                              1                0.0   \n",
      "Activity Duration DL (ms)                              1                0.0   \n",
      "Avg Bearer TP UL (kbps)                                1                0.0   \n",
      "Total DL (Bytes)                                       1                0.0   \n",
      "\n",
      "                                            Dtype  \n",
      "Nb of sec with 37500B < Vol UL            float64  \n",
      "Nb of sec with 6250B < Vol UL < 37500B    float64  \n",
      "Nb of sec with 125000B < Vol DL           float64  \n",
      "TCP UL Retrans. Vol (Bytes)               float64  \n",
      "Nb of sec with 31250B < Vol DL < 125000B  float64  \n",
      "Nb of sec with 1250B < Vol UL < 6250B     float64  \n",
      "Nb of sec with 6250B < Vol DL < 31250B    float64  \n",
      "TCP DL Retrans. Vol (Bytes)               float64  \n",
      "HTTP UL (Bytes)                           float64  \n",
      "HTTP DL (Bytes)                           float64  \n",
      "Avg RTT DL (ms)                           float64  \n",
      "Avg RTT UL (ms)                           float64  \n",
      "Last Location Name                         object  \n",
      "MSISDN/Number                             float64  \n",
      "Bearer Id                                 float64  \n",
      "Nb of sec with Vol UL < 1250B             float64  \n",
      "10 Kbps < UL TP < 50 Kbps (%)             float64  \n",
      "UL TP > 300 Kbps (%)                      float64  \n",
      "50 Kbps < UL TP < 300 Kbps (%)            float64  \n",
      "UL TP < 10 Kbps (%)                       float64  \n",
      "Nb of sec with Vol DL < 6250B             float64  \n",
      "250 Kbps < DL TP < 1 Mbps (%)             float64  \n",
      "50 Kbps < DL TP < 250 Kbps (%)            float64  \n",
      "DL TP < 50 Kbps (%)                       float64  \n",
      "DL TP > 1 Mbps (%)                        float64  \n",
      "Handset Type                               object  \n",
      "Handset Manufacturer                       object  \n",
      "IMEI                                      float64  \n",
      "IMSI                                      float64  \n",
      "Dur. (ms)                                 float64  \n",
      "Total UL (Bytes)                          float64  \n",
      "Start ms                                  float64  \n",
      "End                                        object  \n",
      "End ms                                    float64  \n",
      "Start                                      object  \n",
      "Avg Bearer TP DL (kbps)                   float64  \n",
      "Dur. (ms).1                               float64  \n",
      "Activity Duration UL (ms)                 float64  \n",
      "Activity Duration DL (ms)                 float64  \n",
      "Avg Bearer TP UL (kbps)                   float64  \n",
      "Total DL (Bytes)                          float64  \n"
     ]
    }
   ],
   "source": [
    "# Check for missing values in the original DataFrame df\n",
    "missing_values_df = missing_values_table(df)\n",
    "print(\"Missing Values in df:\")\n",
    "print(missing_values_df)"
   ]
  },
  {
   "cell_type": "code",
   "execution_count": 12,
   "id": "c77f54c5-a30b-4125-ad56-84756a612876",
   "metadata": {},
   "outputs": [],
   "source": [
    "# XDR analysis"
   ]
  },
  {
   "cell_type": "code",
   "execution_count": 13,
   "id": "b9d56d3f-c870-4986-be04-4e2a6062a96d",
   "metadata": {},
   "outputs": [],
   "source": [
    "# Using mean values for null fields"
   ]
  },
  {
   "cell_type": "code",
   "execution_count": 14,
   "id": "5927481d-7495-4252-9d98-9cd8b53fab03",
   "metadata": {},
   "outputs": [],
   "source": [
    "db_filter = DBFilter(df)"
   ]
  },
  {
   "cell_type": "code",
   "execution_count": 15,
   "id": "51216635-f39d-416d-a909-666f8172d6d3",
   "metadata": {},
   "outputs": [],
   "source": [
    "filtered_numeric_df = db_filter.filter_numeric_columns(threshold=50)"
   ]
  },
  {
   "cell_type": "code",
   "execution_count": 16,
   "id": "63160da8-395a-4b64-9947-e170def8b57f",
   "metadata": {},
   "outputs": [],
   "source": [
    "columns_to_exclude = ['Bearer Id', 'Start', 'End', 'IMSI', 'MSISDN/Number', 'IMEI', 'Last Location Name', 'Handset Manufacturer', 'Handset Type']\n",
    "for column in df.columns:\n",
    "    if column not in columns_to_exclude:\n",
    "        df[column].fillna(df[column].mean(), inplace=True)"
   ]
  },
  {
   "cell_type": "code",
   "execution_count": 17,
   "id": "9192a8cd-fe56-4597-b8cb-c1489b683914",
   "metadata": {},
   "outputs": [
    {
     "name": "stdout",
     "output_type": "stream",
     "text": [
      "               Sessions Frequency  Average Session Duration (ms)  \\\n",
      "MSISDN/Number                                                      \n",
      "3.360100e+10                    1                    116760000.0   \n",
      "3.360100e+10                    1                    181260000.0   \n",
      "3.360100e+10                    1                    135000000.0   \n",
      "3.360101e+10                    1                     49920000.0   \n",
      "3.360101e+10                    2                     18600000.0   \n",
      "...                           ...                            ...   \n",
      "3.379000e+10                    1                      8760000.0   \n",
      "3.379000e+10                    1                    141000000.0   \n",
      "3.197021e+12                    1                    877380000.0   \n",
      "3.370000e+14                    1                    253020000.0   \n",
      "8.823971e+14                    1                    869820000.0   \n",
      "\n",
      "               Total Traffic (Bytes)  \n",
      "MSISDN/Number                         \n",
      "3.360100e+10            8.786906e+08  \n",
      "3.360100e+10            1.568596e+08  \n",
      "3.360100e+10            5.959665e+08  \n",
      "3.360101e+10            4.223207e+08  \n",
      "3.360101e+10            1.457411e+09  \n",
      "...                              ...  \n",
      "3.379000e+10            7.146416e+08  \n",
      "3.379000e+10            4.803073e+08  \n",
      "3.197021e+12            2.321240e+08  \n",
      "3.370000e+14            5.962878e+08  \n",
      "8.823971e+14            1.391536e+08  \n",
      "\n",
      "[106856 rows x 3 columns]\n"
     ]
    }
   ],
   "source": [
    "# Convert 'Start' and 'End' columns to datetime\n",
    "df['Start'] = pd.to_datetime(df['Start'])\n",
    "df['End'] = pd.to_datetime(df['End'])\n",
    "\n",
    "# Calculate session duration\n",
    "df['Session Duration (ms)'] = (df['End'] - df['Start']).dt.total_seconds() * 1000\n",
    "\n",
    "# Calculate total traffic for each session (download + upload)\n",
    "df['Total Traffic (Bytes)'] = df['Total DL (Bytes)'] + df['Total UL (Bytes)']\n",
    "\n",
    "# Group by 'MSISDN/Number' to calculate metrics for each user\n",
    "user_engagement = df.groupby('MSISDN/Number').agg({\n",
    "    'Start': 'count',                           # Sessions frequency\n",
    "    'Session Duration (ms)': 'mean',           # Average session duration\n",
    "    'Total Traffic (Bytes)': 'sum'             # Total traffic for all sessions\n",
    "})\n",
    "\n",
    "# Rename columns for better readability\n",
    "user_engagement = user_engagement.rename(columns={\n",
    "    'Start': 'Sessions Frequency',\n",
    "    'Session Duration (ms)': 'Average Session Duration (ms)',\n",
    "    'Total Traffic (Bytes)': 'Total Traffic (Bytes)'\n",
    "})\n",
    "\n",
    "# Display the result\n",
    "print(user_engagement)"
   ]
  },
  {
   "cell_type": "code",
   "execution_count": 18,
   "id": "7a3c98ad-72d3-4f54-b63e-c908d01dc60f",
   "metadata": {},
   "outputs": [
    {
     "name": "stdout",
     "output_type": "stream",
     "text": [
      "Top 10 Customers by Sessions Frequency:\n",
      "               Sessions Frequency  Average Session Duration (ms)  \\\n",
      "MSISDN/Number                                                      \n",
      "3.362632e+10                   18                   4.884600e+08   \n",
      "3.361489e+10                   17                   5.863059e+08   \n",
      "3.362578e+10                   17                   1.091396e+09   \n",
      "3.365973e+10                   16                   2.522025e+08   \n",
      "3.367588e+10                   15                   3.243760e+08   \n",
      "3.376054e+10                   15                   6.186440e+08   \n",
      "3.366716e+10                   13                   6.726600e+08   \n",
      "3.360313e+10                   12                   5.240000e+08   \n",
      "3.360452e+10                   12                   4.340050e+08   \n",
      "3.362708e+10                   12                   3.919550e+08   \n",
      "\n",
      "               Total Traffic (Bytes)  \n",
      "MSISDN/Number                         \n",
      "3.362632e+10            7.971167e+09  \n",
      "3.361489e+10            8.846226e+09  \n",
      "3.362578e+10            8.499621e+09  \n",
      "3.365973e+10            7.705863e+09  \n",
      "3.367588e+10            7.891111e+09  \n",
      "3.376054e+10            8.514774e+09  \n",
      "3.366716e+10            5.618394e+09  \n",
      "3.360313e+10            4.976195e+09  \n",
      "3.360452e+10            5.487855e+09  \n",
      "3.362708e+10            5.754731e+09  \n",
      "\n",
      "Top 10 Customers by Average Session Duration:\n",
      "               Sessions Frequency  Average Session Duration (ms)  \\\n",
      "MSISDN/Number                                                      \n",
      "3.366926e+10                    1                   1.573440e+09   \n",
      "3.366172e+10                    1                   1.480920e+09   \n",
      "3.360750e+10                    1                   1.474680e+09   \n",
      "3.376260e+10                    1                   1.375620e+09   \n",
      "3.376063e+10                    1                   1.361760e+09   \n",
      "3.376167e+10                    1                   1.357620e+09   \n",
      "3.375034e+10                    1                   1.321500e+09   \n",
      "3.366682e+10                    1                   1.299360e+09   \n",
      "3.369870e+10                    4                   1.209660e+09   \n",
      "3.363050e+10                    1                   1.177500e+09   \n",
      "\n",
      "               Total Traffic (Bytes)  \n",
      "MSISDN/Number                         \n",
      "3.366926e+10            3.704210e+08  \n",
      "3.366172e+10            3.567835e+08  \n",
      "3.360750e+10            1.770069e+08  \n",
      "3.376260e+10            5.731594e+08  \n",
      "3.376063e+10            3.076910e+08  \n",
      "3.376167e+10            7.809365e+08  \n",
      "3.375034e+10            8.893527e+08  \n",
      "3.366682e+10            2.293477e+08  \n",
      "3.369870e+10            1.425854e+09  \n",
      "3.363050e+10            2.234732e+08  \n",
      "\n",
      "Top 10 Customers by Total Traffic:\n",
      "               Sessions Frequency  Average Session Duration (ms)  \\\n",
      "MSISDN/Number                                                      \n",
      "3.361489e+10                   17                   5.863059e+08   \n",
      "3.376054e+10                   15                   6.186440e+08   \n",
      "3.362578e+10                   17                   1.091396e+09   \n",
      "3.362632e+10                   18                   4.884600e+08   \n",
      "3.367588e+10                   15                   3.243760e+08   \n",
      "3.365973e+10                   16                   2.522025e+08   \n",
      "3.366646e+10                   11                   4.124509e+08   \n",
      "3.376041e+10                   12                   4.434850e+08   \n",
      "3.366471e+10                   11                   2.661818e+08   \n",
      "3.369879e+10                   11                   4.699255e+08   \n",
      "\n",
      "               Total Traffic (Bytes)  \n",
      "MSISDN/Number                         \n",
      "3.361489e+10            8.846226e+09  \n",
      "3.376054e+10            8.514774e+09  \n",
      "3.362578e+10            8.499621e+09  \n",
      "3.362632e+10            7.971167e+09  \n",
      "3.367588e+10            7.891111e+09  \n",
      "3.365973e+10            7.705863e+09  \n",
      "3.366646e+10            7.308501e+09  \n",
      "3.376041e+10            7.132371e+09  \n",
      "3.366471e+10            6.872018e+09  \n",
      "3.369879e+10            6.540899e+09  \n"
     ]
    }
   ],
   "source": [
    "# Report the top 10 customers for each engagement metric\n",
    "top_10_sessions_frequency = user_engagement.nlargest(10, 'Sessions Frequency')\n",
    "top_10_average_duration = user_engagement.nlargest(10, 'Average Session Duration (ms)')\n",
    "top_10_total_traffic = user_engagement.nlargest(10, 'Total Traffic (Bytes)')\n",
    "\n",
    "# Display the results\n",
    "print(\"Top 10 Customers by Sessions Frequency:\")\n",
    "print(top_10_sessions_frequency)\n",
    "\n",
    "print(\"\\nTop 10 Customers by Average Session Duration:\")\n",
    "print(top_10_average_duration)\n",
    "\n",
    "print(\"\\nTop 10 Customers by Total Traffic:\")\n",
    "print(top_10_total_traffic)"
   ]
  },
  {
   "cell_type": "code",
   "execution_count": 36,
   "id": "5c2f7653-7451-480a-b0a2-32557f875736",
   "metadata": {},
   "outputs": [
    {
     "data": {
      "application/vnd.plotly.v1+json": {
       "config": {
        "plotlyServerURL": "https://plot.ly"
       },
       "data": [
        {
         "cells": {
          "values": [
           [
            33626320676,
            33614892860,
            33625779332,
            33659725664,
            33675877202,
            33760536639,
            33667163239,
            33603127838,
            33604515716,
            33627080969
           ],
           [
            18,
            17,
            17,
            16,
            15,
            15,
            13,
            12,
            12,
            12
           ],
           [
            488460000,
            586305882.3529412,
            1091396470.5882354,
            252202500,
            324376000,
            618644000,
            672660000,
            524000000,
            434005000,
            391955000
           ],
           [
            7971167261,
            8846226494,
            8499620722,
            7705862783,
            7891110608,
            8514773963,
            5618394054,
            4976195043,
            5487855293,
            5754730859
           ]
          ]
         },
         "header": {
          "values": [
           "MSISDN/Number",
           "Sessions Frequency",
           "Average Session Duration (ms)",
           "Total Traffic (Bytes)"
          ]
         },
         "type": "table"
        }
       ],
       "layout": {
        "autosize": true,
        "template": {
         "data": {
          "bar": [
           {
            "error_x": {
             "color": "#2a3f5f"
            },
            "error_y": {
             "color": "#2a3f5f"
            },
            "marker": {
             "line": {
              "color": "#E5ECF6",
              "width": 0.5
             },
             "pattern": {
              "fillmode": "overlay",
              "size": 10,
              "solidity": 0.2
             }
            },
            "type": "bar"
           }
          ],
          "barpolar": [
           {
            "marker": {
             "line": {
              "color": "#E5ECF6",
              "width": 0.5
             },
             "pattern": {
              "fillmode": "overlay",
              "size": 10,
              "solidity": 0.2
             }
            },
            "type": "barpolar"
           }
          ],
          "carpet": [
           {
            "aaxis": {
             "endlinecolor": "#2a3f5f",
             "gridcolor": "white",
             "linecolor": "white",
             "minorgridcolor": "white",
             "startlinecolor": "#2a3f5f"
            },
            "baxis": {
             "endlinecolor": "#2a3f5f",
             "gridcolor": "white",
             "linecolor": "white",
             "minorgridcolor": "white",
             "startlinecolor": "#2a3f5f"
            },
            "type": "carpet"
           }
          ],
          "choropleth": [
           {
            "colorbar": {
             "outlinewidth": 0,
             "ticks": ""
            },
            "type": "choropleth"
           }
          ],
          "contour": [
           {
            "colorbar": {
             "outlinewidth": 0,
             "ticks": ""
            },
            "colorscale": [
             [
              0,
              "#0d0887"
             ],
             [
              0.1111111111111111,
              "#46039f"
             ],
             [
              0.2222222222222222,
              "#7201a8"
             ],
             [
              0.3333333333333333,
              "#9c179e"
             ],
             [
              0.4444444444444444,
              "#bd3786"
             ],
             [
              0.5555555555555556,
              "#d8576b"
             ],
             [
              0.6666666666666666,
              "#ed7953"
             ],
             [
              0.7777777777777778,
              "#fb9f3a"
             ],
             [
              0.8888888888888888,
              "#fdca26"
             ],
             [
              1,
              "#f0f921"
             ]
            ],
            "type": "contour"
           }
          ],
          "contourcarpet": [
           {
            "colorbar": {
             "outlinewidth": 0,
             "ticks": ""
            },
            "type": "contourcarpet"
           }
          ],
          "heatmap": [
           {
            "colorbar": {
             "outlinewidth": 0,
             "ticks": ""
            },
            "colorscale": [
             [
              0,
              "#0d0887"
             ],
             [
              0.1111111111111111,
              "#46039f"
             ],
             [
              0.2222222222222222,
              "#7201a8"
             ],
             [
              0.3333333333333333,
              "#9c179e"
             ],
             [
              0.4444444444444444,
              "#bd3786"
             ],
             [
              0.5555555555555556,
              "#d8576b"
             ],
             [
              0.6666666666666666,
              "#ed7953"
             ],
             [
              0.7777777777777778,
              "#fb9f3a"
             ],
             [
              0.8888888888888888,
              "#fdca26"
             ],
             [
              1,
              "#f0f921"
             ]
            ],
            "type": "heatmap"
           }
          ],
          "heatmapgl": [
           {
            "colorbar": {
             "outlinewidth": 0,
             "ticks": ""
            },
            "colorscale": [
             [
              0,
              "#0d0887"
             ],
             [
              0.1111111111111111,
              "#46039f"
             ],
             [
              0.2222222222222222,
              "#7201a8"
             ],
             [
              0.3333333333333333,
              "#9c179e"
             ],
             [
              0.4444444444444444,
              "#bd3786"
             ],
             [
              0.5555555555555556,
              "#d8576b"
             ],
             [
              0.6666666666666666,
              "#ed7953"
             ],
             [
              0.7777777777777778,
              "#fb9f3a"
             ],
             [
              0.8888888888888888,
              "#fdca26"
             ],
             [
              1,
              "#f0f921"
             ]
            ],
            "type": "heatmapgl"
           }
          ],
          "histogram": [
           {
            "marker": {
             "pattern": {
              "fillmode": "overlay",
              "size": 10,
              "solidity": 0.2
             }
            },
            "type": "histogram"
           }
          ],
          "histogram2d": [
           {
            "colorbar": {
             "outlinewidth": 0,
             "ticks": ""
            },
            "colorscale": [
             [
              0,
              "#0d0887"
             ],
             [
              0.1111111111111111,
              "#46039f"
             ],
             [
              0.2222222222222222,
              "#7201a8"
             ],
             [
              0.3333333333333333,
              "#9c179e"
             ],
             [
              0.4444444444444444,
              "#bd3786"
             ],
             [
              0.5555555555555556,
              "#d8576b"
             ],
             [
              0.6666666666666666,
              "#ed7953"
             ],
             [
              0.7777777777777778,
              "#fb9f3a"
             ],
             [
              0.8888888888888888,
              "#fdca26"
             ],
             [
              1,
              "#f0f921"
             ]
            ],
            "type": "histogram2d"
           }
          ],
          "histogram2dcontour": [
           {
            "colorbar": {
             "outlinewidth": 0,
             "ticks": ""
            },
            "colorscale": [
             [
              0,
              "#0d0887"
             ],
             [
              0.1111111111111111,
              "#46039f"
             ],
             [
              0.2222222222222222,
              "#7201a8"
             ],
             [
              0.3333333333333333,
              "#9c179e"
             ],
             [
              0.4444444444444444,
              "#bd3786"
             ],
             [
              0.5555555555555556,
              "#d8576b"
             ],
             [
              0.6666666666666666,
              "#ed7953"
             ],
             [
              0.7777777777777778,
              "#fb9f3a"
             ],
             [
              0.8888888888888888,
              "#fdca26"
             ],
             [
              1,
              "#f0f921"
             ]
            ],
            "type": "histogram2dcontour"
           }
          ],
          "mesh3d": [
           {
            "colorbar": {
             "outlinewidth": 0,
             "ticks": ""
            },
            "type": "mesh3d"
           }
          ],
          "parcoords": [
           {
            "line": {
             "colorbar": {
              "outlinewidth": 0,
              "ticks": ""
             }
            },
            "type": "parcoords"
           }
          ],
          "pie": [
           {
            "automargin": true,
            "type": "pie"
           }
          ],
          "scatter": [
           {
            "fillpattern": {
             "fillmode": "overlay",
             "size": 10,
             "solidity": 0.2
            },
            "type": "scatter"
           }
          ],
          "scatter3d": [
           {
            "line": {
             "colorbar": {
              "outlinewidth": 0,
              "ticks": ""
             }
            },
            "marker": {
             "colorbar": {
              "outlinewidth": 0,
              "ticks": ""
             }
            },
            "type": "scatter3d"
           }
          ],
          "scattercarpet": [
           {
            "marker": {
             "colorbar": {
              "outlinewidth": 0,
              "ticks": ""
             }
            },
            "type": "scattercarpet"
           }
          ],
          "scattergeo": [
           {
            "marker": {
             "colorbar": {
              "outlinewidth": 0,
              "ticks": ""
             }
            },
            "type": "scattergeo"
           }
          ],
          "scattergl": [
           {
            "marker": {
             "colorbar": {
              "outlinewidth": 0,
              "ticks": ""
             }
            },
            "type": "scattergl"
           }
          ],
          "scattermapbox": [
           {
            "marker": {
             "colorbar": {
              "outlinewidth": 0,
              "ticks": ""
             }
            },
            "type": "scattermapbox"
           }
          ],
          "scatterpolar": [
           {
            "marker": {
             "colorbar": {
              "outlinewidth": 0,
              "ticks": ""
             }
            },
            "type": "scatterpolar"
           }
          ],
          "scatterpolargl": [
           {
            "marker": {
             "colorbar": {
              "outlinewidth": 0,
              "ticks": ""
             }
            },
            "type": "scatterpolargl"
           }
          ],
          "scatterternary": [
           {
            "marker": {
             "colorbar": {
              "outlinewidth": 0,
              "ticks": ""
             }
            },
            "type": "scatterternary"
           }
          ],
          "surface": [
           {
            "colorbar": {
             "outlinewidth": 0,
             "ticks": ""
            },
            "colorscale": [
             [
              0,
              "#0d0887"
             ],
             [
              0.1111111111111111,
              "#46039f"
             ],
             [
              0.2222222222222222,
              "#7201a8"
             ],
             [
              0.3333333333333333,
              "#9c179e"
             ],
             [
              0.4444444444444444,
              "#bd3786"
             ],
             [
              0.5555555555555556,
              "#d8576b"
             ],
             [
              0.6666666666666666,
              "#ed7953"
             ],
             [
              0.7777777777777778,
              "#fb9f3a"
             ],
             [
              0.8888888888888888,
              "#fdca26"
             ],
             [
              1,
              "#f0f921"
             ]
            ],
            "type": "surface"
           }
          ],
          "table": [
           {
            "cells": {
             "fill": {
              "color": "#EBF0F8"
             },
             "line": {
              "color": "white"
             }
            },
            "header": {
             "fill": {
              "color": "#C8D4E3"
             },
             "line": {
              "color": "white"
             }
            },
            "type": "table"
           }
          ]
         },
         "layout": {
          "annotationdefaults": {
           "arrowcolor": "#2a3f5f",
           "arrowhead": 0,
           "arrowwidth": 1
          },
          "autotypenumbers": "strict",
          "coloraxis": {
           "colorbar": {
            "outlinewidth": 0,
            "ticks": ""
           }
          },
          "colorscale": {
           "diverging": [
            [
             0,
             "#8e0152"
            ],
            [
             0.1,
             "#c51b7d"
            ],
            [
             0.2,
             "#de77ae"
            ],
            [
             0.3,
             "#f1b6da"
            ],
            [
             0.4,
             "#fde0ef"
            ],
            [
             0.5,
             "#f7f7f7"
            ],
            [
             0.6,
             "#e6f5d0"
            ],
            [
             0.7,
             "#b8e186"
            ],
            [
             0.8,
             "#7fbc41"
            ],
            [
             0.9,
             "#4d9221"
            ],
            [
             1,
             "#276419"
            ]
           ],
           "sequential": [
            [
             0,
             "#0d0887"
            ],
            [
             0.1111111111111111,
             "#46039f"
            ],
            [
             0.2222222222222222,
             "#7201a8"
            ],
            [
             0.3333333333333333,
             "#9c179e"
            ],
            [
             0.4444444444444444,
             "#bd3786"
            ],
            [
             0.5555555555555556,
             "#d8576b"
            ],
            [
             0.6666666666666666,
             "#ed7953"
            ],
            [
             0.7777777777777778,
             "#fb9f3a"
            ],
            [
             0.8888888888888888,
             "#fdca26"
            ],
            [
             1,
             "#f0f921"
            ]
           ],
           "sequentialminus": [
            [
             0,
             "#0d0887"
            ],
            [
             0.1111111111111111,
             "#46039f"
            ],
            [
             0.2222222222222222,
             "#7201a8"
            ],
            [
             0.3333333333333333,
             "#9c179e"
            ],
            [
             0.4444444444444444,
             "#bd3786"
            ],
            [
             0.5555555555555556,
             "#d8576b"
            ],
            [
             0.6666666666666666,
             "#ed7953"
            ],
            [
             0.7777777777777778,
             "#fb9f3a"
            ],
            [
             0.8888888888888888,
             "#fdca26"
            ],
            [
             1,
             "#f0f921"
            ]
           ]
          },
          "colorway": [
           "#636efa",
           "#EF553B",
           "#00cc96",
           "#ab63fa",
           "#FFA15A",
           "#19d3f3",
           "#FF6692",
           "#B6E880",
           "#FF97FF",
           "#FECB52"
          ],
          "font": {
           "color": "#2a3f5f"
          },
          "geo": {
           "bgcolor": "white",
           "lakecolor": "white",
           "landcolor": "#E5ECF6",
           "showlakes": true,
           "showland": true,
           "subunitcolor": "white"
          },
          "hoverlabel": {
           "align": "left"
          },
          "hovermode": "closest",
          "mapbox": {
           "style": "light"
          },
          "paper_bgcolor": "white",
          "plot_bgcolor": "#E5ECF6",
          "polar": {
           "angularaxis": {
            "gridcolor": "white",
            "linecolor": "white",
            "ticks": ""
           },
           "bgcolor": "#E5ECF6",
           "radialaxis": {
            "gridcolor": "white",
            "linecolor": "white",
            "ticks": ""
           }
          },
          "scene": {
           "xaxis": {
            "backgroundcolor": "#E5ECF6",
            "gridcolor": "white",
            "gridwidth": 2,
            "linecolor": "white",
            "showbackground": true,
            "ticks": "",
            "zerolinecolor": "white"
           },
           "yaxis": {
            "backgroundcolor": "#E5ECF6",
            "gridcolor": "white",
            "gridwidth": 2,
            "linecolor": "white",
            "showbackground": true,
            "ticks": "",
            "zerolinecolor": "white"
           },
           "zaxis": {
            "backgroundcolor": "#E5ECF6",
            "gridcolor": "white",
            "gridwidth": 2,
            "linecolor": "white",
            "showbackground": true,
            "ticks": "",
            "zerolinecolor": "white"
           }
          },
          "shapedefaults": {
           "line": {
            "color": "#2a3f5f"
           }
          },
          "ternary": {
           "aaxis": {
            "gridcolor": "white",
            "linecolor": "white",
            "ticks": ""
           },
           "baxis": {
            "gridcolor": "white",
            "linecolor": "white",
            "ticks": ""
           },
           "bgcolor": "#E5ECF6",
           "caxis": {
            "gridcolor": "white",
            "linecolor": "white",
            "ticks": ""
           }
          },
          "title": {
           "x": 0.05
          },
          "xaxis": {
           "automargin": true,
           "gridcolor": "white",
           "linecolor": "white",
           "ticks": "",
           "title": {
            "standoff": 15
           },
           "zerolinecolor": "white",
           "zerolinewidth": 2
          },
          "yaxis": {
           "automargin": true,
           "gridcolor": "white",
           "linecolor": "white",
           "ticks": "",
           "title": {
            "standoff": 15
           },
           "zerolinecolor": "white",
           "zerolinewidth": 2
          }
         }
        },
        "title": {
         "text": "Top 10 Customers by Sessions Frequency"
        }
       }
      },
      "image/png": "[encoded data removed]",
      "text/html": [
       "<div>                            <div id=\"209dd786-075b-471e-b0c7-fa3eb9c14dce\" class=\"plotly-graph-div\" style=\"height:525px; width:100%;\"></div>            <script type=\"text/javascript\">                require([\"plotly\"], function(Plotly) {                    window.PLOTLYENV=window.PLOTLYENV || {};                                    if (document.getElementById(\"209dd786-075b-471e-b0c7-fa3eb9c14dce\")) {                    Plotly.newPlot(                        \"209dd786-075b-471e-b0c7-fa3eb9c14dce\",                        [{\"cells\":{\"values\":[[33626320676.0,33614892860.0,33625779332.0,33659725664.0,33675877202.0,33760536639.0,33667163239.0,33603127838.0,33604515716.0,33627080969.0],[18.0,17.0,17.0,16.0,15.0,15.0,13.0,12.0,12.0,12.0],[488460000.0,586305882.3529412,1091396470.5882354,252202500.0,324376000.0,618644000.0,672660000.0,524000000.0,434005000.0,391955000.0],[7971167261.0,8846226494.0,8499620722.0,7705862783.0,7891110608.0,8514773963.0,5618394054.0,4976195043.0,5487855293.0,5754730859.0]]},\"header\":{\"values\":[\"MSISDN\\u002fNumber\",\"Sessions Frequency\",\"Average Session Duration (ms)\",\"Total Traffic (Bytes)\"]},\"type\":\"table\"}],                        {\"template\":{\"data\":{\"histogram2dcontour\":[{\"type\":\"histogram2dcontour\",\"colorbar\":{\"outlinewidth\":0,\"ticks\":\"\"},\"colorscale\":[[0.0,\"#0d0887\"],[0.1111111111111111,\"#46039f\"],[0.2222222222222222,\"#7201a8\"],[0.3333333333333333,\"#9c179e\"],[0.4444444444444444,\"#bd3786\"],[0.5555555555555556,\"#d8576b\"],[0.6666666666666666,\"#ed7953\"],[0.7777777777777778,\"#fb9f3a\"],[0.8888888888888888,\"#fdca26\"],[1.0,\"#f0f921\"]]}],\"choropleth\":[{\"type\":\"choropleth\",\"colorbar\":{\"outlinewidth\":0,\"ticks\":\"\"}}],\"histogram2d\":[{\"type\":\"histogram2d\",\"colorbar\":{\"outlinewidth\":0,\"ticks\":\"\"},\"colorscale\":[[0.0,\"#0d0887\"],[0.1111111111111111,\"#46039f\"],[0.2222222222222222,\"#7201a8\"],[0.3333333333333333,\"#9c179e\"],[0.4444444444444444,\"#bd3786\"],[0.5555555555555556,\"#d8576b\"],[0.6666666666666666,\"#ed7953\"],[0.7777777777777778,\"#fb9f3a\"],[0.8888888888888888,\"#fdca26\"],[1.0,\"#f0f921\"]]}],\"heatmap\":[{\"type\":\"heatmap\",\"colorbar\":{\"outlinewidth\":0,\"ticks\":\"\"},\"colorscale\":[[0.0,\"#0d0887\"],[0.1111111111111111,\"#46039f\"],[0.2222222222222222,\"#7201a8\"],[0.3333333333333333,\"#9c179e\"],[0.4444444444444444,\"#bd3786\"],[0.5555555555555556,\"#d8576b\"],[0.6666666666666666,\"#ed7953\"],[0.7777777777777778,\"#fb9f3a\"],[0.8888888888888888,\"#fdca26\"],[1.0,\"#f0f921\"]]}],\"heatmapgl\":[{\"type\":\"heatmapgl\",\"colorbar\":{\"outlinewidth\":0,\"ticks\":\"\"},\"colorscale\":[[0.0,\"#0d0887\"],[0.1111111111111111,\"#46039f\"],[0.2222222222222222,\"#7201a8\"],[0.3333333333333333,\"#9c179e\"],[0.4444444444444444,\"#bd3786\"],[0.5555555555555556,\"#d8576b\"],[0.6666666666666666,\"#ed7953\"],[0.7777777777777778,\"#fb9f3a\"],[0.8888888888888888,\"#fdca26\"],[1.0,\"#f0f921\"]]}],\"contourcarpet\":[{\"type\":\"contourcarpet\",\"colorbar\":{\"outlinewidth\":0,\"ticks\":\"\"}}],\"contour\":[{\"type\":\"contour\",\"colorbar\":{\"outlinewidth\":0,\"ticks\":\"\"},\"colorscale\":[[0.0,\"#0d0887\"],[0.1111111111111111,\"#46039f\"],[0.2222222222222222,\"#7201a8\"],[0.3333333333333333,\"#9c179e\"],[0.4444444444444444,\"#bd3786\"],[0.5555555555555556,\"#d8576b\"],[0.6666666666666666,\"#ed7953\"],[0.7777777777777778,\"#fb9f3a\"],[0.8888888888888888,\"#fdca26\"],[1.0,\"#f0f921\"]]}],\"surface\":[{\"type\":\"surface\",\"colorbar\":{\"outlinewidth\":0,\"ticks\":\"\"},\"colorscale\":[[0.0,\"#0d0887\"],[0.1111111111111111,\"#46039f\"],[0.2222222222222222,\"#7201a8\"],[0.3333333333333333,\"#9c179e\"],[0.4444444444444444,\"#bd3786\"],[0.5555555555555556,\"#d8576b\"],[0.6666666666666666,\"#ed7953\"],[0.7777777777777778,\"#fb9f3a\"],[0.8888888888888888,\"#fdca26\"],[1.0,\"#f0f921\"]]}],\"mesh3d\":[{\"type\":\"mesh3d\",\"colorbar\":{\"outlinewidth\":0,\"ticks\":\"\"}}],\"scatter\":[{\"fillpattern\":{\"fillmode\":\"overlay\",\"size\":10,\"solidity\":0.2},\"type\":\"scatter\"}],\"parcoords\":[{\"type\":\"parcoords\",\"line\":{\"colorbar\":{\"outlinewidth\":0,\"ticks\":\"\"}}}],\"scatterpolargl\":[{\"type\":\"scatterpolargl\",\"marker\":{\"colorbar\":{\"outlinewidth\":0,\"ticks\":\"\"}}}],\"bar\":[{\"error_x\":{\"color\":\"#2a3f5f\"},\"error_y\":{\"color\":\"#2a3f5f\"},\"marker\":{\"line\":{\"color\":\"#E5ECF6\",\"width\":0.5},\"pattern\":{\"fillmode\":\"overlay\",\"size\":10,\"solidity\":0.2}},\"type\":\"bar\"}],\"scattergeo\":[{\"type\":\"scattergeo\",\"marker\":{\"colorbar\":{\"outlinewidth\":0,\"ticks\":\"\"}}}],\"scatterpolar\":[{\"type\":\"scatterpolar\",\"marker\":{\"colorbar\":{\"outlinewidth\":0,\"ticks\":\"\"}}}],\"histogram\":[{\"marker\":{\"pattern\":{\"fillmode\":\"overlay\",\"size\":10,\"solidity\":0.2}},\"type\":\"histogram\"}],\"scattergl\":[{\"type\":\"scattergl\",\"marker\":{\"colorbar\":{\"outlinewidth\":0,\"ticks\":\"\"}}}],\"scatter3d\":[{\"type\":\"scatter3d\",\"line\":{\"colorbar\":{\"outlinewidth\":0,\"ticks\":\"\"}},\"marker\":{\"colorbar\":{\"outlinewidth\":0,\"ticks\":\"\"}}}],\"scattermapbox\":[{\"type\":\"scattermapbox\",\"marker\":{\"colorbar\":{\"outlinewidth\":0,\"ticks\":\"\"}}}],\"scatterternary\":[{\"type\":\"scatterternary\",\"marker\":{\"colorbar\":{\"outlinewidth\":0,\"ticks\":\"\"}}}],\"scattercarpet\":[{\"type\":\"scattercarpet\",\"marker\":{\"colorbar\":{\"outlinewidth\":0,\"ticks\":\"\"}}}],\"carpet\":[{\"aaxis\":{\"endlinecolor\":\"#2a3f5f\",\"gridcolor\":\"white\",\"linecolor\":\"white\",\"minorgridcolor\":\"white\",\"startlinecolor\":\"#2a3f5f\"},\"baxis\":{\"endlinecolor\":\"#2a3f5f\",\"gridcolor\":\"white\",\"linecolor\":\"white\",\"minorgridcolor\":\"white\",\"startlinecolor\":\"#2a3f5f\"},\"type\":\"carpet\"}],\"table\":[{\"cells\":{\"fill\":{\"color\":\"#EBF0F8\"},\"line\":{\"color\":\"white\"}},\"header\":{\"fill\":{\"color\":\"#C8D4E3\"},\"line\":{\"color\":\"white\"}},\"type\":\"table\"}],\"barpolar\":[{\"marker\":{\"line\":{\"color\":\"#E5ECF6\",\"width\":0.5},\"pattern\":{\"fillmode\":\"overlay\",\"size\":10,\"solidity\":0.2}},\"type\":\"barpolar\"}],\"pie\":[{\"automargin\":true,\"type\":\"pie\"}]},\"layout\":{\"autotypenumbers\":\"strict\",\"colorway\":[\"#636efa\",\"#EF553B\",\"#00cc96\",\"#ab63fa\",\"#FFA15A\",\"#19d3f3\",\"#FF6692\",\"#B6E880\",\"#FF97FF\",\"#FECB52\"],\"font\":{\"color\":\"#2a3f5f\"},\"hovermode\":\"closest\",\"hoverlabel\":{\"align\":\"left\"},\"paper_bgcolor\":\"white\",\"plot_bgcolor\":\"#E5ECF6\",\"polar\":{\"bgcolor\":\"#E5ECF6\",\"angularaxis\":{\"gridcolor\":\"white\",\"linecolor\":\"white\",\"ticks\":\"\"},\"radialaxis\":{\"gridcolor\":\"white\",\"linecolor\":\"white\",\"ticks\":\"\"}},\"ternary\":{\"bgcolor\":\"#E5ECF6\",\"aaxis\":{\"gridcolor\":\"white\",\"linecolor\":\"white\",\"ticks\":\"\"},\"baxis\":{\"gridcolor\":\"white\",\"linecolor\":\"white\",\"ticks\":\"\"},\"caxis\":{\"gridcolor\":\"white\",\"linecolor\":\"white\",\"ticks\":\"\"}},\"coloraxis\":{\"colorbar\":{\"outlinewidth\":0,\"ticks\":\"\"}},\"colorscale\":{\"sequential\":[[0.0,\"#0d0887\"],[0.1111111111111111,\"#46039f\"],[0.2222222222222222,\"#7201a8\"],[0.3333333333333333,\"#9c179e\"],[0.4444444444444444,\"#bd3786\"],[0.5555555555555556,\"#d8576b\"],[0.6666666666666666,\"#ed7953\"],[0.7777777777777778,\"#fb9f3a\"],[0.8888888888888888,\"#fdca26\"],[1.0,\"#f0f921\"]],\"sequentialminus\":[[0.0,\"#0d0887\"],[0.1111111111111111,\"#46039f\"],[0.2222222222222222,\"#7201a8\"],[0.3333333333333333,\"#9c179e\"],[0.4444444444444444,\"#bd3786\"],[0.5555555555555556,\"#d8576b\"],[0.6666666666666666,\"#ed7953\"],[0.7777777777777778,\"#fb9f3a\"],[0.8888888888888888,\"#fdca26\"],[1.0,\"#f0f921\"]],\"diverging\":[[0,\"#8e0152\"],[0.1,\"#c51b7d\"],[0.2,\"#de77ae\"],[0.3,\"#f1b6da\"],[0.4,\"#fde0ef\"],[0.5,\"#f7f7f7\"],[0.6,\"#e6f5d0\"],[0.7,\"#b8e186\"],[0.8,\"#7fbc41\"],[0.9,\"#4d9221\"],[1,\"#276419\"]]},\"xaxis\":{\"gridcolor\":\"white\",\"linecolor\":\"white\",\"ticks\":\"\",\"title\":{\"standoff\":15},\"zerolinecolor\":\"white\",\"automargin\":true,\"zerolinewidth\":2},\"yaxis\":{\"gridcolor\":\"white\",\"linecolor\":\"white\",\"ticks\":\"\",\"title\":{\"standoff\":15},\"zerolinecolor\":\"white\",\"automargin\":true,\"zerolinewidth\":2},\"scene\":{\"xaxis\":{\"backgroundcolor\":\"#E5ECF6\",\"gridcolor\":\"white\",\"linecolor\":\"white\",\"showbackground\":true,\"ticks\":\"\",\"zerolinecolor\":\"white\",\"gridwidth\":2},\"yaxis\":{\"backgroundcolor\":\"#E5ECF6\",\"gridcolor\":\"white\",\"linecolor\":\"white\",\"showbackground\":true,\"ticks\":\"\",\"zerolinecolor\":\"white\",\"gridwidth\":2},\"zaxis\":{\"backgroundcolor\":\"#E5ECF6\",\"gridcolor\":\"white\",\"linecolor\":\"white\",\"showbackground\":true,\"ticks\":\"\",\"zerolinecolor\":\"white\",\"gridwidth\":2}},\"shapedefaults\":{\"line\":{\"color\":\"#2a3f5f\"}},\"annotationdefaults\":{\"arrowcolor\":\"#2a3f5f\",\"arrowhead\":0,\"arrowwidth\":1},\"geo\":{\"bgcolor\":\"white\",\"landcolor\":\"#E5ECF6\",\"subunitcolor\":\"white\",\"showland\":true,\"showlakes\":true,\"lakecolor\":\"white\"},\"title\":{\"x\":0.05},\"mapbox\":{\"style\":\"light\"}}},\"title\":{\"text\":\"Top 10 Customers by Sessions Frequency\"}},                        {\"responsive\": true}                    ).then(function(){\n",
       "                            \n",
       "var gd = document.getElementById('209dd786-075b-471e-b0c7-fa3eb9c14dce');\n",
       "var x = new MutationObserver(function (mutations, observer) {{\n",
       "        var display = window.getComputedStyle(gd).display;\n",
       "        if (!display || display === 'none') {{\n",
       "            console.log([gd, 'removed!']);\n",
       "            Plotly.purge(gd);\n",
       "            observer.disconnect();\n",
       "        }}\n",
       "}});\n",
       "\n",
       "// Listen for the removal of the full notebook cells\n",
       "var notebookContainer = gd.closest('#notebook-container');\n",
       "if (notebookContainer) {{\n",
       "    x.observe(notebookContainer, {childList: true});\n",
       "}}\n",
       "\n",
       "// Listen for the clearing of the current output cell\n",
       "var outputEl = gd.closest('.output');\n",
       "if (outputEl) {{\n",
       "    x.observe(outputEl, {childList: true});\n",
       "}}\n",
       "\n",
       "                        })                };                });            </script>        </div>"
      ]
     },
     "metadata": {},
     "output_type": "display_data"
    },
    {
     "data": {
      "application/vnd.plotly.v1+json": {
       "config": {
        "plotlyServerURL": "https://plot.ly"
       },
       "data": [
        {
         "cells": {
          "values": [
           [
            33669260221,
            33661715300,
            33607498825,
            33762601828,
            33760627129,
            33761667219,
            33750343200,
            33666816945,
            33698695185,
            33630495793
           ],
           [
            1,
            1,
            1,
            1,
            1,
            1,
            1,
            1,
            4,
            1
           ],
           [
            1573440000,
            1480920000,
            1474680000,
            1375620000,
            1361760000,
            1357620000,
            1321500000,
            1299360000,
            1209660000,
            1177500000
           ],
           [
            370420998,
            356783538,
            177006936,
            573159372,
            307690973,
            780936456,
            889352748,
            229347660,
            1425854162,
            223473159
           ]
          ]
         },
         "header": {
          "values": [
           "MSISDN/Number",
           "Sessions Frequency",
           "Average Session Duration (ms)",
           "Total Traffic (Bytes)"
          ]
         },
         "type": "table"
        }
       ],
       "layout": {
        "autosize": true,
        "template": {
         "data": {
          "bar": [
           {
            "error_x": {
             "color": "#2a3f5f"
            },
            "error_y": {
             "color": "#2a3f5f"
            },
            "marker": {
             "line": {
              "color": "#E5ECF6",
              "width": 0.5
             },
             "pattern": {
              "fillmode": "overlay",
              "size": 10,
              "solidity": 0.2
             }
            },
            "type": "bar"
           }
          ],
          "barpolar": [
           {
            "marker": {
             "line": {
              "color": "#E5ECF6",
              "width": 0.5
             },
             "pattern": {
              "fillmode": "overlay",
              "size": 10,
              "solidity": 0.2
             }
            },
            "type": "barpolar"
           }
          ],
          "carpet": [
           {
            "aaxis": {
             "endlinecolor": "#2a3f5f",
             "gridcolor": "white",
             "linecolor": "white",
             "minorgridcolor": "white",
             "startlinecolor": "#2a3f5f"
            },
            "baxis": {
             "endlinecolor": "#2a3f5f",
             "gridcolor": "white",
             "linecolor": "white",
             "minorgridcolor": "white",
             "startlinecolor": "#2a3f5f"
            },
            "type": "carpet"
           }
          ],
          "choropleth": [
           {
            "colorbar": {
             "outlinewidth": 0,
             "ticks": ""
            },
            "type": "choropleth"
           }
          ],
          "contour": [
           {
            "colorbar": {
             "outlinewidth": 0,
             "ticks": ""
            },
            "colorscale": [
             [
              0,
              "#0d0887"
             ],
             [
              0.1111111111111111,
              "#46039f"
             ],
             [
              0.2222222222222222,
              "#7201a8"
             ],
             [
              0.3333333333333333,
              "#9c179e"
             ],
             [
              0.4444444444444444,
              "#bd3786"
             ],
             [
              0.5555555555555556,
              "#d8576b"
             ],
             [
              0.6666666666666666,
              "#ed7953"
             ],
             [
              0.7777777777777778,
              "#fb9f3a"
             ],
             [
              0.8888888888888888,
              "#fdca26"
             ],
             [
              1,
              "#f0f921"
             ]
            ],
            "type": "contour"
           }
          ],
          "contourcarpet": [
           {
            "colorbar": {
             "outlinewidth": 0,
             "ticks": ""
            },
            "type": "contourcarpet"
           }
          ],
          "heatmap": [
           {
            "colorbar": {
             "outlinewidth": 0,
             "ticks": ""
            },
            "colorscale": [
             [
              0,
              "#0d0887"
             ],
             [
              0.1111111111111111,
              "#46039f"
             ],
             [
              0.2222222222222222,
              "#7201a8"
             ],
             [
              0.3333333333333333,
              "#9c179e"
             ],
             [
              0.4444444444444444,
              "#bd3786"
             ],
             [
              0.5555555555555556,
              "#d8576b"
             ],
             [
              0.6666666666666666,
              "#ed7953"
             ],
             [
              0.7777777777777778,
              "#fb9f3a"
             ],
             [
              0.8888888888888888,
              "#fdca26"
             ],
             [
              1,
              "#f0f921"
             ]
            ],
            "type": "heatmap"
           }
          ],
          "heatmapgl": [
           {
            "colorbar": {
             "outlinewidth": 0,
             "ticks": ""
            },
            "colorscale": [
             [
              0,
              "#0d0887"
             ],
             [
              0.1111111111111111,
              "#46039f"
             ],
             [
              0.2222222222222222,
              "#7201a8"
             ],
             [
              0.3333333333333333,
              "#9c179e"
             ],
             [
              0.4444444444444444,
              "#bd3786"
             ],
             [
              0.5555555555555556,
              "#d8576b"
             ],
             [
              0.6666666666666666,
              "#ed7953"
             ],
             [
              0.7777777777777778,
              "#fb9f3a"
             ],
             [
              0.8888888888888888,
              "#fdca26"
             ],
             [
              1,
              "#f0f921"
             ]
            ],
            "type": "heatmapgl"
           }
          ],
          "histogram": [
           {
            "marker": {
             "pattern": {
              "fillmode": "overlay",
              "size": 10,
              "solidity": 0.2
             }
            },
            "type": "histogram"
           }
          ],
          "histogram2d": [
           {
            "colorbar": {
             "outlinewidth": 0,
             "ticks": ""
            },
            "colorscale": [
             [
              0,
              "#0d0887"
             ],
             [
              0.1111111111111111,
              "#46039f"
             ],
             [
              0.2222222222222222,
              "#7201a8"
             ],
             [
              0.3333333333333333,
              "#9c179e"
             ],
             [
              0.4444444444444444,
              "#bd3786"
             ],
             [
              0.5555555555555556,
              "#d8576b"
             ],
             [
              0.6666666666666666,
              "#ed7953"
             ],
             [
              0.7777777777777778,
              "#fb9f3a"
             ],
             [
              0.8888888888888888,
              "#fdca26"
             ],
             [
              1,
              "#f0f921"
             ]
            ],
            "type": "histogram2d"
           }
          ],
          "histogram2dcontour": [
           {
            "colorbar": {
             "outlinewidth": 0,
             "ticks": ""
            },
            "colorscale": [
             [
              0,
              "#0d0887"
             ],
             [
              0.1111111111111111,
              "#46039f"
             ],
             [
              0.2222222222222222,
              "#7201a8"
             ],
             [
              0.3333333333333333,
              "#9c179e"
             ],
             [
              0.4444444444444444,
              "#bd3786"
             ],
             [
              0.5555555555555556,
              "#d8576b"
             ],
             [
              0.6666666666666666,
              "#ed7953"
             ],
             [
              0.7777777777777778,
              "#fb9f3a"
             ],
             [
              0.8888888888888888,
              "#fdca26"
             ],
             [
              1,
              "#f0f921"
             ]
            ],
            "type": "histogram2dcontour"
           }
          ],
          "mesh3d": [
           {
            "colorbar": {
             "outlinewidth": 0,
             "ticks": ""
            },
            "type": "mesh3d"
           }
          ],
          "parcoords": [
           {
            "line": {
             "colorbar": {
              "outlinewidth": 0,
              "ticks": ""
             }
            },
            "type": "parcoords"
           }
          ],
          "pie": [
           {
            "automargin": true,
            "type": "pie"
           }
          ],
          "scatter": [
           {
            "fillpattern": {
             "fillmode": "overlay",
             "size": 10,
             "solidity": 0.2
            },
            "type": "scatter"
           }
          ],
          "scatter3d": [
           {
            "line": {
             "colorbar": {
              "outlinewidth": 0,
              "ticks": ""
             }
            },
            "marker": {
             "colorbar": {
              "outlinewidth": 0,
              "ticks": ""
             }
            },
            "type": "scatter3d"
           }
          ],
          "scattercarpet": [
           {
            "marker": {
             "colorbar": {
              "outlinewidth": 0,
              "ticks": ""
             }
            },
            "type": "scattercarpet"
           }
          ],
          "scattergeo": [
           {
            "marker": {
             "colorbar": {
              "outlinewidth": 0,
              "ticks": ""
             }
            },
            "type": "scattergeo"
           }
          ],
          "scattergl": [
           {
            "marker": {
             "colorbar": {
              "outlinewidth": 0,
              "ticks": ""
             }
            },
            "type": "scattergl"
           }
          ],
          "scattermapbox": [
           {
            "marker": {
             "colorbar": {
              "outlinewidth": 0,
              "ticks": ""
             }
            },
            "type": "scattermapbox"
           }
          ],
          "scatterpolar": [
           {
            "marker": {
             "colorbar": {
              "outlinewidth": 0,
              "ticks": ""
             }
            },
            "type": "scatterpolar"
           }
          ],
          "scatterpolargl": [
           {
            "marker": {
             "colorbar": {
              "outlinewidth": 0,
              "ticks": ""
             }
            },
            "type": "scatterpolargl"
           }
          ],
          "scatterternary": [
           {
            "marker": {
             "colorbar": {
              "outlinewidth": 0,
              "ticks": ""
             }
            },
            "type": "scatterternary"
           }
          ],
          "surface": [
           {
            "colorbar": {
             "outlinewidth": 0,
             "ticks": ""
            },
            "colorscale": [
             [
              0,
              "#0d0887"
             ],
             [
              0.1111111111111111,
              "#46039f"
             ],
             [
              0.2222222222222222,
              "#7201a8"
             ],
             [
              0.3333333333333333,
              "#9c179e"
             ],
             [
              0.4444444444444444,
              "#bd3786"
             ],
             [
              0.5555555555555556,
              "#d8576b"
             ],
             [
              0.6666666666666666,
              "#ed7953"
             ],
             [
              0.7777777777777778,
              "#fb9f3a"
             ],
             [
              0.8888888888888888,
              "#fdca26"
             ],
             [
              1,
              "#f0f921"
             ]
            ],
            "type": "surface"
           }
          ],
          "table": [
           {
            "cells": {
             "fill": {
              "color": "#EBF0F8"
             },
             "line": {
              "color": "white"
             }
            },
            "header": {
             "fill": {
              "color": "#C8D4E3"
             },
             "line": {
              "color": "white"
             }
            },
            "type": "table"
           }
          ]
         },
         "layout": {
          "annotationdefaults": {
           "arrowcolor": "#2a3f5f",
           "arrowhead": 0,
           "arrowwidth": 1
          },
          "autotypenumbers": "strict",
          "coloraxis": {
           "colorbar": {
            "outlinewidth": 0,
            "ticks": ""
           }
          },
          "colorscale": {
           "diverging": [
            [
             0,
             "#8e0152"
            ],
            [
             0.1,
             "#c51b7d"
            ],
            [
             0.2,
             "#de77ae"
            ],
            [
             0.3,
             "#f1b6da"
            ],
            [
             0.4,
             "#fde0ef"
            ],
            [
             0.5,
             "#f7f7f7"
            ],
            [
             0.6,
             "#e6f5d0"
            ],
            [
             0.7,
             "#b8e186"
            ],
            [
             0.8,
             "#7fbc41"
            ],
            [
             0.9,
             "#4d9221"
            ],
            [
             1,
             "#276419"
            ]
           ],
           "sequential": [
            [
             0,
             "#0d0887"
            ],
            [
             0.1111111111111111,
             "#46039f"
            ],
            [
             0.2222222222222222,
             "#7201a8"
            ],
            [
             0.3333333333333333,
             "#9c179e"
            ],
            [
             0.4444444444444444,
             "#bd3786"
            ],
            [
             0.5555555555555556,
             "#d8576b"
            ],
            [
             0.6666666666666666,
             "#ed7953"
            ],
            [
             0.7777777777777778,
             "#fb9f3a"
            ],
            [
             0.8888888888888888,
             "#fdca26"
            ],
            [
             1,
             "#f0f921"
            ]
           ],
           "sequentialminus": [
            [
             0,
             "#0d0887"
            ],
            [
             0.1111111111111111,
             "#46039f"
            ],
            [
             0.2222222222222222,
             "#7201a8"
            ],
            [
             0.3333333333333333,
             "#9c179e"
            ],
            [
             0.4444444444444444,
             "#bd3786"
            ],
            [
             0.5555555555555556,
             "#d8576b"
            ],
            [
             0.6666666666666666,
             "#ed7953"
            ],
            [
             0.7777777777777778,
             "#fb9f3a"
            ],
            [
             0.8888888888888888,
             "#fdca26"
            ],
            [
             1,
             "#f0f921"
            ]
           ]
          },
          "colorway": [
           "#636efa",
           "#EF553B",
           "#00cc96",
           "#ab63fa",
           "#FFA15A",
           "#19d3f3",
           "#FF6692",
           "#B6E880",
           "#FF97FF",
           "#FECB52"
          ],
          "font": {
           "color": "#2a3f5f"
          },
          "geo": {
           "bgcolor": "white",
           "lakecolor": "white",
           "landcolor": "#E5ECF6",
           "showlakes": true,
           "showland": true,
           "subunitcolor": "white"
          },
          "hoverlabel": {
           "align": "left"
          },
          "hovermode": "closest",
          "mapbox": {
           "style": "light"
          },
          "paper_bgcolor": "white",
          "plot_bgcolor": "#E5ECF6",
          "polar": {
           "angularaxis": {
            "gridcolor": "white",
            "linecolor": "white",
            "ticks": ""
           },
           "bgcolor": "#E5ECF6",
           "radialaxis": {
            "gridcolor": "white",
            "linecolor": "white",
            "ticks": ""
           }
          },
          "scene": {
           "xaxis": {
            "backgroundcolor": "#E5ECF6",
            "gridcolor": "white",
            "gridwidth": 2,
            "linecolor": "white",
            "showbackground": true,
            "ticks": "",
            "zerolinecolor": "white"
           },
           "yaxis": {
            "backgroundcolor": "#E5ECF6",
            "gridcolor": "white",
            "gridwidth": 2,
            "linecolor": "white",
            "showbackground": true,
            "ticks": "",
            "zerolinecolor": "white"
           },
           "zaxis": {
            "backgroundcolor": "#E5ECF6",
            "gridcolor": "white",
            "gridwidth": 2,
            "linecolor": "white",
            "showbackground": true,
            "ticks": "",
            "zerolinecolor": "white"
           }
          },
          "shapedefaults": {
           "line": {
            "color": "#2a3f5f"
           }
          },
          "ternary": {
           "aaxis": {
            "gridcolor": "white",
            "linecolor": "white",
            "ticks": ""
           },
           "baxis": {
            "gridcolor": "white",
            "linecolor": "white",
            "ticks": ""
           },
           "bgcolor": "#E5ECF6",
           "caxis": {
            "gridcolor": "white",
            "linecolor": "white",
            "ticks": ""
           }
          },
          "title": {
           "x": 0.05
          },
          "xaxis": {
           "automargin": true,
           "gridcolor": "white",
           "linecolor": "white",
           "ticks": "",
           "title": {
            "standoff": 15
           },
           "zerolinecolor": "white",
           "zerolinewidth": 2
          },
          "yaxis": {
           "automargin": true,
           "gridcolor": "white",
           "linecolor": "white",
           "ticks": "",
           "title": {
            "standoff": 15
           },
           "zerolinecolor": "white",
           "zerolinewidth": 2
          }
         }
        },
        "title": {
         "text": "Top 10 Customers by Average Session Duration"
        }
       }
      },
      "image/png": "[encoded data removed]",
      "text/html": [
       "<div>                            <div id=\"4afab63c-505a-4548-ba95-e0eee97c1277\" class=\"plotly-graph-div\" style=\"height:525px; width:100%;\"></div>            <script type=\"text/javascript\">                require([\"plotly\"], function(Plotly) {                    window.PLOTLYENV=window.PLOTLYENV || {};                                    if (document.getElementById(\"4afab63c-505a-4548-ba95-e0eee97c1277\")) {                    Plotly.newPlot(                        \"4afab63c-505a-4548-ba95-e0eee97c1277\",                        [{\"cells\":{\"values\":[[33669260221.0,33661715300.0,33607498825.0,33762601828.0,33760627129.0,33761667219.0,33750343200.0,33666816945.0,33698695185.0,33630495793.0],[1.0,1.0,1.0,1.0,1.0,1.0,1.0,1.0,4.0,1.0],[1573440000.0,1480920000.0,1474680000.0,1375620000.0,1361760000.0,1357620000.0,1321500000.0,1299360000.0,1209660000.0,1177500000.0],[370420998.0,356783538.0,177006936.0,573159372.0,307690973.0,780936456.0,889352748.0,229347660.0,1425854162.0,223473159.0]]},\"header\":{\"values\":[\"MSISDN\\u002fNumber\",\"Sessions Frequency\",\"Average Session Duration (ms)\",\"Total Traffic (Bytes)\"]},\"type\":\"table\"}],                        {\"template\":{\"data\":{\"histogram2dcontour\":[{\"type\":\"histogram2dcontour\",\"colorbar\":{\"outlinewidth\":0,\"ticks\":\"\"},\"colorscale\":[[0.0,\"#0d0887\"],[0.1111111111111111,\"#46039f\"],[0.2222222222222222,\"#7201a8\"],[0.3333333333333333,\"#9c179e\"],[0.4444444444444444,\"#bd3786\"],[0.5555555555555556,\"#d8576b\"],[0.6666666666666666,\"#ed7953\"],[0.7777777777777778,\"#fb9f3a\"],[0.8888888888888888,\"#fdca26\"],[1.0,\"#f0f921\"]]}],\"choropleth\":[{\"type\":\"choropleth\",\"colorbar\":{\"outlinewidth\":0,\"ticks\":\"\"}}],\"histogram2d\":[{\"type\":\"histogram2d\",\"colorbar\":{\"outlinewidth\":0,\"ticks\":\"\"},\"colorscale\":[[0.0,\"#0d0887\"],[0.1111111111111111,\"#46039f\"],[0.2222222222222222,\"#7201a8\"],[0.3333333333333333,\"#9c179e\"],[0.4444444444444444,\"#bd3786\"],[0.5555555555555556,\"#d8576b\"],[0.6666666666666666,\"#ed7953\"],[0.7777777777777778,\"#fb9f3a\"],[0.8888888888888888,\"#fdca26\"],[1.0,\"#f0f921\"]]}],\"heatmap\":[{\"type\":\"heatmap\",\"colorbar\":{\"outlinewidth\":0,\"ticks\":\"\"},\"colorscale\":[[0.0,\"#0d0887\"],[0.1111111111111111,\"#46039f\"],[0.2222222222222222,\"#7201a8\"],[0.3333333333333333,\"#9c179e\"],[0.4444444444444444,\"#bd3786\"],[0.5555555555555556,\"#d8576b\"],[0.6666666666666666,\"#ed7953\"],[0.7777777777777778,\"#fb9f3a\"],[0.8888888888888888,\"#fdca26\"],[1.0,\"#f0f921\"]]}],\"heatmapgl\":[{\"type\":\"heatmapgl\",\"colorbar\":{\"outlinewidth\":0,\"ticks\":\"\"},\"colorscale\":[[0.0,\"#0d0887\"],[0.1111111111111111,\"#46039f\"],[0.2222222222222222,\"#7201a8\"],[0.3333333333333333,\"#9c179e\"],[0.4444444444444444,\"#bd3786\"],[0.5555555555555556,\"#d8576b\"],[0.6666666666666666,\"#ed7953\"],[0.7777777777777778,\"#fb9f3a\"],[0.8888888888888888,\"#fdca26\"],[1.0,\"#f0f921\"]]}],\"contourcarpet\":[{\"type\":\"contourcarpet\",\"colorbar\":{\"outlinewidth\":0,\"ticks\":\"\"}}],\"contour\":[{\"type\":\"contour\",\"colorbar\":{\"outlinewidth\":0,\"ticks\":\"\"},\"colorscale\":[[0.0,\"#0d0887\"],[0.1111111111111111,\"#46039f\"],[0.2222222222222222,\"#7201a8\"],[0.3333333333333333,\"#9c179e\"],[0.4444444444444444,\"#bd3786\"],[0.5555555555555556,\"#d8576b\"],[0.6666666666666666,\"#ed7953\"],[0.7777777777777778,\"#fb9f3a\"],[0.8888888888888888,\"#fdca26\"],[1.0,\"#f0f921\"]]}],\"surface\":[{\"type\":\"surface\",\"colorbar\":{\"outlinewidth\":0,\"ticks\":\"\"},\"colorscale\":[[0.0,\"#0d0887\"],[0.1111111111111111,\"#46039f\"],[0.2222222222222222,\"#7201a8\"],[0.3333333333333333,\"#9c179e\"],[0.4444444444444444,\"#bd3786\"],[0.5555555555555556,\"#d8576b\"],[0.6666666666666666,\"#ed7953\"],[0.7777777777777778,\"#fb9f3a\"],[0.8888888888888888,\"#fdca26\"],[1.0,\"#f0f921\"]]}],\"mesh3d\":[{\"type\":\"mesh3d\",\"colorbar\":{\"outlinewidth\":0,\"ticks\":\"\"}}],\"scatter\":[{\"fillpattern\":{\"fillmode\":\"overlay\",\"size\":10,\"solidity\":0.2},\"type\":\"scatter\"}],\"parcoords\":[{\"type\":\"parcoords\",\"line\":{\"colorbar\":{\"outlinewidth\":0,\"ticks\":\"\"}}}],\"scatterpolargl\":[{\"type\":\"scatterpolargl\",\"marker\":{\"colorbar\":{\"outlinewidth\":0,\"ticks\":\"\"}}}],\"bar\":[{\"error_x\":{\"color\":\"#2a3f5f\"},\"error_y\":{\"color\":\"#2a3f5f\"},\"marker\":{\"line\":{\"color\":\"#E5ECF6\",\"width\":0.5},\"pattern\":{\"fillmode\":\"overlay\",\"size\":10,\"solidity\":0.2}},\"type\":\"bar\"}],\"scattergeo\":[{\"type\":\"scattergeo\",\"marker\":{\"colorbar\":{\"outlinewidth\":0,\"ticks\":\"\"}}}],\"scatterpolar\":[{\"type\":\"scatterpolar\",\"marker\":{\"colorbar\":{\"outlinewidth\":0,\"ticks\":\"\"}}}],\"histogram\":[{\"marker\":{\"pattern\":{\"fillmode\":\"overlay\",\"size\":10,\"solidity\":0.2}},\"type\":\"histogram\"}],\"scattergl\":[{\"type\":\"scattergl\",\"marker\":{\"colorbar\":{\"outlinewidth\":0,\"ticks\":\"\"}}}],\"scatter3d\":[{\"type\":\"scatter3d\",\"line\":{\"colorbar\":{\"outlinewidth\":0,\"ticks\":\"\"}},\"marker\":{\"colorbar\":{\"outlinewidth\":0,\"ticks\":\"\"}}}],\"scattermapbox\":[{\"type\":\"scattermapbox\",\"marker\":{\"colorbar\":{\"outlinewidth\":0,\"ticks\":\"\"}}}],\"scatterternary\":[{\"type\":\"scatterternary\",\"marker\":{\"colorbar\":{\"outlinewidth\":0,\"ticks\":\"\"}}}],\"scattercarpet\":[{\"type\":\"scattercarpet\",\"marker\":{\"colorbar\":{\"outlinewidth\":0,\"ticks\":\"\"}}}],\"carpet\":[{\"aaxis\":{\"endlinecolor\":\"#2a3f5f\",\"gridcolor\":\"white\",\"linecolor\":\"white\",\"minorgridcolor\":\"white\",\"startlinecolor\":\"#2a3f5f\"},\"baxis\":{\"endlinecolor\":\"#2a3f5f\",\"gridcolor\":\"white\",\"linecolor\":\"white\",\"minorgridcolor\":\"white\",\"startlinecolor\":\"#2a3f5f\"},\"type\":\"carpet\"}],\"table\":[{\"cells\":{\"fill\":{\"color\":\"#EBF0F8\"},\"line\":{\"color\":\"white\"}},\"header\":{\"fill\":{\"color\":\"#C8D4E3\"},\"line\":{\"color\":\"white\"}},\"type\":\"table\"}],\"barpolar\":[{\"marker\":{\"line\":{\"color\":\"#E5ECF6\",\"width\":0.5},\"pattern\":{\"fillmode\":\"overlay\",\"size\":10,\"solidity\":0.2}},\"type\":\"barpolar\"}],\"pie\":[{\"automargin\":true,\"type\":\"pie\"}]},\"layout\":{\"autotypenumbers\":\"strict\",\"colorway\":[\"#636efa\",\"#EF553B\",\"#00cc96\",\"#ab63fa\",\"#FFA15A\",\"#19d3f3\",\"#FF6692\",\"#B6E880\",\"#FF97FF\",\"#FECB52\"],\"font\":{\"color\":\"#2a3f5f\"},\"hovermode\":\"closest\",\"hoverlabel\":{\"align\":\"left\"},\"paper_bgcolor\":\"white\",\"plot_bgcolor\":\"#E5ECF6\",\"polar\":{\"bgcolor\":\"#E5ECF6\",\"angularaxis\":{\"gridcolor\":\"white\",\"linecolor\":\"white\",\"ticks\":\"\"},\"radialaxis\":{\"gridcolor\":\"white\",\"linecolor\":\"white\",\"ticks\":\"\"}},\"ternary\":{\"bgcolor\":\"#E5ECF6\",\"aaxis\":{\"gridcolor\":\"white\",\"linecolor\":\"white\",\"ticks\":\"\"},\"baxis\":{\"gridcolor\":\"white\",\"linecolor\":\"white\",\"ticks\":\"\"},\"caxis\":{\"gridcolor\":\"white\",\"linecolor\":\"white\",\"ticks\":\"\"}},\"coloraxis\":{\"colorbar\":{\"outlinewidth\":0,\"ticks\":\"\"}},\"colorscale\":{\"sequential\":[[0.0,\"#0d0887\"],[0.1111111111111111,\"#46039f\"],[0.2222222222222222,\"#7201a8\"],[0.3333333333333333,\"#9c179e\"],[0.4444444444444444,\"#bd3786\"],[0.5555555555555556,\"#d8576b\"],[0.6666666666666666,\"#ed7953\"],[0.7777777777777778,\"#fb9f3a\"],[0.8888888888888888,\"#fdca26\"],[1.0,\"#f0f921\"]],\"sequentialminus\":[[0.0,\"#0d0887\"],[0.1111111111111111,\"#46039f\"],[0.2222222222222222,\"#7201a8\"],[0.3333333333333333,\"#9c179e\"],[0.4444444444444444,\"#bd3786\"],[0.5555555555555556,\"#d8576b\"],[0.6666666666666666,\"#ed7953\"],[0.7777777777777778,\"#fb9f3a\"],[0.8888888888888888,\"#fdca26\"],[1.0,\"#f0f921\"]],\"diverging\":[[0,\"#8e0152\"],[0.1,\"#c51b7d\"],[0.2,\"#de77ae\"],[0.3,\"#f1b6da\"],[0.4,\"#fde0ef\"],[0.5,\"#f7f7f7\"],[0.6,\"#e6f5d0\"],[0.7,\"#b8e186\"],[0.8,\"#7fbc41\"],[0.9,\"#4d9221\"],[1,\"#276419\"]]},\"xaxis\":{\"gridcolor\":\"white\",\"linecolor\":\"white\",\"ticks\":\"\",\"title\":{\"standoff\":15},\"zerolinecolor\":\"white\",\"automargin\":true,\"zerolinewidth\":2},\"yaxis\":{\"gridcolor\":\"white\",\"linecolor\":\"white\",\"ticks\":\"\",\"title\":{\"standoff\":15},\"zerolinecolor\":\"white\",\"automargin\":true,\"zerolinewidth\":2},\"scene\":{\"xaxis\":{\"backgroundcolor\":\"#E5ECF6\",\"gridcolor\":\"white\",\"linecolor\":\"white\",\"showbackground\":true,\"ticks\":\"\",\"zerolinecolor\":\"white\",\"gridwidth\":2},\"yaxis\":{\"backgroundcolor\":\"#E5ECF6\",\"gridcolor\":\"white\",\"linecolor\":\"white\",\"showbackground\":true,\"ticks\":\"\",\"zerolinecolor\":\"white\",\"gridwidth\":2},\"zaxis\":{\"backgroundcolor\":\"#E5ECF6\",\"gridcolor\":\"white\",\"linecolor\":\"white\",\"showbackground\":true,\"ticks\":\"\",\"zerolinecolor\":\"white\",\"gridwidth\":2}},\"shapedefaults\":{\"line\":{\"color\":\"#2a3f5f\"}},\"annotationdefaults\":{\"arrowcolor\":\"#2a3f5f\",\"arrowhead\":0,\"arrowwidth\":1},\"geo\":{\"bgcolor\":\"white\",\"landcolor\":\"#E5ECF6\",\"subunitcolor\":\"white\",\"showland\":true,\"showlakes\":true,\"lakecolor\":\"white\"},\"title\":{\"x\":0.05},\"mapbox\":{\"style\":\"light\"}}},\"title\":{\"text\":\"Top 10 Customers by Average Session Duration\"}},                        {\"responsive\": true}                    ).then(function(){\n",
       "                            \n",
       "var gd = document.getElementById('4afab63c-505a-4548-ba95-e0eee97c1277');\n",
       "var x = new MutationObserver(function (mutations, observer) {{\n",
       "        var display = window.getComputedStyle(gd).display;\n",
       "        if (!display || display === 'none') {{\n",
       "            console.log([gd, 'removed!']);\n",
       "            Plotly.purge(gd);\n",
       "            observer.disconnect();\n",
       "        }}\n",
       "}});\n",
       "\n",
       "// Listen for the removal of the full notebook cells\n",
       "var notebookContainer = gd.closest('#notebook-container');\n",
       "if (notebookContainer) {{\n",
       "    x.observe(notebookContainer, {childList: true});\n",
       "}}\n",
       "\n",
       "// Listen for the clearing of the current output cell\n",
       "var outputEl = gd.closest('.output');\n",
       "if (outputEl) {{\n",
       "    x.observe(outputEl, {childList: true});\n",
       "}}\n",
       "\n",
       "                        })                };                });            </script>        </div>"
      ]
     },
     "metadata": {},
     "output_type": "display_data"
    },
    {
     "data": {
      "application/vnd.plotly.v1+json": {
       "config": {
        "plotlyServerURL": "https://plot.ly"
       },
       "data": [
        {
         "cells": {
          "values": [
           [
            33614892860,
            33760536639,
            33625779332,
            33626320676,
            33675877202,
            33659725664,
            33666464084,
            33760413819,
            33664712899,
            33698792269
           ],
           [
            17,
            15,
            17,
            18,
            15,
            16,
            11,
            12,
            11,
            11
           ],
           [
            586305882.3529412,
            618644000,
            1091396470.5882354,
            488460000,
            324376000,
            252202500,
            412450909.09090906,
            443485000,
            266181818.1818182,
            469925454.54545456
           ],
           [
            8846226494,
            8514773963,
            8499620722,
            7971167261,
            7891110608,
            7705862783,
            7308500938,
            7132370514,
            6872018208,
            6540899126
           ]
          ]
         },
         "header": {
          "values": [
           "MSISDN/Number",
           "Sessions Frequency",
           "Average Session Duration (ms)",
           "Total Traffic (Bytes)"
          ]
         },
         "type": "table"
        }
       ],
       "layout": {
        "autosize": true,
        "template": {
         "data": {
          "bar": [
           {
            "error_x": {
             "color": "#2a3f5f"
            },
            "error_y": {
             "color": "#2a3f5f"
            },
            "marker": {
             "line": {
              "color": "#E5ECF6",
              "width": 0.5
             },
             "pattern": {
              "fillmode": "overlay",
              "size": 10,
              "solidity": 0.2
             }
            },
            "type": "bar"
           }
          ],
          "barpolar": [
           {
            "marker": {
             "line": {
              "color": "#E5ECF6",
              "width": 0.5
             },
             "pattern": {
              "fillmode": "overlay",
              "size": 10,
              "solidity": 0.2
             }
            },
            "type": "barpolar"
           }
          ],
          "carpet": [
           {
            "aaxis": {
             "endlinecolor": "#2a3f5f",
             "gridcolor": "white",
             "linecolor": "white",
             "minorgridcolor": "white",
             "startlinecolor": "#2a3f5f"
            },
            "baxis": {
             "endlinecolor": "#2a3f5f",
             "gridcolor": "white",
             "linecolor": "white",
             "minorgridcolor": "white",
             "startlinecolor": "#2a3f5f"
            },
            "type": "carpet"
           }
          ],
          "choropleth": [
           {
            "colorbar": {
             "outlinewidth": 0,
             "ticks": ""
            },
            "type": "choropleth"
           }
          ],
          "contour": [
           {
            "colorbar": {
             "outlinewidth": 0,
             "ticks": ""
            },
            "colorscale": [
             [
              0,
              "#0d0887"
             ],
             [
              0.1111111111111111,
              "#46039f"
             ],
             [
              0.2222222222222222,
              "#7201a8"
             ],
             [
              0.3333333333333333,
              "#9c179e"
             ],
             [
              0.4444444444444444,
              "#bd3786"
             ],
             [
              0.5555555555555556,
              "#d8576b"
             ],
             [
              0.6666666666666666,
              "#ed7953"
             ],
             [
              0.7777777777777778,
              "#fb9f3a"
             ],
             [
              0.8888888888888888,
              "#fdca26"
             ],
             [
              1,
              "#f0f921"
             ]
            ],
            "type": "contour"
           }
          ],
          "contourcarpet": [
           {
            "colorbar": {
             "outlinewidth": 0,
             "ticks": ""
            },
            "type": "contourcarpet"
           }
          ],
          "heatmap": [
           {
            "colorbar": {
             "outlinewidth": 0,
             "ticks": ""
            },
            "colorscale": [
             [
              0,
              "#0d0887"
             ],
             [
              0.1111111111111111,
              "#46039f"
             ],
             [
              0.2222222222222222,
              "#7201a8"
             ],
             [
              0.3333333333333333,
              "#9c179e"
             ],
             [
              0.4444444444444444,
              "#bd3786"
             ],
             [
              0.5555555555555556,
              "#d8576b"
             ],
             [
              0.6666666666666666,
              "#ed7953"
             ],
             [
              0.7777777777777778,
              "#fb9f3a"
             ],
             [
              0.8888888888888888,
              "#fdca26"
             ],
             [
              1,
              "#f0f921"
             ]
            ],
            "type": "heatmap"
           }
          ],
          "heatmapgl": [
           {
            "colorbar": {
             "outlinewidth": 0,
             "ticks": ""
            },
            "colorscale": [
             [
              0,
              "#0d0887"
             ],
             [
              0.1111111111111111,
              "#46039f"
             ],
             [
              0.2222222222222222,
              "#7201a8"
             ],
             [
              0.3333333333333333,
              "#9c179e"
             ],
             [
              0.4444444444444444,
              "#bd3786"
             ],
             [
              0.5555555555555556,
              "#d8576b"
             ],
             [
              0.6666666666666666,
              "#ed7953"
             ],
             [
              0.7777777777777778,
              "#fb9f3a"
             ],
             [
              0.8888888888888888,
              "#fdca26"
             ],
             [
              1,
              "#f0f921"
             ]
            ],
            "type": "heatmapgl"
           }
          ],
          "histogram": [
           {
            "marker": {
             "pattern": {
              "fillmode": "overlay",
              "size": 10,
              "solidity": 0.2
             }
            },
            "type": "histogram"
           }
          ],
          "histogram2d": [
           {
            "colorbar": {
             "outlinewidth": 0,
             "ticks": ""
            },
            "colorscale": [
             [
              0,
              "#0d0887"
             ],
             [
              0.1111111111111111,
              "#46039f"
             ],
             [
              0.2222222222222222,
              "#7201a8"
             ],
             [
              0.3333333333333333,
              "#9c179e"
             ],
             [
              0.4444444444444444,
              "#bd3786"
             ],
             [
              0.5555555555555556,
              "#d8576b"
             ],
             [
              0.6666666666666666,
              "#ed7953"
             ],
             [
              0.7777777777777778,
              "#fb9f3a"
             ],
             [
              0.8888888888888888,
              "#fdca26"
             ],
             [
              1,
              "#f0f921"
             ]
            ],
            "type": "histogram2d"
           }
          ],
          "histogram2dcontour": [
           {
            "colorbar": {
             "outlinewidth": 0,
             "ticks": ""
            },
            "colorscale": [
             [
              0,
              "#0d0887"
             ],
             [
              0.1111111111111111,
              "#46039f"
             ],
             [
              0.2222222222222222,
              "#7201a8"
             ],
             [
              0.3333333333333333,
              "#9c179e"
             ],
             [
              0.4444444444444444,
              "#bd3786"
             ],
             [
              0.5555555555555556,
              "#d8576b"
             ],
             [
              0.6666666666666666,
              "#ed7953"
             ],
             [
              0.7777777777777778,
              "#fb9f3a"
             ],
             [
              0.8888888888888888,
              "#fdca26"
             ],
             [
              1,
              "#f0f921"
             ]
            ],
            "type": "histogram2dcontour"
           }
          ],
          "mesh3d": [
           {
            "colorbar": {
             "outlinewidth": 0,
             "ticks": ""
            },
            "type": "mesh3d"
           }
          ],
          "parcoords": [
           {
            "line": {
             "colorbar": {
              "outlinewidth": 0,
              "ticks": ""
             }
            },
            "type": "parcoords"
           }
          ],
          "pie": [
           {
            "automargin": true,
            "type": "pie"
           }
          ],
          "scatter": [
           {
            "fillpattern": {
             "fillmode": "overlay",
             "size": 10,
             "solidity": 0.2
            },
            "type": "scatter"
           }
          ],
          "scatter3d": [
           {
            "line": {
             "colorbar": {
              "outlinewidth": 0,
              "ticks": ""
             }
            },
            "marker": {
             "colorbar": {
              "outlinewidth": 0,
              "ticks": ""
             }
            },
            "type": "scatter3d"
           }
          ],
          "scattercarpet": [
           {
            "marker": {
             "colorbar": {
              "outlinewidth": 0,
              "ticks": ""
             }
            },
            "type": "scattercarpet"
           }
          ],
          "scattergeo": [
           {
            "marker": {
             "colorbar": {
              "outlinewidth": 0,
              "ticks": ""
             }
            },
            "type": "scattergeo"
           }
          ],
          "scattergl": [
           {
            "marker": {
             "colorbar": {
              "outlinewidth": 0,
              "ticks": ""
             }
            },
            "type": "scattergl"
           }
          ],
          "scattermapbox": [
           {
            "marker": {
             "colorbar": {
              "outlinewidth": 0,
              "ticks": ""
             }
            },
            "type": "scattermapbox"
           }
          ],
          "scatterpolar": [
           {
            "marker": {
             "colorbar": {
              "outlinewidth": 0,
              "ticks": ""
             }
            },
            "type": "scatterpolar"
           }
          ],
          "scatterpolargl": [
           {
            "marker": {
             "colorbar": {
              "outlinewidth": 0,
              "ticks": ""
             }
            },
            "type": "scatterpolargl"
           }
          ],
          "scatterternary": [
           {
            "marker": {
             "colorbar": {
              "outlinewidth": 0,
              "ticks": ""
             }
            },
            "type": "scatterternary"
           }
          ],
          "surface": [
           {
            "colorbar": {
             "outlinewidth": 0,
             "ticks": ""
            },
            "colorscale": [
             [
              0,
              "#0d0887"
             ],
             [
              0.1111111111111111,
              "#46039f"
             ],
             [
              0.2222222222222222,
              "#7201a8"
             ],
             [
              0.3333333333333333,
              "#9c179e"
             ],
             [
              0.4444444444444444,
              "#bd3786"
             ],
             [
              0.5555555555555556,
              "#d8576b"
             ],
             [
              0.6666666666666666,
              "#ed7953"
             ],
             [
              0.7777777777777778,
              "#fb9f3a"
             ],
             [
              0.8888888888888888,
              "#fdca26"
             ],
             [
              1,
              "#f0f921"
             ]
            ],
            "type": "surface"
           }
          ],
          "table": [
           {
            "cells": {
             "fill": {
              "color": "#EBF0F8"
             },
             "line": {
              "color": "white"
             }
            },
            "header": {
             "fill": {
              "color": "#C8D4E3"
             },
             "line": {
              "color": "white"
             }
            },
            "type": "table"
           }
          ]
         },
         "layout": {
          "annotationdefaults": {
           "arrowcolor": "#2a3f5f",
           "arrowhead": 0,
           "arrowwidth": 1
          },
          "autotypenumbers": "strict",
          "coloraxis": {
           "colorbar": {
            "outlinewidth": 0,
            "ticks": ""
           }
          },
          "colorscale": {
           "diverging": [
            [
             0,
             "#8e0152"
            ],
            [
             0.1,
             "#c51b7d"
            ],
            [
             0.2,
             "#de77ae"
            ],
            [
             0.3,
             "#f1b6da"
            ],
            [
             0.4,
             "#fde0ef"
            ],
            [
             0.5,
             "#f7f7f7"
            ],
            [
             0.6,
             "#e6f5d0"
            ],
            [
             0.7,
             "#b8e186"
            ],
            [
             0.8,
             "#7fbc41"
            ],
            [
             0.9,
             "#4d9221"
            ],
            [
             1,
             "#276419"
            ]
           ],
           "sequential": [
            [
             0,
             "#0d0887"
            ],
            [
             0.1111111111111111,
             "#46039f"
            ],
            [
             0.2222222222222222,
             "#7201a8"
            ],
            [
             0.3333333333333333,
             "#9c179e"
            ],
            [
             0.4444444444444444,
             "#bd3786"
            ],
            [
             0.5555555555555556,
             "#d8576b"
            ],
            [
             0.6666666666666666,
             "#ed7953"
            ],
            [
             0.7777777777777778,
             "#fb9f3a"
            ],
            [
             0.8888888888888888,
             "#fdca26"
            ],
            [
             1,
             "#f0f921"
            ]
           ],
           "sequentialminus": [
            [
             0,
             "#0d0887"
            ],
            [
             0.1111111111111111,
             "#46039f"
            ],
            [
             0.2222222222222222,
             "#7201a8"
            ],
            [
             0.3333333333333333,
             "#9c179e"
            ],
            [
             0.4444444444444444,
             "#bd3786"
            ],
            [
             0.5555555555555556,
             "#d8576b"
            ],
            [
             0.6666666666666666,
             "#ed7953"
            ],
            [
             0.7777777777777778,
             "#fb9f3a"
            ],
            [
             0.8888888888888888,
             "#fdca26"
            ],
            [
             1,
             "#f0f921"
            ]
           ]
          },
          "colorway": [
           "#636efa",
           "#EF553B",
           "#00cc96",
           "#ab63fa",
           "#FFA15A",
           "#19d3f3",
           "#FF6692",
           "#B6E880",
           "#FF97FF",
           "#FECB52"
          ],
          "font": {
           "color": "#2a3f5f"
          },
          "geo": {
           "bgcolor": "white",
           "lakecolor": "white",
           "landcolor": "#E5ECF6",
           "showlakes": true,
           "showland": true,
           "subunitcolor": "white"
          },
          "hoverlabel": {
           "align": "left"
          },
          "hovermode": "closest",
          "mapbox": {
           "style": "light"
          },
          "paper_bgcolor": "white",
          "plot_bgcolor": "#E5ECF6",
          "polar": {
           "angularaxis": {
            "gridcolor": "white",
            "linecolor": "white",
            "ticks": ""
           },
           "bgcolor": "#E5ECF6",
           "radialaxis": {
            "gridcolor": "white",
            "linecolor": "white",
            "ticks": ""
           }
          },
          "scene": {
           "xaxis": {
            "backgroundcolor": "#E5ECF6",
            "gridcolor": "white",
            "gridwidth": 2,
            "linecolor": "white",
            "showbackground": true,
            "ticks": "",
            "zerolinecolor": "white"
           },
           "yaxis": {
            "backgroundcolor": "#E5ECF6",
            "gridcolor": "white",
            "gridwidth": 2,
            "linecolor": "white",
            "showbackground": true,
            "ticks": "",
            "zerolinecolor": "white"
           },
           "zaxis": {
            "backgroundcolor": "#E5ECF6",
            "gridcolor": "white",
            "gridwidth": 2,
            "linecolor": "white",
            "showbackground": true,
            "ticks": "",
            "zerolinecolor": "white"
           }
          },
          "shapedefaults": {
           "line": {
            "color": "#2a3f5f"
           }
          },
          "ternary": {
           "aaxis": {
            "gridcolor": "white",
            "linecolor": "white",
            "ticks": ""
           },
           "baxis": {
            "gridcolor": "white",
            "linecolor": "white",
            "ticks": ""
           },
           "bgcolor": "#E5ECF6",
           "caxis": {
            "gridcolor": "white",
            "linecolor": "white",
            "ticks": ""
           }
          },
          "title": {
           "x": 0.05
          },
          "xaxis": {
           "automargin": true,
           "gridcolor": "white",
           "linecolor": "white",
           "ticks": "",
           "title": {
            "standoff": 15
           },
           "zerolinecolor": "white",
           "zerolinewidth": 2
          },
          "yaxis": {
           "automargin": true,
           "gridcolor": "white",
           "linecolor": "white",
           "ticks": "",
           "title": {
            "standoff": 15
           },
           "zerolinecolor": "white",
           "zerolinewidth": 2
          }
         }
        },
        "title": {
         "text": "Top 10 Customers by Total Traffic"
        }
       }
      },
      "image/png": "[encoded data removed]",
      "text/html": [
       "<div>                            <div id=\"0add068a-16df-4729-93ce-2090012fa961\" class=\"plotly-graph-div\" style=\"height:525px; width:100%;\"></div>            <script type=\"text/javascript\">                require([\"plotly\"], function(Plotly) {                    window.PLOTLYENV=window.PLOTLYENV || {};                                    if (document.getElementById(\"0add068a-16df-4729-93ce-2090012fa961\")) {                    Plotly.newPlot(                        \"0add068a-16df-4729-93ce-2090012fa961\",                        [{\"cells\":{\"values\":[[33614892860.0,33760536639.0,33625779332.0,33626320676.0,33675877202.0,33659725664.0,33666464084.0,33760413819.0,33664712899.0,33698792269.0],[17.0,15.0,17.0,18.0,15.0,16.0,11.0,12.0,11.0,11.0],[586305882.3529412,618644000.0,1091396470.5882354,488460000.0,324376000.0,252202500.0,412450909.09090906,443485000.0,266181818.1818182,469925454.54545456],[8846226494.0,8514773963.0,8499620722.0,7971167261.0,7891110608.0,7705862783.0,7308500938.0,7132370514.0,6872018208.0,6540899126.0]]},\"header\":{\"values\":[\"MSISDN\\u002fNumber\",\"Sessions Frequency\",\"Average Session Duration (ms)\",\"Total Traffic (Bytes)\"]},\"type\":\"table\"}],                        {\"template\":{\"data\":{\"histogram2dcontour\":[{\"type\":\"histogram2dcontour\",\"colorbar\":{\"outlinewidth\":0,\"ticks\":\"\"},\"colorscale\":[[0.0,\"#0d0887\"],[0.1111111111111111,\"#46039f\"],[0.2222222222222222,\"#7201a8\"],[0.3333333333333333,\"#9c179e\"],[0.4444444444444444,\"#bd3786\"],[0.5555555555555556,\"#d8576b\"],[0.6666666666666666,\"#ed7953\"],[0.7777777777777778,\"#fb9f3a\"],[0.8888888888888888,\"#fdca26\"],[1.0,\"#f0f921\"]]}],\"choropleth\":[{\"type\":\"choropleth\",\"colorbar\":{\"outlinewidth\":0,\"ticks\":\"\"}}],\"histogram2d\":[{\"type\":\"histogram2d\",\"colorbar\":{\"outlinewidth\":0,\"ticks\":\"\"},\"colorscale\":[[0.0,\"#0d0887\"],[0.1111111111111111,\"#46039f\"],[0.2222222222222222,\"#7201a8\"],[0.3333333333333333,\"#9c179e\"],[0.4444444444444444,\"#bd3786\"],[0.5555555555555556,\"#d8576b\"],[0.6666666666666666,\"#ed7953\"],[0.7777777777777778,\"#fb9f3a\"],[0.8888888888888888,\"#fdca26\"],[1.0,\"#f0f921\"]]}],\"heatmap\":[{\"type\":\"heatmap\",\"colorbar\":{\"outlinewidth\":0,\"ticks\":\"\"},\"colorscale\":[[0.0,\"#0d0887\"],[0.1111111111111111,\"#46039f\"],[0.2222222222222222,\"#7201a8\"],[0.3333333333333333,\"#9c179e\"],[0.4444444444444444,\"#bd3786\"],[0.5555555555555556,\"#d8576b\"],[0.6666666666666666,\"#ed7953\"],[0.7777777777777778,\"#fb9f3a\"],[0.8888888888888888,\"#fdca26\"],[1.0,\"#f0f921\"]]}],\"heatmapgl\":[{\"type\":\"heatmapgl\",\"colorbar\":{\"outlinewidth\":0,\"ticks\":\"\"},\"colorscale\":[[0.0,\"#0d0887\"],[0.1111111111111111,\"#46039f\"],[0.2222222222222222,\"#7201a8\"],[0.3333333333333333,\"#9c179e\"],[0.4444444444444444,\"#bd3786\"],[0.5555555555555556,\"#d8576b\"],[0.6666666666666666,\"#ed7953\"],[0.7777777777777778,\"#fb9f3a\"],[0.8888888888888888,\"#fdca26\"],[1.0,\"#f0f921\"]]}],\"contourcarpet\":[{\"type\":\"contourcarpet\",\"colorbar\":{\"outlinewidth\":0,\"ticks\":\"\"}}],\"contour\":[{\"type\":\"contour\",\"colorbar\":{\"outlinewidth\":0,\"ticks\":\"\"},\"colorscale\":[[0.0,\"#0d0887\"],[0.1111111111111111,\"#46039f\"],[0.2222222222222222,\"#7201a8\"],[0.3333333333333333,\"#9c179e\"],[0.4444444444444444,\"#bd3786\"],[0.5555555555555556,\"#d8576b\"],[0.6666666666666666,\"#ed7953\"],[0.7777777777777778,\"#fb9f3a\"],[0.8888888888888888,\"#fdca26\"],[1.0,\"#f0f921\"]]}],\"surface\":[{\"type\":\"surface\",\"colorbar\":{\"outlinewidth\":0,\"ticks\":\"\"},\"colorscale\":[[0.0,\"#0d0887\"],[0.1111111111111111,\"#46039f\"],[0.2222222222222222,\"#7201a8\"],[0.3333333333333333,\"#9c179e\"],[0.4444444444444444,\"#bd3786\"],[0.5555555555555556,\"#d8576b\"],[0.6666666666666666,\"#ed7953\"],[0.7777777777777778,\"#fb9f3a\"],[0.8888888888888888,\"#fdca26\"],[1.0,\"#f0f921\"]]}],\"mesh3d\":[{\"type\":\"mesh3d\",\"colorbar\":{\"outlinewidth\":0,\"ticks\":\"\"}}],\"scatter\":[{\"fillpattern\":{\"fillmode\":\"overlay\",\"size\":10,\"solidity\":0.2},\"type\":\"scatter\"}],\"parcoords\":[{\"type\":\"parcoords\",\"line\":{\"colorbar\":{\"outlinewidth\":0,\"ticks\":\"\"}}}],\"scatterpolargl\":[{\"type\":\"scatterpolargl\",\"marker\":{\"colorbar\":{\"outlinewidth\":0,\"ticks\":\"\"}}}],\"bar\":[{\"error_x\":{\"color\":\"#2a3f5f\"},\"error_y\":{\"color\":\"#2a3f5f\"},\"marker\":{\"line\":{\"color\":\"#E5ECF6\",\"width\":0.5},\"pattern\":{\"fillmode\":\"overlay\",\"size\":10,\"solidity\":0.2}},\"type\":\"bar\"}],\"scattergeo\":[{\"type\":\"scattergeo\",\"marker\":{\"colorbar\":{\"outlinewidth\":0,\"ticks\":\"\"}}}],\"scatterpolar\":[{\"type\":\"scatterpolar\",\"marker\":{\"colorbar\":{\"outlinewidth\":0,\"ticks\":\"\"}}}],\"histogram\":[{\"marker\":{\"pattern\":{\"fillmode\":\"overlay\",\"size\":10,\"solidity\":0.2}},\"type\":\"histogram\"}],\"scattergl\":[{\"type\":\"scattergl\",\"marker\":{\"colorbar\":{\"outlinewidth\":0,\"ticks\":\"\"}}}],\"scatter3d\":[{\"type\":\"scatter3d\",\"line\":{\"colorbar\":{\"outlinewidth\":0,\"ticks\":\"\"}},\"marker\":{\"colorbar\":{\"outlinewidth\":0,\"ticks\":\"\"}}}],\"scattermapbox\":[{\"type\":\"scattermapbox\",\"marker\":{\"colorbar\":{\"outlinewidth\":0,\"ticks\":\"\"}}}],\"scatterternary\":[{\"type\":\"scatterternary\",\"marker\":{\"colorbar\":{\"outlinewidth\":0,\"ticks\":\"\"}}}],\"scattercarpet\":[{\"type\":\"scattercarpet\",\"marker\":{\"colorbar\":{\"outlinewidth\":0,\"ticks\":\"\"}}}],\"carpet\":[{\"aaxis\":{\"endlinecolor\":\"#2a3f5f\",\"gridcolor\":\"white\",\"linecolor\":\"white\",\"minorgridcolor\":\"white\",\"startlinecolor\":\"#2a3f5f\"},\"baxis\":{\"endlinecolor\":\"#2a3f5f\",\"gridcolor\":\"white\",\"linecolor\":\"white\",\"minorgridcolor\":\"white\",\"startlinecolor\":\"#2a3f5f\"},\"type\":\"carpet\"}],\"table\":[{\"cells\":{\"fill\":{\"color\":\"#EBF0F8\"},\"line\":{\"color\":\"white\"}},\"header\":{\"fill\":{\"color\":\"#C8D4E3\"},\"line\":{\"color\":\"white\"}},\"type\":\"table\"}],\"barpolar\":[{\"marker\":{\"line\":{\"color\":\"#E5ECF6\",\"width\":0.5},\"pattern\":{\"fillmode\":\"overlay\",\"size\":10,\"solidity\":0.2}},\"type\":\"barpolar\"}],\"pie\":[{\"automargin\":true,\"type\":\"pie\"}]},\"layout\":{\"autotypenumbers\":\"strict\",\"colorway\":[\"#636efa\",\"#EF553B\",\"#00cc96\",\"#ab63fa\",\"#FFA15A\",\"#19d3f3\",\"#FF6692\",\"#B6E880\",\"#FF97FF\",\"#FECB52\"],\"font\":{\"color\":\"#2a3f5f\"},\"hovermode\":\"closest\",\"hoverlabel\":{\"align\":\"left\"},\"paper_bgcolor\":\"white\",\"plot_bgcolor\":\"#E5ECF6\",\"polar\":{\"bgcolor\":\"#E5ECF6\",\"angularaxis\":{\"gridcolor\":\"white\",\"linecolor\":\"white\",\"ticks\":\"\"},\"radialaxis\":{\"gridcolor\":\"white\",\"linecolor\":\"white\",\"ticks\":\"\"}},\"ternary\":{\"bgcolor\":\"#E5ECF6\",\"aaxis\":{\"gridcolor\":\"white\",\"linecolor\":\"white\",\"ticks\":\"\"},\"baxis\":{\"gridcolor\":\"white\",\"linecolor\":\"white\",\"ticks\":\"\"},\"caxis\":{\"gridcolor\":\"white\",\"linecolor\":\"white\",\"ticks\":\"\"}},\"coloraxis\":{\"colorbar\":{\"outlinewidth\":0,\"ticks\":\"\"}},\"colorscale\":{\"sequential\":[[0.0,\"#0d0887\"],[0.1111111111111111,\"#46039f\"],[0.2222222222222222,\"#7201a8\"],[0.3333333333333333,\"#9c179e\"],[0.4444444444444444,\"#bd3786\"],[0.5555555555555556,\"#d8576b\"],[0.6666666666666666,\"#ed7953\"],[0.7777777777777778,\"#fb9f3a\"],[0.8888888888888888,\"#fdca26\"],[1.0,\"#f0f921\"]],\"sequentialminus\":[[0.0,\"#0d0887\"],[0.1111111111111111,\"#46039f\"],[0.2222222222222222,\"#7201a8\"],[0.3333333333333333,\"#9c179e\"],[0.4444444444444444,\"#bd3786\"],[0.5555555555555556,\"#d8576b\"],[0.6666666666666666,\"#ed7953\"],[0.7777777777777778,\"#fb9f3a\"],[0.8888888888888888,\"#fdca26\"],[1.0,\"#f0f921\"]],\"diverging\":[[0,\"#8e0152\"],[0.1,\"#c51b7d\"],[0.2,\"#de77ae\"],[0.3,\"#f1b6da\"],[0.4,\"#fde0ef\"],[0.5,\"#f7f7f7\"],[0.6,\"#e6f5d0\"],[0.7,\"#b8e186\"],[0.8,\"#7fbc41\"],[0.9,\"#4d9221\"],[1,\"#276419\"]]},\"xaxis\":{\"gridcolor\":\"white\",\"linecolor\":\"white\",\"ticks\":\"\",\"title\":{\"standoff\":15},\"zerolinecolor\":\"white\",\"automargin\":true,\"zerolinewidth\":2},\"yaxis\":{\"gridcolor\":\"white\",\"linecolor\":\"white\",\"ticks\":\"\",\"title\":{\"standoff\":15},\"zerolinecolor\":\"white\",\"automargin\":true,\"zerolinewidth\":2},\"scene\":{\"xaxis\":{\"backgroundcolor\":\"#E5ECF6\",\"gridcolor\":\"white\",\"linecolor\":\"white\",\"showbackground\":true,\"ticks\":\"\",\"zerolinecolor\":\"white\",\"gridwidth\":2},\"yaxis\":{\"backgroundcolor\":\"#E5ECF6\",\"gridcolor\":\"white\",\"linecolor\":\"white\",\"showbackground\":true,\"ticks\":\"\",\"zerolinecolor\":\"white\",\"gridwidth\":2},\"zaxis\":{\"backgroundcolor\":\"#E5ECF6\",\"gridcolor\":\"white\",\"linecolor\":\"white\",\"showbackground\":true,\"ticks\":\"\",\"zerolinecolor\":\"white\",\"gridwidth\":2}},\"shapedefaults\":{\"line\":{\"color\":\"#2a3f5f\"}},\"annotationdefaults\":{\"arrowcolor\":\"#2a3f5f\",\"arrowhead\":0,\"arrowwidth\":1},\"geo\":{\"bgcolor\":\"white\",\"landcolor\":\"#E5ECF6\",\"subunitcolor\":\"white\",\"showland\":true,\"showlakes\":true,\"lakecolor\":\"white\"},\"title\":{\"x\":0.05},\"mapbox\":{\"style\":\"light\"}}},\"title\":{\"text\":\"Top 10 Customers by Total Traffic\"}},                        {\"responsive\": true}                    ).then(function(){\n",
       "                            \n",
       "var gd = document.getElementById('0add068a-16df-4729-93ce-2090012fa961');\n",
       "var x = new MutationObserver(function (mutations, observer) {{\n",
       "        var display = window.getComputedStyle(gd).display;\n",
       "        if (!display || display === 'none') {{\n",
       "            console.log([gd, 'removed!']);\n",
       "            Plotly.purge(gd);\n",
       "            observer.disconnect();\n",
       "        }}\n",
       "}});\n",
       "\n",
       "// Listen for the removal of the full notebook cells\n",
       "var notebookContainer = gd.closest('#notebook-container');\n",
       "if (notebookContainer) {{\n",
       "    x.observe(notebookContainer, {childList: true});\n",
       "}}\n",
       "\n",
       "// Listen for the clearing of the current output cell\n",
       "var outputEl = gd.closest('.output');\n",
       "if (outputEl) {{\n",
       "    x.observe(outputEl, {childList: true});\n",
       "}}\n",
       "\n",
       "                        })                };                });            </script>        </div>"
      ]
     },
     "metadata": {},
     "output_type": "display_data"
    }
   ],
   "source": [
    "# Reset the index for top 10 customers dataframes\n",
    "top_10_sessions_frequency_data = top_10_sessions_frequency.reset_index()\n",
    "top_10_average_duration_data = top_10_average_duration.reset_index()\n",
    "top_10_total_traffic_data = top_10_total_traffic.reset_index()\n",
    "\n",
    "# Define the data for the top 10 customers\n",
    "top_10_sessions_frequency_data = top_10_sessions_frequency_data[['MSISDN/Number', 'Sessions Frequency', 'Average Session Duration (ms)', 'Total Traffic (Bytes)']]\n",
    "top_10_average_duration_data = top_10_average_duration_data[['MSISDN/Number', 'Sessions Frequency', 'Average Session Duration (ms)', 'Total Traffic (Bytes)']]\n",
    "top_10_total_traffic_data = top_10_total_traffic_data[['MSISDN/Number', 'Sessions Frequency', 'Average Session Duration (ms)', 'Total Traffic (Bytes)']]\n",
    "\n",
    "def create_full_table(dataframe, title):\n",
    "    fig = go.Figure(data=[go.Table(\n",
    "        header=dict(values=dataframe.columns),\n",
    "        cells=dict(values=dataframe.transpose().values.tolist())\n",
    "    )])\n",
    "    fig.update_layout(title=title)\n",
    "    return fig\n",
    "\n",
    "# Create tables using plotly\n",
    "fig_sessions_frequency = create_full_table(top_10_sessions_frequency_data, \"Top 10 Customers by Sessions Frequency\")\n",
    "fig_average_duration = create_full_table(top_10_average_duration_data, \"Top 10 Customers by Average Session Duration\")\n",
    "fig_total_traffic = create_full_table(top_10_total_traffic_data, \"Top 10 Customers by Total Traffic\")\n",
    "\n",
    "# Show the tables\n",
    "fig_sessions_frequency.show()\n",
    "fig_average_duration.show()\n",
    "fig_total_traffic.show()"
   ]
  },
  {
   "cell_type": "code",
   "execution_count": 19,
   "id": "45a019cb-5001-4e57-b90b-7c22cfb79840",
   "metadata": {},
   "outputs": [
    {
     "name": "stderr",
     "output_type": "stream",
     "text": [
      "C:\\Users\\Abel\\Documents\\10 Academy\\Week-1\\10-Academy-Week-1\\week1\\lib\\site-packages\\sklearn\\cluster\\_kmeans.py:1416: FutureWarning: The default value of `n_init` will change from 10 to 'auto' in 1.4. Set the value of `n_init` explicitly to suppress the warning\n",
      "  super()._check_params_vs_input(X, default_n_init=10)\n"
     ]
    },
    {
     "name": "stdout",
     "output_type": "stream",
     "text": [
      "Customers Classified into 3 Groups of Engagement:\n",
      "               Sessions Frequency  Average Session Duration (ms)  \\\n",
      "MSISDN/Number                                                      \n",
      "3.360100e+10                    1                    116760000.0   \n",
      "3.360100e+10                    1                    181260000.0   \n",
      "3.360100e+10                    1                    135000000.0   \n",
      "3.360101e+10                    1                     49920000.0   \n",
      "3.360101e+10                    2                     18600000.0   \n",
      "...                           ...                            ...   \n",
      "3.379000e+10                    1                      8760000.0   \n",
      "3.379000e+10                    1                    141000000.0   \n",
      "3.197021e+12                    1                    877380000.0   \n",
      "3.370000e+14                    1                    253020000.0   \n",
      "8.823971e+14                    1                    869820000.0   \n",
      "\n",
      "               Total Traffic (Bytes)  Cluster  \n",
      "MSISDN/Number                                  \n",
      "3.360100e+10            8.786906e+08        1  \n",
      "3.360100e+10            1.568596e+08        0  \n",
      "3.360100e+10            5.959665e+08        0  \n",
      "3.360101e+10            4.223207e+08        1  \n",
      "3.360101e+10            1.457411e+09        2  \n",
      "...                              ...      ...  \n",
      "3.379000e+10            7.146416e+08        1  \n",
      "3.379000e+10            4.803073e+08        0  \n",
      "3.197021e+12            2.321240e+08        0  \n",
      "3.370000e+14            5.962878e+08        0  \n",
      "8.823971e+14            1.391536e+08        0  \n",
      "\n",
      "[106856 rows x 4 columns]\n"
     ]
    }
   ],
   "source": [
    "# Normalize the engagement metrics\n",
    "scaler = StandardScaler()\n",
    "normalized_engagement = scaler.fit_transform(user_engagement)\n",
    "\n",
    "# Run k-means clustering with k=3\n",
    "kmeans = KMeans(n_clusters=3, random_state=42)\n",
    "user_engagement['Cluster'] = kmeans.fit_predict(normalized_engagement)\n",
    "\n",
    "# Display the results\n",
    "print(\"Customers Classified into 3 Groups of Engagement:\")\n",
    "print(user_engagement)"
   ]
  },
  {
   "cell_type": "code",
   "execution_count": 20,
   "id": "ccaa12f9-dc17-4183-a7c4-d9660041aa83",
   "metadata": {},
   "outputs": [
    {
     "name": "stderr",
     "output_type": "stream",
     "text": [
      "C:\\Users\\Abel\\Documents\\10 Academy\\Week-1\\10-Academy-Week-1\\week1\\lib\\site-packages\\sklearn\\cluster\\_kmeans.py:1416: FutureWarning: The default value of `n_init` will change from 10 to 'auto' in 1.4. Set the value of `n_init` explicitly to suppress the warning\n",
      "  super()._check_params_vs_input(X, default_n_init=10)\n"
     ]
    },
    {
     "name": "stdout",
     "output_type": "stream",
     "text": [
      "Metrics for Each Cluster:\n",
      "        Sessions Frequency                      Average Session Duration (ms)  \\\n",
      "                       min max      mean    sum                           min   \n",
      "Cluster                                                                         \n",
      "0                        1   4  1.060488  52334                     7140000.0   \n",
      "1                        2  18  3.127905  30153                    10640000.0   \n",
      "2                        1   6  1.388180  66448                     7140000.0   \n",
      "\n",
      "                                                  Total Traffic (Bytes)  \\\n",
      "                  max          mean           sum                   min   \n",
      "Cluster                                                                   \n",
      "0        1.573440e+09  1.029785e+08  5.081885e+12          3.324901e+07   \n",
      "1        1.209660e+09  1.106356e+08  1.066527e+12          1.332713e+09   \n",
      "2        1.357620e+09  1.008044e+08  4.825204e+12          5.798369e+08   \n",
      "\n",
      "                                                   \n",
      "                  max          mean           sum  \n",
      "Cluster                                            \n",
      "0        5.823146e+08  3.334949e+08  1.645764e+13  \n",
      "1        8.846226e+09  1.842506e+09  1.776176e+13  \n",
      "2        1.334693e+09  8.275858e+08  3.961405e+13  \n"
     ]
    }
   ],
   "source": [
    "# Run k-means clustering with k=3\n",
    "kmeans = KMeans(n_clusters=3, random_state=42)\n",
    "user_engagement['Cluster'] = kmeans.fit_predict(user_engagement)\n",
    "\n",
    "# Compute metrics for each cluster\n",
    "cluster_metrics = user_engagement.groupby('Cluster').agg({\n",
    "    'Sessions Frequency': ['min', 'max', 'mean', 'sum'],\n",
    "    'Average Session Duration (ms)': ['min', 'max', 'mean', 'sum'],\n",
    "    'Total Traffic (Bytes)': ['min', 'max', 'mean', 'sum']\n",
    "})\n",
    "\n",
    "# Display the results\n",
    "print(\"Metrics for Each Cluster:\")\n",
    "print(cluster_metrics)"
   ]
  },
  {
   "cell_type": "code",
   "execution_count": 21,
   "id": "8ff2b652-0f4c-4cc3-8706-bc117c045722",
   "metadata": {},
   "outputs": [
    {
     "name": "stdout",
     "output_type": "stream",
     "text": [
      "\n",
      "Top 10 Users for Total Social Media Traffic (Bytes):\n",
      "               Total Social Media Traffic (Bytes)  \\\n",
      "MSISDN/Number                                       \n",
      "3.362632e+10                           43374779.0   \n",
      "3.376054e+10                           39783189.0   \n",
      "3.365973e+10                           35412358.0   \n",
      "3.361489e+10                           28294544.0   \n",
      "3.362578e+10                           27135500.0   \n",
      "3.366716e+10                           24247850.0   \n",
      "3.378632e+10                           23974919.0   \n",
      "3.366907e+10                           23800834.0   \n",
      "3.360313e+10                           23077825.0   \n",
      "3.365849e+10                           23000066.0   \n",
      "\n",
      "               Total Google Traffic (Bytes)  Total Email Traffic (Bytes)  \\\n",
      "MSISDN/Number                                                              \n",
      "3.362632e+10                    152191852.0                   42418782.0   \n",
      "3.376054e+10                    123223099.0                   33693767.0   \n",
      "3.365973e+10                    116516345.0                   35999792.0   \n",
      "3.361489e+10                    127973787.0                   40788634.0   \n",
      "3.362578e+10                    142307915.0                   40633966.0   \n",
      "3.366716e+10                    105032696.0                   30335796.0   \n",
      "3.378632e+10                    110254484.0                   36310123.0   \n",
      "3.366907e+10                     77824684.0                   22923413.0   \n",
      "3.360313e+10                     86929016.0                   26198895.0   \n",
      "3.365849e+10                     76434143.0                   19677691.0   \n",
      "\n",
      "               Total Youtube Traffic (Bytes)  Total Netflix Traffic (Bytes)  \\\n",
      "MSISDN/Number                                                                 \n",
      "3.362632e+10                     374483047.0                    328725740.0   \n",
      "3.376054e+10                     396289198.0                    334643269.0   \n",
      "3.365973e+10                     257991088.0                    399519079.0   \n",
      "3.361489e+10                     394370218.0                    361401046.0   \n",
      "3.362578e+10                     452958769.0                    356980607.0   \n",
      "3.366716e+10                     315231310.0                    313939488.0   \n",
      "3.378632e+10                     214763912.0                    305939790.0   \n",
      "3.366907e+10                     236402804.0                    212009030.0   \n",
      "3.360313e+10                     284090139.0                    260488421.0   \n",
      "3.365849e+10                     183264219.0                    186793931.0   \n",
      "\n",
      "               Total Gaming Traffic (Bytes)  Total Other Traffic (Bytes)  \\\n",
      "MSISDN/Number                                                              \n",
      "3.362632e+10                   6.887572e+09                 8.167878e+09   \n",
      "3.376054e+10                   7.461045e+09                 4.716134e+09   \n",
      "3.365973e+10                   6.725559e+09                 6.317415e+09   \n",
      "3.361489e+10                   7.749432e+09                 7.639264e+09   \n",
      "3.362578e+10                   7.326673e+09                 6.354583e+09   \n",
      "3.366716e+10                   4.725622e+09                 4.941519e+09   \n",
      "3.378632e+10                   4.851096e+09                 4.252487e+09   \n",
      "3.366907e+10                   3.269152e+09                 4.605369e+09   \n",
      "3.360313e+10                   4.191445e+09                 6.326671e+09   \n",
      "3.365849e+10                   2.125069e+09                 4.315511e+09   \n",
      "\n",
      "               Total Traffic (Bytes)  \n",
      "MSISDN/Number                         \n",
      "3.362632e+10            1.599664e+10  \n",
      "3.376054e+10            1.310481e+10  \n",
      "3.365973e+10            1.388841e+10  \n",
      "3.361489e+10            1.634152e+10  \n",
      "3.362578e+10            1.470127e+10  \n",
      "3.366716e+10            1.045593e+10  \n",
      "3.378632e+10            9.794826e+09  \n",
      "3.366907e+10            8.447482e+09  \n",
      "3.360313e+10            1.119890e+10  \n",
      "3.365849e+10            6.929750e+09  \n",
      "\n",
      "Top 10 Users for Total Google Traffic (Bytes):\n",
      "               Total Social Media Traffic (Bytes)  \\\n",
      "MSISDN/Number                                       \n",
      "3.362632e+10                           43374779.0   \n",
      "3.362578e+10                           27135500.0   \n",
      "3.361489e+10                           28294544.0   \n",
      "3.376054e+10                           39783189.0   \n",
      "3.365973e+10                           35412358.0   \n",
      "3.378632e+10                           23974919.0   \n",
      "3.367588e+10                           19222921.0   \n",
      "3.366716e+10                           24247850.0   \n",
      "3.376127e+10                           14496080.0   \n",
      "3.369876e+10                           15496248.0   \n",
      "\n",
      "               Total Google Traffic (Bytes)  Total Email Traffic (Bytes)  \\\n",
      "MSISDN/Number                                                              \n",
      "3.362632e+10                    152191852.0                   42418782.0   \n",
      "3.362578e+10                    142307915.0                   40633966.0   \n",
      "3.361489e+10                    127973787.0                   40788634.0   \n",
      "3.376054e+10                    123223099.0                   33693767.0   \n",
      "3.365973e+10                    116516345.0                   35999792.0   \n",
      "3.378632e+10                    110254484.0                   36310123.0   \n",
      "3.367588e+10                    109860502.0                   31514421.0   \n",
      "3.366716e+10                    105032696.0                   30335796.0   \n",
      "3.376127e+10                     97089988.0                   20753721.0   \n",
      "3.369876e+10                     91935151.0                   28439707.0   \n",
      "\n",
      "               Total Youtube Traffic (Bytes)  Total Netflix Traffic (Bytes)  \\\n",
      "MSISDN/Number                                                                 \n",
      "3.362632e+10                     374483047.0                    328725740.0   \n",
      "3.362578e+10                     452958769.0                    356980607.0   \n",
      "3.361489e+10                     394370218.0                    361401046.0   \n",
      "3.376054e+10                     396289198.0                    334643269.0   \n",
      "3.365973e+10                     257991088.0                    399519079.0   \n",
      "3.378632e+10                     214763912.0                    305939790.0   \n",
      "3.367588e+10                     317410572.0                    309093159.0   \n",
      "3.366716e+10                     315231310.0                    313939488.0   \n",
      "3.376127e+10                     272789592.0                    292091341.0   \n",
      "3.369876e+10                     251422091.0                    280812448.0   \n",
      "\n",
      "               Total Gaming Traffic (Bytes)  Total Other Traffic (Bytes)  \\\n",
      "MSISDN/Number                                                              \n",
      "3.362632e+10                   6.887572e+09                 8.167878e+09   \n",
      "3.362578e+10                   7.326673e+09                 6.354583e+09   \n",
      "3.361489e+10                   7.749432e+09                 7.639264e+09   \n",
      "3.376054e+10                   7.461045e+09                 4.716134e+09   \n",
      "3.365973e+10                   6.725559e+09                 6.317415e+09   \n",
      "3.378632e+10                   4.851096e+09                 4.252487e+09   \n",
      "3.367588e+10                   6.970568e+09                 6.798515e+09   \n",
      "3.366716e+10                   4.725622e+09                 4.941519e+09   \n",
      "3.376127e+10                   4.274099e+09                 5.077779e+09   \n",
      "3.369876e+10                   5.118380e+09                 4.532624e+09   \n",
      "\n",
      "               Total Traffic (Bytes)  \n",
      "MSISDN/Number                         \n",
      "3.362632e+10            1.599664e+10  \n",
      "3.362578e+10            1.470127e+10  \n",
      "3.361489e+10            1.634152e+10  \n",
      "3.376054e+10            1.310481e+10  \n",
      "3.365973e+10            1.388841e+10  \n",
      "3.378632e+10            9.794826e+09  \n",
      "3.367588e+10            1.455618e+10  \n",
      "3.366716e+10            1.045593e+10  \n",
      "3.376127e+10            1.004910e+10  \n",
      "3.369876e+10            1.031911e+10  \n",
      "\n",
      "Top 10 Users for Total Email Traffic (Bytes):\n",
      "               Total Social Media Traffic (Bytes)  \\\n",
      "MSISDN/Number                                       \n",
      "3.362632e+10                           43374779.0   \n",
      "3.361489e+10                           28294544.0   \n",
      "3.362578e+10                           27135500.0   \n",
      "3.378632e+10                           23974919.0   \n",
      "3.365973e+10                           35412358.0   \n",
      "3.376054e+10                           39783189.0   \n",
      "3.367588e+10                           19222921.0   \n",
      "3.366546e+10                           10554843.0   \n",
      "3.366716e+10                           24247850.0   \n",
      "3.369879e+10                           15728161.0   \n",
      "\n",
      "               Total Google Traffic (Bytes)  Total Email Traffic (Bytes)  \\\n",
      "MSISDN/Number                                                              \n",
      "3.362632e+10                    152191852.0                   42418782.0   \n",
      "3.361489e+10                    127973787.0                   40788634.0   \n",
      "3.362578e+10                    142307915.0                   40633966.0   \n",
      "3.378632e+10                    110254484.0                   36310123.0   \n",
      "3.365973e+10                    116516345.0                   35999792.0   \n",
      "3.376054e+10                    123223099.0                   33693767.0   \n",
      "3.367588e+10                    109860502.0                   31514421.0   \n",
      "3.366546e+10                     63597426.0                   30417885.0   \n",
      "3.366716e+10                    105032696.0                   30335796.0   \n",
      "3.369879e+10                     79736125.0                   29059042.0   \n",
      "\n",
      "               Total Youtube Traffic (Bytes)  Total Netflix Traffic (Bytes)  \\\n",
      "MSISDN/Number                                                                 \n",
      "3.362632e+10                     374483047.0                    328725740.0   \n",
      "3.361489e+10                     394370218.0                    361401046.0   \n",
      "3.362578e+10                     452958769.0                    356980607.0   \n",
      "3.378632e+10                     214763912.0                    305939790.0   \n",
      "3.365973e+10                     257991088.0                    399519079.0   \n",
      "3.376054e+10                     396289198.0                    334643269.0   \n",
      "3.367588e+10                     317410572.0                    309093159.0   \n",
      "3.366546e+10                     232292532.0                    197517914.0   \n",
      "3.366716e+10                     315231310.0                    313939488.0   \n",
      "3.369879e+10                     302661958.0                    268247480.0   \n",
      "\n",
      "               Total Gaming Traffic (Bytes)  Total Other Traffic (Bytes)  \\\n",
      "MSISDN/Number                                                              \n",
      "3.362632e+10                   6.887572e+09                 8.167878e+09   \n",
      "3.361489e+10                   7.749432e+09                 7.639264e+09   \n",
      "3.362578e+10                   7.326673e+09                 6.354583e+09   \n",
      "3.378632e+10                   4.851096e+09                 4.252487e+09   \n",
      "3.365973e+10                   6.725559e+09                 6.317415e+09   \n",
      "3.376054e+10                   7.461045e+09                 4.716134e+09   \n",
      "3.367588e+10                   6.970568e+09                 6.798515e+09   \n",
      "3.366546e+10                   4.781003e+09                 2.973452e+09   \n",
      "3.366716e+10                   4.725622e+09                 4.941519e+09   \n",
      "3.369879e+10                   5.753743e+09                 4.689876e+09   \n",
      "\n",
      "               Total Traffic (Bytes)  \n",
      "MSISDN/Number                         \n",
      "3.362632e+10            1.599664e+10  \n",
      "3.361489e+10            1.634152e+10  \n",
      "3.362578e+10            1.470127e+10  \n",
      "3.378632e+10            9.794826e+09  \n",
      "3.365973e+10            1.388841e+10  \n",
      "3.376054e+10            1.310481e+10  \n",
      "3.367588e+10            1.455618e+10  \n",
      "3.366546e+10            8.288835e+09  \n",
      "3.366716e+10            1.045593e+10  \n",
      "3.369879e+10            1.113905e+10  \n",
      "\n",
      "Top 10 Users for Total Youtube Traffic (Bytes):\n",
      "               Total Social Media Traffic (Bytes)  \\\n",
      "MSISDN/Number                                       \n",
      "3.362578e+10                           27135500.0   \n",
      "3.376054e+10                           39783189.0   \n",
      "3.361489e+10                           28294544.0   \n",
      "3.362632e+10                           43374779.0   \n",
      "3.367588e+10                           19222921.0   \n",
      "3.366716e+10                           24247850.0   \n",
      "3.362708e+10                           17808911.0   \n",
      "3.376041e+10                           20777205.0   \n",
      "3.369879e+10                           15728161.0   \n",
      "3.360313e+10                           23077825.0   \n",
      "\n",
      "               Total Google Traffic (Bytes)  Total Email Traffic (Bytes)  \\\n",
      "MSISDN/Number                                                              \n",
      "3.362578e+10                    142307915.0                   40633966.0   \n",
      "3.376054e+10                    123223099.0                   33693767.0   \n",
      "3.361489e+10                    127973787.0                   40788634.0   \n",
      "3.362632e+10                    152191852.0                   42418782.0   \n",
      "3.367588e+10                    109860502.0                   31514421.0   \n",
      "3.366716e+10                    105032696.0                   30335796.0   \n",
      "3.362708e+10                     87125921.0                   23567219.0   \n",
      "3.376041e+10                     82738720.0                   25576965.0   \n",
      "3.369879e+10                     79736125.0                   29059042.0   \n",
      "3.360313e+10                     86929016.0                   26198895.0   \n",
      "\n",
      "               Total Youtube Traffic (Bytes)  Total Netflix Traffic (Bytes)  \\\n",
      "MSISDN/Number                                                                 \n",
      "3.362578e+10                     452958769.0                    356980607.0   \n",
      "3.376054e+10                     396289198.0                    334643269.0   \n",
      "3.361489e+10                     394370218.0                    361401046.0   \n",
      "3.362632e+10                     374483047.0                    328725740.0   \n",
      "3.367588e+10                     317410572.0                    309093159.0   \n",
      "3.366716e+10                     315231310.0                    313939488.0   \n",
      "3.362708e+10                     308790774.0                    267040897.0   \n",
      "3.376041e+10                     303169107.0                    318347546.0   \n",
      "3.369879e+10                     302661958.0                    268247480.0   \n",
      "3.360313e+10                     284090139.0                    260488421.0   \n",
      "\n",
      "               Total Gaming Traffic (Bytes)  Total Other Traffic (Bytes)  \\\n",
      "MSISDN/Number                                                              \n",
      "3.362578e+10                   7.326673e+09                 6.354583e+09   \n",
      "3.376054e+10                   7.461045e+09                 4.716134e+09   \n",
      "3.361489e+10                   7.749432e+09                 7.639264e+09   \n",
      "3.362632e+10                   6.887572e+09                 8.167878e+09   \n",
      "3.367588e+10                   6.970568e+09                 6.798515e+09   \n",
      "3.366716e+10                   4.725622e+09                 4.941519e+09   \n",
      "3.362708e+10                   4.972353e+09                 5.117791e+09   \n",
      "3.376041e+10                   6.268620e+09                 4.101645e+09   \n",
      "3.369879e+10                   5.753743e+09                 4.689876e+09   \n",
      "3.360313e+10                   4.191445e+09                 6.326671e+09   \n",
      "\n",
      "               Total Traffic (Bytes)  \n",
      "MSISDN/Number                         \n",
      "3.362578e+10            1.470127e+10  \n",
      "3.376054e+10            1.310481e+10  \n",
      "3.361489e+10            1.634152e+10  \n",
      "3.362632e+10            1.599664e+10  \n",
      "3.367588e+10            1.455618e+10  \n",
      "3.366716e+10            1.045593e+10  \n",
      "3.362708e+10            1.079448e+10  \n",
      "3.376041e+10            1.112087e+10  \n",
      "3.369879e+10            1.113905e+10  \n",
      "3.360313e+10            1.119890e+10  \n",
      "\n",
      "Top 10 Users for Total Netflix Traffic (Bytes):\n",
      "               Total Social Media Traffic (Bytes)  \\\n",
      "MSISDN/Number                                       \n",
      "3.365973e+10                           35412358.0   \n",
      "3.361489e+10                           28294544.0   \n",
      "3.362578e+10                           27135500.0   \n",
      "3.376054e+10                           39783189.0   \n",
      "3.362632e+10                           43374779.0   \n",
      "3.376041e+10                           20777205.0   \n",
      "3.366716e+10                           24247850.0   \n",
      "3.367588e+10                           19222921.0   \n",
      "3.378632e+10                           23974919.0   \n",
      "3.376127e+10                           14496080.0   \n",
      "\n",
      "               Total Google Traffic (Bytes)  Total Email Traffic (Bytes)  \\\n",
      "MSISDN/Number                                                              \n",
      "3.365973e+10                    116516345.0                   35999792.0   \n",
      "3.361489e+10                    127973787.0                   40788634.0   \n",
      "3.362578e+10                    142307915.0                   40633966.0   \n",
      "3.376054e+10                    123223099.0                   33693767.0   \n",
      "3.362632e+10                    152191852.0                   42418782.0   \n",
      "3.376041e+10                     82738720.0                   25576965.0   \n",
      "3.366716e+10                    105032696.0                   30335796.0   \n",
      "3.367588e+10                    109860502.0                   31514421.0   \n",
      "3.378632e+10                    110254484.0                   36310123.0   \n",
      "3.376127e+10                     97089988.0                   20753721.0   \n",
      "\n",
      "               Total Youtube Traffic (Bytes)  Total Netflix Traffic (Bytes)  \\\n",
      "MSISDN/Number                                                                 \n",
      "3.365973e+10                     257991088.0                    399519079.0   \n",
      "3.361489e+10                     394370218.0                    361401046.0   \n",
      "3.362578e+10                     452958769.0                    356980607.0   \n",
      "3.376054e+10                     396289198.0                    334643269.0   \n",
      "3.362632e+10                     374483047.0                    328725740.0   \n",
      "3.376041e+10                     303169107.0                    318347546.0   \n",
      "3.366716e+10                     315231310.0                    313939488.0   \n",
      "3.367588e+10                     317410572.0                    309093159.0   \n",
      "3.378632e+10                     214763912.0                    305939790.0   \n",
      "3.376127e+10                     272789592.0                    292091341.0   \n",
      "\n",
      "               Total Gaming Traffic (Bytes)  Total Other Traffic (Bytes)  \\\n",
      "MSISDN/Number                                                              \n",
      "3.365973e+10                   6.725559e+09                 6.317415e+09   \n",
      "3.361489e+10                   7.749432e+09                 7.639264e+09   \n",
      "3.362578e+10                   7.326673e+09                 6.354583e+09   \n",
      "3.376054e+10                   7.461045e+09                 4.716134e+09   \n",
      "3.362632e+10                   6.887572e+09                 8.167878e+09   \n",
      "3.376041e+10                   6.268620e+09                 4.101645e+09   \n",
      "3.366716e+10                   4.725622e+09                 4.941519e+09   \n",
      "3.367588e+10                   6.970568e+09                 6.798515e+09   \n",
      "3.378632e+10                   4.851096e+09                 4.252487e+09   \n",
      "3.376127e+10                   4.274099e+09                 5.077779e+09   \n",
      "\n",
      "               Total Traffic (Bytes)  \n",
      "MSISDN/Number                         \n",
      "3.365973e+10            1.388841e+10  \n",
      "3.361489e+10            1.634152e+10  \n",
      "3.362578e+10            1.470127e+10  \n",
      "3.376054e+10            1.310481e+10  \n",
      "3.362632e+10            1.599664e+10  \n",
      "3.376041e+10            1.112087e+10  \n",
      "3.366716e+10            1.045593e+10  \n",
      "3.367588e+10            1.455618e+10  \n",
      "3.378632e+10            9.794826e+09  \n",
      "3.376127e+10            1.004910e+10  \n",
      "\n",
      "Top 10 Users for Total Gaming Traffic (Bytes):\n",
      "               Total Social Media Traffic (Bytes)  \\\n",
      "MSISDN/Number                                       \n",
      "3.361489e+10                           28294544.0   \n",
      "3.376054e+10                           39783189.0   \n",
      "3.362578e+10                           27135500.0   \n",
      "3.367588e+10                           19222921.0   \n",
      "3.362632e+10                           43374779.0   \n",
      "3.365973e+10                           35412358.0   \n",
      "3.366646e+10                           18629986.0   \n",
      "3.376041e+10                           20777205.0   \n",
      "3.366471e+10                           19390599.0   \n",
      "3.369879e+10                           15728161.0   \n",
      "\n",
      "               Total Google Traffic (Bytes)  Total Email Traffic (Bytes)  \\\n",
      "MSISDN/Number                                                              \n",
      "3.361489e+10                    127973787.0                   40788634.0   \n",
      "3.376054e+10                    123223099.0                   33693767.0   \n",
      "3.362578e+10                    142307915.0                   40633966.0   \n",
      "3.367588e+10                    109860502.0                   31514421.0   \n",
      "3.362632e+10                    152191852.0                   42418782.0   \n",
      "3.365973e+10                    116516345.0                   35999792.0   \n",
      "3.366646e+10                     89320737.0                   25557139.0   \n",
      "3.376041e+10                     82738720.0                   25576965.0   \n",
      "3.366471e+10                     90389372.0                   21426007.0   \n",
      "3.369879e+10                     79736125.0                   29059042.0   \n",
      "\n",
      "               Total Youtube Traffic (Bytes)  Total Netflix Traffic (Bytes)  \\\n",
      "MSISDN/Number                                                                 \n",
      "3.361489e+10                     394370218.0                    361401046.0   \n",
      "3.376054e+10                     396289198.0                    334643269.0   \n",
      "3.362578e+10                     452958769.0                    356980607.0   \n",
      "3.367588e+10                     317410572.0                    309093159.0   \n",
      "3.362632e+10                     374483047.0                    328725740.0   \n",
      "3.365973e+10                     257991088.0                    399519079.0   \n",
      "3.366646e+10                     227336012.0                    214416926.0   \n",
      "3.376041e+10                     303169107.0                    318347546.0   \n",
      "3.366471e+10                     276834013.0                    251798809.0   \n",
      "3.369879e+10                     302661958.0                    268247480.0   \n",
      "\n",
      "               Total Gaming Traffic (Bytes)  Total Other Traffic (Bytes)  \\\n",
      "MSISDN/Number                                                              \n",
      "3.361489e+10                   7.749432e+09                 7.639264e+09   \n",
      "3.376054e+10                   7.461045e+09                 4.716134e+09   \n",
      "3.362578e+10                   7.326673e+09                 6.354583e+09   \n",
      "3.367588e+10                   6.970568e+09                 6.798515e+09   \n",
      "3.362632e+10                   6.887572e+09                 8.167878e+09   \n",
      "3.365973e+10                   6.725559e+09                 6.317415e+09   \n",
      "3.366646e+10                   6.646303e+09                 4.349141e+09   \n",
      "3.376041e+10                   6.268620e+09                 4.101645e+09   \n",
      "3.366471e+10                   6.103856e+09                 3.976960e+09   \n",
      "3.369879e+10                   5.753743e+09                 4.689876e+09   \n",
      "\n",
      "               Total Traffic (Bytes)  \n",
      "MSISDN/Number                         \n",
      "3.361489e+10            1.634152e+10  \n",
      "3.376054e+10            1.310481e+10  \n",
      "3.362578e+10            1.470127e+10  \n",
      "3.367588e+10            1.455618e+10  \n",
      "3.362632e+10            1.599664e+10  \n",
      "3.365973e+10            1.388841e+10  \n",
      "3.366646e+10            1.157071e+10  \n",
      "3.376041e+10            1.112087e+10  \n",
      "3.366471e+10            1.074066e+10  \n",
      "3.369879e+10            1.113905e+10  \n",
      "\n",
      "Top 10 Users for Total Other Traffic (Bytes):\n",
      "               Total Social Media Traffic (Bytes)  \\\n",
      "MSISDN/Number                                       \n",
      "3.362632e+10                           43374779.0   \n",
      "3.361489e+10                           28294544.0   \n",
      "3.367588e+10                           19222921.0   \n",
      "3.362578e+10                           27135500.0   \n",
      "3.360313e+10                           23077825.0   \n",
      "3.365973e+10                           35412358.0   \n",
      "3.362695e+10                           16922002.0   \n",
      "3.362708e+10                           17808911.0   \n",
      "3.376127e+10                           14496080.0   \n",
      "3.365836e+10                           17285759.0   \n",
      "\n",
      "               Total Google Traffic (Bytes)  Total Email Traffic (Bytes)  \\\n",
      "MSISDN/Number                                                              \n",
      "3.362632e+10                    152191852.0                   42418782.0   \n",
      "3.361489e+10                    127973787.0                   40788634.0   \n",
      "3.367588e+10                    109860502.0                   31514421.0   \n",
      "3.362578e+10                    142307915.0                   40633966.0   \n",
      "3.360313e+10                     86929016.0                   26198895.0   \n",
      "3.365973e+10                    116516345.0                   35999792.0   \n",
      "3.362695e+10                     69987947.0                   17482788.0   \n",
      "3.362708e+10                     87125921.0                   23567219.0   \n",
      "3.376127e+10                     97089988.0                   20753721.0   \n",
      "3.365836e+10                     76507138.0                   19682048.0   \n",
      "\n",
      "               Total Youtube Traffic (Bytes)  Total Netflix Traffic (Bytes)  \\\n",
      "MSISDN/Number                                                                 \n",
      "3.362632e+10                     374483047.0                    328725740.0   \n",
      "3.361489e+10                     394370218.0                    361401046.0   \n",
      "3.367588e+10                     317410572.0                    309093159.0   \n",
      "3.362578e+10                     452958769.0                    356980607.0   \n",
      "3.360313e+10                     284090139.0                    260488421.0   \n",
      "3.365973e+10                     257991088.0                    399519079.0   \n",
      "3.362695e+10                     200085240.0                    262722069.0   \n",
      "3.362708e+10                     308790774.0                    267040897.0   \n",
      "3.376127e+10                     272789592.0                    292091341.0   \n",
      "3.365836e+10                     260989846.0                    264142078.0   \n",
      "\n",
      "               Total Gaming Traffic (Bytes)  Total Other Traffic (Bytes)  \\\n",
      "MSISDN/Number                                                              \n",
      "3.362632e+10                   6.887572e+09                 8.167878e+09   \n",
      "3.361489e+10                   7.749432e+09                 7.639264e+09   \n",
      "3.367588e+10                   6.970568e+09                 6.798515e+09   \n",
      "3.362578e+10                   7.326673e+09                 6.354583e+09   \n",
      "3.360313e+10                   4.191445e+09                 6.326671e+09   \n",
      "3.365973e+10                   6.725559e+09                 6.317415e+09   \n",
      "3.362695e+10                   4.181763e+09                 5.305448e+09   \n",
      "3.362708e+10                   4.972353e+09                 5.117791e+09   \n",
      "3.376127e+10                   4.274099e+09                 5.077779e+09   \n",
      "3.365836e+10                   5.705920e+09                 5.013651e+09   \n",
      "\n",
      "               Total Traffic (Bytes)  \n",
      "MSISDN/Number                         \n",
      "3.362632e+10            1.599664e+10  \n",
      "3.361489e+10            1.634152e+10  \n",
      "3.367588e+10            1.455618e+10  \n",
      "3.362578e+10            1.470127e+10  \n",
      "3.360313e+10            1.119890e+10  \n",
      "3.365973e+10            1.388841e+10  \n",
      "3.362695e+10            1.005441e+10  \n",
      "3.362708e+10            1.079448e+10  \n",
      "3.376127e+10            1.004910e+10  \n",
      "3.365836e+10            1.135818e+10  \n"
     ]
    }
   ],
   "source": [
    "# List of application columns\n",
    "app_columns = ['Social Media DL (Bytes)', 'Social Media UL (Bytes)', \n",
    "               'Google DL (Bytes)', 'Google UL (Bytes)',\n",
    "               'Email DL (Bytes)', 'Email UL (Bytes)',\n",
    "               'Youtube DL (Bytes)', 'Youtube UL (Bytes)',\n",
    "               'Netflix DL (Bytes)', 'Netflix UL (Bytes)',\n",
    "               'Gaming DL (Bytes)', 'Gaming UL (Bytes)',\n",
    "               'Other DL (Bytes)', 'Other UL (Bytes)']\n",
    "\n",
    "# Calculate total traffic per application\n",
    "df['Total Social Media Traffic (Bytes)'] = df['Social Media DL (Bytes)'] + df['Social Media UL (Bytes)']\n",
    "df['Total Google Traffic (Bytes)'] = df['Google DL (Bytes)'] + df['Google UL (Bytes)']\n",
    "df['Total Email Traffic (Bytes)'] = df['Email DL (Bytes)'] + df['Email UL (Bytes)']\n",
    "df['Total Youtube Traffic (Bytes)'] = df['Youtube DL (Bytes)'] + df['Youtube UL (Bytes)']\n",
    "df['Total Netflix Traffic (Bytes)'] = df['Netflix DL (Bytes)'] + df['Netflix UL (Bytes)']\n",
    "df['Total Gaming Traffic (Bytes)'] = df['Gaming DL (Bytes)'] + df['Gaming UL (Bytes)']\n",
    "df['Total Other Traffic (Bytes)'] = df['Other DL (Bytes)'] + df['Other UL (Bytes)']\n",
    "\n",
    "# List of total traffic columns per application\n",
    "total_traffic_columns = ['Total Social Media Traffic (Bytes)', 'Total Google Traffic (Bytes)',\n",
    "                         'Total Email Traffic (Bytes)', 'Total Youtube Traffic (Bytes)',\n",
    "                         'Total Netflix Traffic (Bytes)', 'Total Gaming Traffic (Bytes)',\n",
    "                         'Total Other Traffic (Bytes)']\n",
    "\n",
    "# Group by 'MSISDN/Number' to calculate total traffic for each user per application\n",
    "user_total_traffic = df.groupby('MSISDN/Number')[total_traffic_columns].sum()\n",
    "\n",
    "# Create a new column for the total traffic across all applications\n",
    "user_total_traffic['Total Traffic (Bytes)'] = user_total_traffic[total_traffic_columns].sum(axis=1)\n",
    "\n",
    "# Identify the top 10 most engaged users per application\n",
    "top_10_users_per_app = {}\n",
    "for app_column in total_traffic_columns:\n",
    "    top_10_users = user_total_traffic.nlargest(10, app_column)\n",
    "    top_10_users_per_app[app_column] = top_10_users\n",
    "\n",
    "# Display the results\n",
    "for app_column, top_10_users in top_10_users_per_app.items():\n",
    "    print(f\"\\nTop 10 Users for {app_column}:\")\n",
    "    print(top_10_users)"
   ]
  },
  {
   "cell_type": "code",
   "execution_count": 22,
   "id": "9dc4401b-e234-407a-b0eb-c30c96f35398",
   "metadata": {},
   "outputs": [
    {
     "data": {
      "image/png": "[encoded data removed]",
      "text/plain": [
       "<Figure size 1200x800 with 1 Axes>"
      ]
     },
     "metadata": {},
     "output_type": "display_data"
    }
   ],
   "source": [
    "I "
   ]
  },
  {
   "cell_type": "code",
   "execution_count": 23,
   "id": "5ef40a96-8e28-45a4-a524-b86664a0ec22",
   "metadata": {},
   "outputs": [
    {
     "name": "stderr",
     "output_type": "stream",
     "text": [
      "C:\\Users\\Abel\\Documents\\10 Academy\\Week-1\\10-Academy-Week-1\\week1\\lib\\site-packages\\sklearn\\cluster\\_kmeans.py:1416: FutureWarning: The default value of `n_init` will change from 10 to 'auto' in 1.4. Set the value of `n_init` explicitly to suppress the warning\n",
      "  super()._check_params_vs_input(X, default_n_init=10)\n",
      "C:\\Users\\Abel\\Documents\\10 Academy\\Week-1\\10-Academy-Week-1\\week1\\lib\\site-packages\\sklearn\\cluster\\_kmeans.py:1416: FutureWarning: The default value of `n_init` will change from 10 to 'auto' in 1.4. Set the value of `n_init` explicitly to suppress the warning\n",
      "  super()._check_params_vs_input(X, default_n_init=10)\n",
      "C:\\Users\\Abel\\Documents\\10 Academy\\Week-1\\10-Academy-Week-1\\week1\\lib\\site-packages\\sklearn\\cluster\\_kmeans.py:1416: FutureWarning: The default value of `n_init` will change from 10 to 'auto' in 1.4. Set the value of `n_init` explicitly to suppress the warning\n",
      "  super()._check_params_vs_input(X, default_n_init=10)\n",
      "C:\\Users\\Abel\\Documents\\10 Academy\\Week-1\\10-Academy-Week-1\\week1\\lib\\site-packages\\sklearn\\cluster\\_kmeans.py:1416: FutureWarning: The default value of `n_init` will change from 10 to 'auto' in 1.4. Set the value of `n_init` explicitly to suppress the warning\n",
      "  super()._check_params_vs_input(X, default_n_init=10)\n",
      "C:\\Users\\Abel\\Documents\\10 Academy\\Week-1\\10-Academy-Week-1\\week1\\lib\\site-packages\\sklearn\\cluster\\_kmeans.py:1416: FutureWarning: The default value of `n_init` will change from 10 to 'auto' in 1.4. Set the value of `n_init` explicitly to suppress the warning\n",
      "  super()._check_params_vs_input(X, default_n_init=10)\n",
      "C:\\Users\\Abel\\Documents\\10 Academy\\Week-1\\10-Academy-Week-1\\week1\\lib\\site-packages\\sklearn\\cluster\\_kmeans.py:1416: FutureWarning: The default value of `n_init` will change from 10 to 'auto' in 1.4. Set the value of `n_init` explicitly to suppress the warning\n",
      "  super()._check_params_vs_input(X, default_n_init=10)\n",
      "C:\\Users\\Abel\\Documents\\10 Academy\\Week-1\\10-Academy-Week-1\\week1\\lib\\site-packages\\sklearn\\cluster\\_kmeans.py:1416: FutureWarning: The default value of `n_init` will change from 10 to 'auto' in 1.4. Set the value of `n_init` explicitly to suppress the warning\n",
      "  super()._check_params_vs_input(X, default_n_init=10)\n",
      "C:\\Users\\Abel\\Documents\\10 Academy\\Week-1\\10-Academy-Week-1\\week1\\lib\\site-packages\\sklearn\\cluster\\_kmeans.py:1416: FutureWarning: The default value of `n_init` will change from 10 to 'auto' in 1.4. Set the value of `n_init` explicitly to suppress the warning\n",
      "  super()._check_params_vs_input(X, default_n_init=10)\n",
      "C:\\Users\\Abel\\Documents\\10 Academy\\Week-1\\10-Academy-Week-1\\week1\\lib\\site-packages\\sklearn\\cluster\\_kmeans.py:1416: FutureWarning: The default value of `n_init` will change from 10 to 'auto' in 1.4. Set the value of `n_init` explicitly to suppress the warning\n",
      "  super()._check_params_vs_input(X, default_n_init=10)\n",
      "C:\\Users\\Abel\\Documents\\10 Academy\\Week-1\\10-Academy-Week-1\\week1\\lib\\site-packages\\sklearn\\cluster\\_kmeans.py:1416: FutureWarning: The default value of `n_init` will change from 10 to 'auto' in 1.4. Set the value of `n_init` explicitly to suppress the warning\n",
      "  super()._check_params_vs_input(X, default_n_init=10)\n"
     ]
    },
    {
     "data": {
      "image/png": "[encoded data removed]",
      "text/plain": [
       "<Figure size 800x600 with 1 Axes>"
      ]
     },
     "metadata": {},
     "output_type": "display_data"
    }
   ],
   "source": [
    "# Select the engagement metrics columns for clustering\n",
    "engagement_metrics = user_engagement[['Sessions Frequency', 'Average Session Duration (ms)', 'Total Traffic (Bytes)']]\n",
    "\n",
    "# Normalize the engagement metrics\n",
    "scaler = StandardScaler()\n",
    "normalized_metrics = scaler.fit_transform(engagement_metrics)\n",
    "\n",
    "# Initialize a list to store the within-cluster sum of squares for each k\n",
    "wcss = []\n",
    "\n",
    "# Try k from 1 to 10 (you can adjust the range as needed)\n",
    "for k in range(1, 11):\n",
    "    kmeans = KMeans(n_clusters=k, random_state=42)\n",
    "    kmeans.fit(normalized_metrics)\n",
    "    wcss.append(kmeans.inertia_)\n",
    "\n",
    "# Plot the elbow curve\n",
    "plt.figure(figsize=(8, 6))\n",
    "plt.plot(range(1, 11), wcss, marker='o', linestyle='-', color='b')\n",
    "plt.title('Elbow Method for Optimal k')\n",
    "plt.xlabel('Number of Clusters (k)')\n",
    "plt.ylabel('Within-Cluster Sum of Squares (WCSS)')\n",
    "plt.xticks(range(1, 11))\n",
    "plt.grid(True)\n",
    "plt.show()"
   ]
  },
  {
   "cell_type": "code",
   "execution_count": null,
   "id": "c2fdcc88-c15c-4aa3-a841-90dc4c585d78",
   "metadata": {},
   "outputs": [],
   "source": []
  }
 ],
 "metadata": {
  "kernelspec": {
   "display_name": "Python 3 (ipykernel)",
   "language": "python",
   "name": "python3"
  },
  "language_info": {
   "codemirror_mode": {
    "name": "ipython",
    "version": 3
   },
   "file_extension": ".py",
   "mimetype": "text/x-python",
   "name": "python",
   "nbconvert_exporter": "python",
   "pygments_lexer": "ipython3",
   "version": "3.8.17"
  }
 },
 "nbformat": 4,
 "nbformat_minor": 5
}
