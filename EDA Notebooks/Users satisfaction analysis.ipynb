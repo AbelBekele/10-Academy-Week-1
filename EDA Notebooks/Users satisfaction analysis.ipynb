{
 "cells": [
  {
   "cell_type": "code",
   "execution_count": 1,
   "id": "9ca5a9a0-9352-4316-a89c-2bfe14e26e8a",
   "metadata": {},
   "outputs": [],
   "source": [
    "import pandas as pd\n",
    "import numpy as np\n",
    "import seaborn as sns\n",
    "import matplotlib.pyplot as plt\n",
    "from sqlalchemy import create_engine, text\n",
    "from scipy.stats import zscore\n",
    "import psycopg2\n",
    "import os\n",
    "import plotly.express as px\n",
    "import random\n",
    "from sklearn.decomposition import PCA\n",
    "from sklearn.preprocessing import StandardScaler\n",
    "from sklearn.cluster import KMeans\n",
    "import tabulate\n",
    "import plotly.graph_objects as go\n",
    "from scipy.spatial import distance\n",
    "from sklearn.metrics import pairwise_distances_argmin_min\n",
    "from functools import reduce"
   ]
  },
  {
   "cell_type": "code",
   "execution_count": 2,
   "id": "9b8d373e-9350-4a7b-8c6f-3613b41a10fc",
   "metadata": {},
   "outputs": [],
   "source": [
    "from sklearn.model_selection import train_test_split\n",
    "from sklearn.linear_model import LinearRegression\n",
    "from sklearn.metrics import mean_squared_error, r2_score\n",
    "from sklearn.linear_model import Ridge\n",
    "from sklearn.model_selection import cross_val_score\n",
    "from sklearn.linear_model import RidgeCV\n",
    "from sklearn.ensemble import RandomForestRegressor\n",
    "from sklearn.ensemble import GradientBoostingRegressor"
   ]
  },
  {
   "cell_type": "code",
   "execution_count": 3,
   "id": "09e73fbd-a3aa-4290-83e0-515d5b25b546",
   "metadata": {},
   "outputs": [],
   "source": [
    "os.chdir('..')"
   ]
  },
  {
   "cell_type": "code",
   "execution_count": 4,
   "id": "04836ee8-db5c-424b-a82e-50f657a6cd86",
   "metadata": {},
   "outputs": [],
   "source": [
    "from db.connection import DatabaseConnection\n",
    "from db.sql_preprocessor import DBFilter\n",
    "from src.utils import missing_values_table, find_agg, convert_bytes_to_megabytes, fix_outlier, remove_outliers\n",
    "from src.plot_utils import set_seaborn_style, plot_histogram_kde, plot_boxplot, plot_time_series, plot_countplot, create_table"
   ]
  },
  {
   "cell_type": "code",
   "execution_count": 5,
   "id": "be35f084-a17b-4911-8f21-5483a609aee4",
   "metadata": {},
   "outputs": [],
   "source": [
    "db_connection = DatabaseConnection()\n",
    "set_seaborn_style()"
   ]
  },
  {
   "cell_type": "code",
   "execution_count": 6,
   "id": "d35628da-b13d-464f-953c-b661f2f4bdad",
   "metadata": {},
   "outputs": [
    {
     "name": "stdout",
     "output_type": "stream",
     "text": [
      "Connected to the database.\n"
     ]
    }
   ],
   "source": [
    "db_connection.connect()"
   ]
  },
  {
   "cell_type": "code",
   "execution_count": 7,
   "id": "30a7be5b-6bb4-4f81-a5fa-c58f0cbd0b8c",
   "metadata": {},
   "outputs": [],
   "source": [
    "query = \"SELECT * FROM xdr_data\"\n",
    "df = db_connection.execute_query(query)"
   ]
  },
  {
   "cell_type": "code",
   "execution_count": 8,
   "id": "1d6c9747-e85a-4837-9ca1-b1a4b6ea0bf2",
   "metadata": {},
   "outputs": [
    {
     "data": {
      "text/plain": [
       "Index(['Bearer Id', 'Start', 'Start ms', 'End', 'End ms', 'Dur. (ms)', 'IMSI',\n",
       "       'MSISDN/Number', 'IMEI', 'Last Location Name', 'Avg RTT DL (ms)',\n",
       "       'Avg RTT UL (ms)', 'Avg Bearer TP DL (kbps)', 'Avg Bearer TP UL (kbps)',\n",
       "       'TCP DL Retrans. Vol (Bytes)', 'TCP UL Retrans. Vol (Bytes)',\n",
       "       'DL TP < 50 Kbps (%)', '50 Kbps < DL TP < 250 Kbps (%)',\n",
       "       '250 Kbps < DL TP < 1 Mbps (%)', 'DL TP > 1 Mbps (%)',\n",
       "       'UL TP < 10 Kbps (%)', '10 Kbps < UL TP < 50 Kbps (%)',\n",
       "       '50 Kbps < UL TP < 300 Kbps (%)', 'UL TP > 300 Kbps (%)',\n",
       "       'HTTP DL (Bytes)', 'HTTP UL (Bytes)', 'Activity Duration DL (ms)',\n",
       "       'Activity Duration UL (ms)', 'Dur. (ms).1', 'Handset Manufacturer',\n",
       "       'Handset Type', 'Nb of sec with 125000B < Vol DL',\n",
       "       'Nb of sec with 1250B < Vol UL < 6250B',\n",
       "       'Nb of sec with 31250B < Vol DL < 125000B',\n",
       "       'Nb of sec with 37500B < Vol UL',\n",
       "       'Nb of sec with 6250B < Vol DL < 31250B',\n",
       "       'Nb of sec with 6250B < Vol UL < 37500B',\n",
       "       'Nb of sec with Vol DL < 6250B', 'Nb of sec with Vol UL < 1250B',\n",
       "       'Social Media DL (Bytes)', 'Social Media UL (Bytes)',\n",
       "       'Google DL (Bytes)', 'Google UL (Bytes)', 'Email DL (Bytes)',\n",
       "       'Email UL (Bytes)', 'Youtube DL (Bytes)', 'Youtube UL (Bytes)',\n",
       "       'Netflix DL (Bytes)', 'Netflix UL (Bytes)', 'Gaming DL (Bytes)',\n",
       "       'Gaming UL (Bytes)', 'Other DL (Bytes)', 'Other UL (Bytes)',\n",
       "       'Total UL (Bytes)', 'Total DL (Bytes)'],\n",
       "      dtype='object')"
      ]
     },
     "execution_count": 8,
     "metadata": {},
     "output_type": "execute_result"
    }
   ],
   "source": [
    "df.columns"
   ]
  },
  {
   "cell_type": "code",
   "execution_count": 9,
   "id": "bbd004c0-32bd-4c27-8e64-f8c22210b45d",
   "metadata": {},
   "outputs": [],
   "source": [
    "# Relevant features for clustering\n",
    "features = ['Avg Bearer TP DL (kbps)', 'Avg Bearer TP UL (kbps)']"
   ]
  },
  {
   "cell_type": "code",
   "execution_count": 10,
   "id": "ff694b7f-0596-4b26-a162-c8f0c93b4710",
   "metadata": {},
   "outputs": [
    {
     "name": "stdout",
     "output_type": "stream",
     "text": [
      "               Sessions Frequency  Average Session Duration (ms)  \\\n",
      "MSISDN/Number                                                      \n",
      "3.360100e+10                    1                    116760000.0   \n",
      "3.360100e+10                    1                    181260000.0   \n",
      "3.360100e+10                    1                    135000000.0   \n",
      "3.360101e+10                    1                     49920000.0   \n",
      "3.360101e+10                    2                     18600000.0   \n",
      "...                           ...                            ...   \n",
      "3.379000e+10                    1                      8760000.0   \n",
      "3.379000e+10                    1                    141000000.0   \n",
      "3.197021e+12                    1                    877380000.0   \n",
      "3.370000e+14                    1                    253020000.0   \n",
      "8.823971e+14                    1                    869820000.0   \n",
      "\n",
      "               Total Traffic (Bytes)  \n",
      "MSISDN/Number                         \n",
      "3.360100e+10            8.786906e+08  \n",
      "3.360100e+10            1.568596e+08  \n",
      "3.360100e+10            5.959665e+08  \n",
      "3.360101e+10            4.223207e+08  \n",
      "3.360101e+10            1.457411e+09  \n",
      "...                              ...  \n",
      "3.379000e+10            7.146416e+08  \n",
      "3.379000e+10            4.803073e+08  \n",
      "3.197021e+12            2.321240e+08  \n",
      "3.370000e+14            5.962878e+08  \n",
      "8.823971e+14            1.391536e+08  \n",
      "\n",
      "[106856 rows x 3 columns]\n"
     ]
    }
   ],
   "source": [
    "# Convert 'Start' and 'End' columns to datetime\n",
    "df['Start'] = pd.to_datetime(df['Start'])\n",
    "df['End'] = pd.to_datetime(df['End'])\n",
    "\n",
    "# Calculate session duration\n",
    "df['Session Duration (ms)'] = (df['End'] - df['Start']).dt.total_seconds() * 1000\n",
    "\n",
    "# Calculate total traffic for each session (download + upload)\n",
    "df['Total Traffic (Bytes)'] = df['Total DL (Bytes)'] + df['Total UL (Bytes)']\n",
    "\n",
    "# Group by 'MSISDN/Number' to calculate metrics for each user\n",
    "user_engagement = df.groupby('MSISDN/Number').agg({\n",
    "    'Start': 'count',                           # Sessions frequency\n",
    "    'Session Duration (ms)': 'mean',           # Average session duration\n",
    "    'Total Traffic (Bytes)': 'sum'             # Total traffic for all sessions\n",
    "})\n",
    "\n",
    "# Rename columns for better readability\n",
    "user_engagement = user_engagement.rename(columns={\n",
    "    'Start': 'Sessions Frequency',\n",
    "    'Session Duration (ms)': 'Average Session Duration (ms)',\n",
    "    'Total Traffic (Bytes)': 'Total Traffic (Bytes)'\n",
    "})\n",
    "\n",
    "# Display the result\n",
    "print(user_engagement)"
   ]
  },
  {
   "cell_type": "code",
   "execution_count": 11,
   "id": "ae59ff11-fe30-4009-8ea2-2c1f2f1fbe1f",
   "metadata": {},
   "outputs": [
    {
     "name": "stderr",
     "output_type": "stream",
     "text": [
      "C:\\Users\\Abel\\Documents\\10 Academy\\Week-1\\10-Academy-Week-1\\week1\\lib\\site-packages\\sklearn\\cluster\\_kmeans.py:1416: FutureWarning: The default value of `n_init` will change from 10 to 'auto' in 1.4. Set the value of `n_init` explicitly to suppress the warning\n",
      "  super()._check_params_vs_input(X, default_n_init=10)\n"
     ]
    },
    {
     "name": "stdout",
     "output_type": "stream",
     "text": [
      "Customers Classified into 3 Groups of Engagement:\n",
      "               Sessions Frequency  Average Session Duration (ms)  \\\n",
      "MSISDN/Number                                                      \n",
      "3.360100e+10                    1                    116760000.0   \n",
      "3.360100e+10                    1                    181260000.0   \n",
      "3.360100e+10                    1                    135000000.0   \n",
      "3.360101e+10                    1                     49920000.0   \n",
      "3.360101e+10                    2                     18600000.0   \n",
      "...                           ...                            ...   \n",
      "3.379000e+10                    1                      8760000.0   \n",
      "3.379000e+10                    1                    141000000.0   \n",
      "3.197021e+12                    1                    877380000.0   \n",
      "3.370000e+14                    1                    253020000.0   \n",
      "8.823971e+14                    1                    869820000.0   \n",
      "\n",
      "               Total Traffic (Bytes)  Cluster  \n",
      "MSISDN/Number                                  \n",
      "3.360100e+10            8.786906e+08        1  \n",
      "3.360100e+10            1.568596e+08        0  \n",
      "3.360100e+10            5.959665e+08        0  \n",
      "3.360101e+10            4.223207e+08        1  \n",
      "3.360101e+10            1.457411e+09        2  \n",
      "...                              ...      ...  \n",
      "3.379000e+10            7.146416e+08        1  \n",
      "3.379000e+10            4.803073e+08        0  \n",
      "3.197021e+12            2.321240e+08        0  \n",
      "3.370000e+14            5.962878e+08        0  \n",
      "8.823971e+14            1.391536e+08        0  \n",
      "\n",
      "[106856 rows x 4 columns]\n"
     ]
    }
   ],
   "source": [
    "# Normalize the engagement metrics\n",
    "scaler = StandardScaler()\n",
    "normalized_engagement = scaler.fit_transform(user_engagement)\n",
    "\n",
    "# Run k-means clustering with k=3\n",
    "kmeans = KMeans(n_clusters=3, random_state=42)\n",
    "user_engagement['Cluster'] = kmeans.fit_predict(normalized_engagement)\n",
    "\n",
    "# Display the results\n",
    "print(\"Customers Classified into 3 Groups of Engagement:\")\n",
    "print(user_engagement)"
   ]
  },
  {
   "cell_type": "code",
   "execution_count": 12,
   "id": "9e6add96-1154-4a84-9446-18bf0fcbc8ca",
   "metadata": {},
   "outputs": [
    {
     "name": "stderr",
     "output_type": "stream",
     "text": [
      "C:\\Users\\Abel\\Documents\\10 Academy\\Week-1\\10-Academy-Week-1\\week1\\lib\\site-packages\\sklearn\\cluster\\_kmeans.py:1416: FutureWarning: The default value of `n_init` will change from 10 to 'auto' in 1.4. Set the value of `n_init` explicitly to suppress the warning\n",
      "  super()._check_params_vs_input(X, default_n_init=10)\n"
     ]
    }
   ],
   "source": [
    "# Fit k-means with the selected number of clusters\n",
    "kmeans = KMeans(n_clusters=3, random_state=42)\n",
    "user_engagement['Cluster'] = kmeans.fit_predict(normalized_engagement)\n",
    "\n",
    "# Determine which cluster has lower engagement based on, for example, 'Sessions Frequency'\n",
    "less_engaged_cluster = user_engagement.groupby('Cluster')['Sessions Frequency'].mean().idxmin()\n",
    "\n",
    "# Calculate Euclidean distances to the centroids\n",
    "distances = pairwise_distances_argmin_min(normalized_engagement, kmeans.cluster_centers_)[1]\n",
    "\n",
    "# Reset the index before accessing 'MSISDN/Number' column\n",
    "user_engagement.reset_index(inplace=True)\n",
    "\n",
    "# Assign engagement scores based on the less engaged cluster\n",
    "user_engagement['Engagement Score'] = distances if less_engaged_cluster == 0 else -distances"
   ]
  },
  {
   "cell_type": "code",
   "execution_count": 13,
   "id": "82c123be-66ae-4591-afe8-c856d4eb6322",
   "metadata": {},
   "outputs": [
    {
     "name": "stdout",
     "output_type": "stream",
     "text": [
      "Customers with Engagement Scores:\n",
      "        MSISDN/Number  Engagement Score\n",
      "0        3.360100e+10          0.987749\n",
      "1        3.360100e+10          0.780296\n",
      "2        3.360100e+10          0.789995\n",
      "3        3.360101e+10          0.383222\n",
      "4        3.360101e+10          1.484564\n",
      "...               ...               ...\n",
      "106851   3.379000e+10          0.932555\n",
      "106852   3.379000e+10          0.703592\n",
      "106853   3.197021e+12          9.529468\n",
      "106854   3.370000e+14          0.888410\n",
      "106855   8.823971e+14          9.439091\n",
      "\n",
      "[106856 rows x 2 columns]\n"
     ]
    }
   ],
   "source": [
    "# Display the results\n",
    "print(\"Customers with Engagement Scores:\")\n",
    "print(user_engagement[['MSISDN/Number', 'Engagement Score']])"
   ]
  },
  {
   "cell_type": "code",
   "execution_count": 14,
   "id": "bb3f40e5-30f5-418a-83ce-db397e8e6373",
   "metadata": {},
   "outputs": [
    {
     "name": "stdout",
     "output_type": "stream",
     "text": [
      "        MSISDN/Number  Avg Bearer TP DL (kbps)  Avg Bearer TP UL (kbps)\n",
      "0        3.360100e+10                     37.0                     39.0\n",
      "1        3.360100e+10                     48.0                     51.0\n",
      "2        3.360100e+10                     48.0                     49.0\n",
      "3        3.360101e+10                    204.0                     44.0\n",
      "4        3.360101e+10                  20197.5                   8224.5\n",
      "...               ...                      ...                      ...\n",
      "106851   3.379000e+10                   9978.0                    387.0\n",
      "106852   3.379000e+10                     68.0                     48.0\n",
      "106853   3.197021e+12                      1.0                      0.0\n",
      "106854   3.370000e+14                     11.0                     22.0\n",
      "106855   8.823971e+14                      2.0                      0.0\n",
      "\n",
      "[106856 rows x 3 columns]\n"
     ]
    }
   ],
   "source": [
    "# Group by customer and calculate the mean for both DL and UL throughput\n",
    "grouped_data_throughput = df.groupby('MSISDN/Number').agg({\n",
    "    'Avg Bearer TP DL (kbps)': 'mean',\n",
    "    'Avg Bearer TP UL (kbps)': 'mean'\n",
    "}).reset_index()\n",
    "\n",
    "# Treat missing values by replacing them with the mean\n",
    "grouped_data_throughput['Avg Bearer TP DL (kbps)'].fillna(grouped_data_throughput['Avg Bearer TP DL (kbps)'].mean(), inplace=True)\n",
    "grouped_data_throughput['Avg Bearer TP UL (kbps)'].fillna(grouped_data_throughput['Avg Bearer TP UL (kbps)'].mean(), inplace=True)\n",
    "\n",
    "# Display the resulting DataFrame\n",
    "print(grouped_data_throughput)"
   ]
  },
  {
   "cell_type": "code",
   "execution_count": 15,
   "id": "dd3ac1b7-6b1d-4def-859c-3b44d5c5cbe4",
   "metadata": {},
   "outputs": [
    {
     "name": "stdout",
     "output_type": "stream",
     "text": [
      "        MSISDN/Number  Avg RTT DL (ms)\n",
      "0        3.360100e+10        46.000000\n",
      "1        3.360100e+10        30.000000\n",
      "2        3.360100e+10       119.182869\n",
      "3        3.360101e+10        69.000000\n",
      "4        3.360101e+10        57.000000\n",
      "...               ...              ...\n",
      "106851   3.379000e+10        42.000000\n",
      "106852   3.379000e+10        34.000000\n",
      "106853   3.197021e+12       119.182869\n",
      "106854   3.370000e+14       119.182869\n",
      "106855   8.823971e+14       119.182869\n",
      "\n",
      "[106856 rows x 2 columns]\n"
     ]
    }
   ],
   "source": [
    "grouped_data_rtt = df.groupby('MSISDN/Number')['Avg RTT DL (ms)'].mean().reset_index()\n",
    "\n",
    "# Treat missing values by replacing them with the mean\n",
    "grouped_data_rtt['Avg RTT DL (ms)'].fillna(grouped_data_rtt['Avg RTT DL (ms)'].mean(), inplace=True)\n",
    "\n",
    "# Handling outliers (you can use a different method if needed)\n",
    "mean_value_rtt = grouped_data_rtt['Avg RTT DL (ms)'].mean()\n",
    "std_dev_rtt = grouped_data_rtt['Avg RTT DL (ms)'].std()\n",
    "\n",
    "# Define a threshold for outliers (you can adjust this threshold)\n",
    "outlier_threshold_rtt = 3\n",
    "\n",
    "# Replace outliers with the mean value\n",
    "grouped_data_rtt['Avg RTT DL (ms)'] = grouped_data_rtt['Avg RTT DL (ms)'].apply(\n",
    "    lambda x: mean_value_rtt if abs(x - mean_value_rtt) > outlier_threshold_rtt * std_dev_rtt else x\n",
    ")\n",
    "\n",
    "# Display the resulting DataFrame\n",
    "print(grouped_data_rtt)"
   ]
  },
  {
   "cell_type": "code",
   "execution_count": 16,
   "id": "66fe8786-aedf-4e83-a39a-4b5c61475eb3",
   "metadata": {},
   "outputs": [
    {
     "name": "stdout",
     "output_type": "stream",
     "text": [
      "        MSISDN/Number  TCP DL Retrans. Vol (Bytes)\n",
      "0        3.360100e+10                 1.685339e+07\n",
      "1        3.360100e+10                 1.685339e+07\n",
      "2        3.360100e+10                 1.685339e+07\n",
      "3        3.360101e+10                 1.066000e+03\n",
      "4        3.360101e+10                 9.349630e+06\n",
      "...               ...                          ...\n",
      "106851   3.379000e+10                 2.150440e+05\n",
      "106852   3.379000e+10                 1.685339e+07\n",
      "106853   3.197021e+12                 1.685339e+07\n",
      "106854   3.370000e+14                 1.685339e+07\n",
      "106855   8.823971e+14                 1.685339e+07\n",
      "\n",
      "[106856 rows x 2 columns]\n"
     ]
    }
   ],
   "source": [
    "grouped_data_retrans = df.groupby('MSISDN/Number')['TCP DL Retrans. Vol (Bytes)'].mean().reset_index()\n",
    "\n",
    "# Treat missing values by replacing them with the mean\n",
    "grouped_data_retrans['TCP DL Retrans. Vol (Bytes)'].fillna(grouped_data_retrans['TCP DL Retrans. Vol (Bytes)'].mean(), inplace=True)\n",
    "\n",
    "# Handling outliers (you can use a different method if needed)\n",
    "mean_value = grouped_data_retrans['TCP DL Retrans. Vol (Bytes)'].mean()\n",
    "std_dev = grouped_data_retrans['TCP DL Retrans. Vol (Bytes)'].std()\n",
    "\n",
    "# Define a threshold for outliers (you can adjust this threshold)\n",
    "outlier_threshold = 3\n",
    "\n",
    "# Replace outliers with the mean value\n",
    "grouped_data_retrans['TCP DL Retrans. Vol (Bytes)'] = grouped_data_retrans['TCP DL Retrans. Vol (Bytes)'].apply(\n",
    "    lambda x: mean_value if abs(x - mean_value) > outlier_threshold * std_dev else x\n",
    ")\n",
    "\n",
    "# Display the resulting DataFrame\n",
    "print(grouped_data_retrans)"
   ]
  },
  {
   "cell_type": "code",
   "execution_count": 17,
   "id": "b8b7f623-0add-4cbd-8da3-78302489f2a7",
   "metadata": {},
   "outputs": [
    {
     "name": "stdout",
     "output_type": "stream",
     "text": [
      "        MSISDN/Number                                    Handset Type  \\\n",
      "0        3.360100e+10                  Huawei P20 Lite Huawei Nova 3E   \n",
      "1        3.360126e+10                  Huawei P20 Lite Huawei Nova 3E   \n",
      "2        3.360127e+10                  Huawei P20 Lite Huawei Nova 3E   \n",
      "3        3.360128e+10                  Huawei P20 Lite Huawei Nova 3E   \n",
      "4        3.360137e+10                  Huawei P20 Lite Huawei Nova 3E   \n",
      "...               ...                                             ...   \n",
      "106851   3.378689e+10  Huawei Mate 9 Pro Porsche Design Huawei Mate 9   \n",
      "106852   3.378712e+10                     Ddm Brands Llc Andy 5El Lte   \n",
      "106853   3.378853e+10                Vivo Mobile Comm. Vivo Vivo X21A   \n",
      "106854   3.197021e+12                Quectel Wireless. Quectel Ec25-E   \n",
      "106855   8.823971e+14                Quectel Wireless. Quectel Ec21-E   \n",
      "\n",
      "        TCP DL Retrans. Vol (Bytes)  \n",
      "0                      2.623121e+06  \n",
      "1                      2.623121e+06  \n",
      "2                      2.623121e+06  \n",
      "3                      2.623121e+06  \n",
      "4                      2.623121e+06  \n",
      "...                             ...  \n",
      "106851                          NaN  \n",
      "106852                 5.441100e+04  \n",
      "106853                          NaN  \n",
      "106854                          NaN  \n",
      "106855                          NaN  \n",
      "\n",
      "[106856 rows x 3 columns]\n"
     ]
    }
   ],
   "source": [
    "# Group by 'MSISDN/Number' and calculate the mode for 'Handset Type'\n",
    "grouped_data_handset = df.groupby('MSISDN/Number')['Handset Type'].agg(lambda x: x.mode().iat[0] if not x.mode().empty else None).reset_index()\n",
    "\n",
    "# Group by 'Handset Type' and calculate the mean for 'TCP DL Retrans. Vol (Bytes)'\n",
    "grouped_data_tcp = df.groupby('Handset Type')['TCP DL Retrans. Vol (Bytes)'].mean().reset_index()\n",
    "\n",
    "# Merge the datasets on 'Handset Type'\n",
    "merged_data = pd.merge(grouped_data_handset, grouped_data_tcp, on='Handset Type')\n",
    "\n",
    "# Display the resulting DataFrame\n",
    "print(merged_data)"
   ]
  },
  {
   "cell_type": "code",
   "execution_count": 18,
   "id": "9ba0dc9b-a179-4706-9de1-db77a00782a2",
   "metadata": {},
   "outputs": [
    {
     "name": "stdout",
     "output_type": "stream",
     "text": [
      "MSISDN/Number                    float64\n",
      "Handset Type                      object\n",
      "TCP DL Retrans. Vol (Bytes)      float64\n",
      "Avg RTT DL (ms)                  float64\n",
      "Avg Bearer TP DL (kbps)          float64\n",
      "Avg Bearer TP UL (kbps)          float64\n",
      "Sessions Frequency                 int64\n",
      "Average Session Duration (ms)    float64\n",
      "Total Traffic (Bytes)            float64\n",
      "Cluster                            int32\n",
      "Engagement Score                 float64\n",
      "dtype: object\n"
     ]
    }
   ],
   "source": [
    "# Combine features from different DataFrames\n",
    "consolidated_data = pd.merge(grouped_data_handset, grouped_data_retrans, on='MSISDN/Number')\n",
    "consolidated_data = pd.merge(consolidated_data, grouped_data_rtt, on='MSISDN/Number')\n",
    "consolidated_data = pd.merge(consolidated_data, grouped_data_throughput, on='MSISDN/Number')\n",
    "consolidated_data = pd.merge(consolidated_data, user_engagement, on='MSISDN/Number')\n",
    "\n",
    "print(consolidated_data.dtypes)\n"
   ]
  },
  {
   "cell_type": "code",
   "execution_count": 19,
   "id": "fc99b96e-81fb-4d79-b635-8c5b18d83cf1",
   "metadata": {},
   "outputs": [
    {
     "name": "stderr",
     "output_type": "stream",
     "text": [
      "C:\\Users\\Abel\\Documents\\10 Academy\\Week-1\\10-Academy-Week-1\\week1\\lib\\site-packages\\sklearn\\cluster\\_kmeans.py:1416: FutureWarning: The default value of `n_init` will change from 10 to 'auto' in 1.4. Set the value of `n_init` explicitly to suppress the warning\n",
      "  super()._check_params_vs_input(X, default_n_init=10)\n"
     ]
    },
    {
     "name": "stdout",
     "output_type": "stream",
     "text": [
      "        MSISDN/Number  experience_score\n",
      "0        3.360100e+10      5.933523e-08\n",
      "1        3.360100e+10      5.933523e-08\n",
      "2        3.360100e+10      5.933523e-08\n",
      "3        3.360101e+10      9.178681e-04\n",
      "4        3.360101e+10      1.069558e-07\n",
      "...               ...               ...\n",
      "106851   3.379000e+10      4.645184e-06\n",
      "106852   3.379000e+10      5.933523e-08\n",
      "106853   3.197021e+12      5.933523e-08\n",
      "106854   3.370000e+14      5.933523e-08\n",
      "106855   8.823971e+14      5.933523e-08\n",
      "\n",
      "[106856 rows x 2 columns]\n"
     ]
    }
   ],
   "source": [
    "# Select features for clustering\n",
    "features_for_clustering = ['TCP DL Retrans. Vol (Bytes)', 'Avg RTT DL (ms)', 'Avg Bearer TP DL (kbps)', 'Avg Bearer TP UL (kbps)']\n",
    "\n",
    "# Drop rows with missing values in the columns used for clustering\n",
    "consolidated_data.dropna(subset=features_for_clustering, inplace=True)\n",
    "\n",
    "# Standardize features\n",
    "scaler = StandardScaler()\n",
    "consolidated_data_scaled = scaler.fit_transform(consolidated_data[features_for_clustering])\n",
    "\n",
    "# Choose the number of clusters (you may need to tune this)\n",
    "n_clusters = 3\n",
    "kmeans = KMeans(n_clusters=n_clusters, random_state=42)\n",
    "consolidated_data['cluster'] = kmeans.fit_predict(consolidated_data_scaled)\n",
    "\n",
    "# Calculate Euclidean distance for each user\n",
    "consolidated_data['euclidean_distance'] = consolidated_data.apply(\n",
    "    lambda row: distance.euclidean(row[features_for_clustering], kmeans.cluster_centers_[row['cluster']]),\n",
    "    axis=1\n",
    ")\n",
    "\n",
    "# Assign experience scores\n",
    "consolidated_data['experience_score'] = 1 / (1 + consolidated_data['euclidean_distance'])\n",
    "\n",
    "# Display the resulting DataFrame with experience scores\n",
    "print(consolidated_data[['MSISDN/Number', 'experience_score']])\n"
   ]
  },
  {
   "cell_type": "code",
   "execution_count": 20,
   "id": "051b72ee-c67d-4e8a-80d6-31c56a0d377d",
   "metadata": {},
   "outputs": [
    {
     "name": "stdout",
     "output_type": "stream",
     "text": [
      "Top 10 Satisfied Customers:\n",
      "       MSISDN/Number  satisfaction_score\n",
      "13180   3.362578e+10           13.248600\n",
      "6437    3.361489e+10           12.042311\n",
      "13526   3.362632e+10           11.824005\n",
      "92923   3.376054e+10           11.011010\n",
      "37052   3.365973e+10           10.407605\n",
      "76363   3.367588e+10           10.109175\n",
      "71556   3.366926e+10            9.573468\n",
      "45295   3.366172e+10            8.933542\n",
      "1998    3.360750e+10            8.895862\n",
      "65118   3.366716e+10            8.570207\n"
     ]
    }
   ],
   "source": [
    "# Calculate satisfaction score as the average of engagement and experience scores\n",
    "consolidated_data['satisfaction_score'] = (user_engagement['Engagement Score'] + consolidated_data['experience_score']) / 2\n",
    "\n",
    "# Sort the DataFrame by satisfaction score in descending order\n",
    "top_satisfied_customers = consolidated_data.sort_values(by='satisfaction_score', ascending=False)\n",
    "\n",
    "# Display the top 10 satisfied customers\n",
    "top_10_satisfied_customers = top_satisfied_customers.head(10)\n",
    "print(\"Top 10 Satisfied Customers:\")\n",
    "print(top_10_satisfied_customers[['MSISDN/Number', 'satisfaction_score']])\n"
   ]
  },
  {
   "cell_type": "code",
   "execution_count": 21,
   "id": "df63ee6c-f696-4096-bab3-fe0d712215d0",
   "metadata": {},
   "outputs": [
    {
     "data": {
      "text/html": [
       "<div>\n",
       "<style scoped>\n",
       "    .dataframe tbody tr th:only-of-type {\n",
       "        vertical-align: middle;\n",
       "    }\n",
       "\n",
       "    .dataframe tbody tr th {\n",
       "        vertical-align: top;\n",
       "    }\n",
       "\n",
       "    .dataframe thead th {\n",
       "        text-align: right;\n",
       "    }\n",
       "</style>\n",
       "<table border=\"1\" class=\"dataframe\">\n",
       "  <thead>\n",
       "    <tr style=\"text-align: right;\">\n",
       "      <th></th>\n",
       "      <th>MSISDN/Number</th>\n",
       "      <th>Handset Type</th>\n",
       "      <th>TCP DL Retrans. Vol (Bytes)</th>\n",
       "      <th>Avg RTT DL (ms)</th>\n",
       "      <th>Avg Bearer TP DL (kbps)</th>\n",
       "      <th>Avg Bearer TP UL (kbps)</th>\n",
       "      <th>Sessions Frequency</th>\n",
       "      <th>Average Session Duration (ms)</th>\n",
       "      <th>Total Traffic (Bytes)</th>\n",
       "      <th>Cluster</th>\n",
       "      <th>Engagement Score</th>\n",
       "      <th>cluster</th>\n",
       "      <th>euclidean_distance</th>\n",
       "      <th>experience_score</th>\n",
       "      <th>satisfaction_score</th>\n",
       "    </tr>\n",
       "  </thead>\n",
       "  <tbody>\n",
       "    <tr>\n",
       "      <th>0</th>\n",
       "      <td>3.360100e+10</td>\n",
       "      <td>Huawei P20 Lite Huawei Nova 3E</td>\n",
       "      <td>1.685339e+07</td>\n",
       "      <td>46.000000</td>\n",
       "      <td>37.0</td>\n",
       "      <td>39.0</td>\n",
       "      <td>1</td>\n",
       "      <td>116760000.0</td>\n",
       "      <td>8.786906e+08</td>\n",
       "      <td>1</td>\n",
       "      <td>0.987749</td>\n",
       "      <td>0</td>\n",
       "      <td>1.685339e+07</td>\n",
       "      <td>5.933523e-08</td>\n",
       "      <td>0.493874</td>\n",
       "    </tr>\n",
       "    <tr>\n",
       "      <th>1</th>\n",
       "      <td>3.360100e+10</td>\n",
       "      <td>Apple iPhone 7 (A1778)</td>\n",
       "      <td>1.685339e+07</td>\n",
       "      <td>30.000000</td>\n",
       "      <td>48.0</td>\n",
       "      <td>51.0</td>\n",
       "      <td>1</td>\n",
       "      <td>181260000.0</td>\n",
       "      <td>1.568596e+08</td>\n",
       "      <td>0</td>\n",
       "      <td>0.780296</td>\n",
       "      <td>0</td>\n",
       "      <td>1.685339e+07</td>\n",
       "      <td>5.933523e-08</td>\n",
       "      <td>0.390148</td>\n",
       "    </tr>\n",
       "    <tr>\n",
       "      <th>2</th>\n",
       "      <td>3.360100e+10</td>\n",
       "      <td>undefined</td>\n",
       "      <td>1.685339e+07</td>\n",
       "      <td>119.182869</td>\n",
       "      <td>48.0</td>\n",
       "      <td>49.0</td>\n",
       "      <td>1</td>\n",
       "      <td>135000000.0</td>\n",
       "      <td>5.959665e+08</td>\n",
       "      <td>0</td>\n",
       "      <td>0.789995</td>\n",
       "      <td>0</td>\n",
       "      <td>1.685339e+07</td>\n",
       "      <td>5.933523e-08</td>\n",
       "      <td>0.394998</td>\n",
       "    </tr>\n",
       "    <tr>\n",
       "      <th>3</th>\n",
       "      <td>3.360101e+10</td>\n",
       "      <td>Apple iPhone 5S (A1457)</td>\n",
       "      <td>1.066000e+03</td>\n",
       "      <td>69.000000</td>\n",
       "      <td>204.0</td>\n",
       "      <td>44.0</td>\n",
       "      <td>1</td>\n",
       "      <td>49920000.0</td>\n",
       "      <td>4.223207e+08</td>\n",
       "      <td>1</td>\n",
       "      <td>0.383222</td>\n",
       "      <td>0</td>\n",
       "      <td>1.088481e+03</td>\n",
       "      <td>9.178681e-04</td>\n",
       "      <td>0.192070</td>\n",
       "    </tr>\n",
       "    <tr>\n",
       "      <th>4</th>\n",
       "      <td>3.360101e+10</td>\n",
       "      <td>Apple iPhone Se (A1723)</td>\n",
       "      <td>9.349630e+06</td>\n",
       "      <td>57.000000</td>\n",
       "      <td>20197.5</td>\n",
       "      <td>8224.5</td>\n",
       "      <td>2</td>\n",
       "      <td>18600000.0</td>\n",
       "      <td>1.457411e+09</td>\n",
       "      <td>2</td>\n",
       "      <td>1.484564</td>\n",
       "      <td>1</td>\n",
       "      <td>9.349656e+06</td>\n",
       "      <td>1.069558e-07</td>\n",
       "      <td>0.742282</td>\n",
       "    </tr>\n",
       "    <tr>\n",
       "      <th>...</th>\n",
       "      <td>...</td>\n",
       "      <td>...</td>\n",
       "      <td>...</td>\n",
       "      <td>...</td>\n",
       "      <td>...</td>\n",
       "      <td>...</td>\n",
       "      <td>...</td>\n",
       "      <td>...</td>\n",
       "      <td>...</td>\n",
       "      <td>...</td>\n",
       "      <td>...</td>\n",
       "      <td>...</td>\n",
       "      <td>...</td>\n",
       "      <td>...</td>\n",
       "      <td>...</td>\n",
       "    </tr>\n",
       "    <tr>\n",
       "      <th>106851</th>\n",
       "      <td>3.379000e+10</td>\n",
       "      <td>Huawei Honor 9 Lite</td>\n",
       "      <td>2.150440e+05</td>\n",
       "      <td>42.000000</td>\n",
       "      <td>9978.0</td>\n",
       "      <td>387.0</td>\n",
       "      <td>1</td>\n",
       "      <td>8760000.0</td>\n",
       "      <td>7.146416e+08</td>\n",
       "      <td>1</td>\n",
       "      <td>0.932555</td>\n",
       "      <td>0</td>\n",
       "      <td>2.152757e+05</td>\n",
       "      <td>4.645184e-06</td>\n",
       "      <td>0.466280</td>\n",
       "    </tr>\n",
       "    <tr>\n",
       "      <th>106852</th>\n",
       "      <td>3.379000e+10</td>\n",
       "      <td>Apple iPhone 8 Plus (A1897)</td>\n",
       "      <td>1.685339e+07</td>\n",
       "      <td>34.000000</td>\n",
       "      <td>68.0</td>\n",
       "      <td>48.0</td>\n",
       "      <td>1</td>\n",
       "      <td>141000000.0</td>\n",
       "      <td>4.803073e+08</td>\n",
       "      <td>0</td>\n",
       "      <td>0.703592</td>\n",
       "      <td>0</td>\n",
       "      <td>1.685339e+07</td>\n",
       "      <td>5.933523e-08</td>\n",
       "      <td>0.351796</td>\n",
       "    </tr>\n",
       "    <tr>\n",
       "      <th>106853</th>\n",
       "      <td>3.197021e+12</td>\n",
       "      <td>Quectel Wireless. Quectel Ec25-E</td>\n",
       "      <td>1.685339e+07</td>\n",
       "      <td>119.182869</td>\n",
       "      <td>1.0</td>\n",
       "      <td>0.0</td>\n",
       "      <td>1</td>\n",
       "      <td>877380000.0</td>\n",
       "      <td>2.321240e+08</td>\n",
       "      <td>0</td>\n",
       "      <td>9.529468</td>\n",
       "      <td>0</td>\n",
       "      <td>1.685339e+07</td>\n",
       "      <td>5.933523e-08</td>\n",
       "      <td>4.764734</td>\n",
       "    </tr>\n",
       "    <tr>\n",
       "      <th>106854</th>\n",
       "      <td>3.370000e+14</td>\n",
       "      <td>Huawei B525S-23A</td>\n",
       "      <td>1.685339e+07</td>\n",
       "      <td>119.182869</td>\n",
       "      <td>11.0</td>\n",
       "      <td>22.0</td>\n",
       "      <td>1</td>\n",
       "      <td>253020000.0</td>\n",
       "      <td>5.962878e+08</td>\n",
       "      <td>0</td>\n",
       "      <td>0.888410</td>\n",
       "      <td>0</td>\n",
       "      <td>1.685339e+07</td>\n",
       "      <td>5.933523e-08</td>\n",
       "      <td>0.444205</td>\n",
       "    </tr>\n",
       "    <tr>\n",
       "      <th>106855</th>\n",
       "      <td>8.823971e+14</td>\n",
       "      <td>Quectel Wireless. Quectel Ec21-E</td>\n",
       "      <td>1.685339e+07</td>\n",
       "      <td>119.182869</td>\n",
       "      <td>2.0</td>\n",
       "      <td>0.0</td>\n",
       "      <td>1</td>\n",
       "      <td>869820000.0</td>\n",
       "      <td>1.391536e+08</td>\n",
       "      <td>0</td>\n",
       "      <td>9.439091</td>\n",
       "      <td>0</td>\n",
       "      <td>1.685339e+07</td>\n",
       "      <td>5.933523e-08</td>\n",
       "      <td>4.719545</td>\n",
       "    </tr>\n",
       "  </tbody>\n",
       "</table>\n",
       "<p>106856 rows × 15 columns</p>\n",
       "</div>"
      ],
      "text/plain": [
       "        MSISDN/Number                      Handset Type  \\\n",
       "0        3.360100e+10    Huawei P20 Lite Huawei Nova 3E   \n",
       "1        3.360100e+10            Apple iPhone 7 (A1778)   \n",
       "2        3.360100e+10                         undefined   \n",
       "3        3.360101e+10           Apple iPhone 5S (A1457)   \n",
       "4        3.360101e+10           Apple iPhone Se (A1723)   \n",
       "...               ...                               ...   \n",
       "106851   3.379000e+10               Huawei Honor 9 Lite   \n",
       "106852   3.379000e+10       Apple iPhone 8 Plus (A1897)   \n",
       "106853   3.197021e+12  Quectel Wireless. Quectel Ec25-E   \n",
       "106854   3.370000e+14                  Huawei B525S-23A   \n",
       "106855   8.823971e+14  Quectel Wireless. Quectel Ec21-E   \n",
       "\n",
       "        TCP DL Retrans. Vol (Bytes)  Avg RTT DL (ms)  Avg Bearer TP DL (kbps)  \\\n",
       "0                      1.685339e+07        46.000000                     37.0   \n",
       "1                      1.685339e+07        30.000000                     48.0   \n",
       "2                      1.685339e+07       119.182869                     48.0   \n",
       "3                      1.066000e+03        69.000000                    204.0   \n",
       "4                      9.349630e+06        57.000000                  20197.5   \n",
       "...                             ...              ...                      ...   \n",
       "106851                 2.150440e+05        42.000000                   9978.0   \n",
       "106852                 1.685339e+07        34.000000                     68.0   \n",
       "106853                 1.685339e+07       119.182869                      1.0   \n",
       "106854                 1.685339e+07       119.182869                     11.0   \n",
       "106855                 1.685339e+07       119.182869                      2.0   \n",
       "\n",
       "        Avg Bearer TP UL (kbps)  Sessions Frequency  \\\n",
       "0                          39.0                   1   \n",
       "1                          51.0                   1   \n",
       "2                          49.0                   1   \n",
       "3                          44.0                   1   \n",
       "4                        8224.5                   2   \n",
       "...                         ...                 ...   \n",
       "106851                    387.0                   1   \n",
       "106852                     48.0                   1   \n",
       "106853                      0.0                   1   \n",
       "106854                     22.0                   1   \n",
       "106855                      0.0                   1   \n",
       "\n",
       "        Average Session Duration (ms)  Total Traffic (Bytes)  Cluster  \\\n",
       "0                         116760000.0           8.786906e+08        1   \n",
       "1                         181260000.0           1.568596e+08        0   \n",
       "2                         135000000.0           5.959665e+08        0   \n",
       "3                          49920000.0           4.223207e+08        1   \n",
       "4                          18600000.0           1.457411e+09        2   \n",
       "...                               ...                    ...      ...   \n",
       "106851                      8760000.0           7.146416e+08        1   \n",
       "106852                    141000000.0           4.803073e+08        0   \n",
       "106853                    877380000.0           2.321240e+08        0   \n",
       "106854                    253020000.0           5.962878e+08        0   \n",
       "106855                    869820000.0           1.391536e+08        0   \n",
       "\n",
       "        Engagement Score  cluster  euclidean_distance  experience_score  \\\n",
       "0               0.987749        0        1.685339e+07      5.933523e-08   \n",
       "1               0.780296        0        1.685339e+07      5.933523e-08   \n",
       "2               0.789995        0        1.685339e+07      5.933523e-08   \n",
       "3               0.383222        0        1.088481e+03      9.178681e-04   \n",
       "4               1.484564        1        9.349656e+06      1.069558e-07   \n",
       "...                  ...      ...                 ...               ...   \n",
       "106851          0.932555        0        2.152757e+05      4.645184e-06   \n",
       "106852          0.703592        0        1.685339e+07      5.933523e-08   \n",
       "106853          9.529468        0        1.685339e+07      5.933523e-08   \n",
       "106854          0.888410        0        1.685339e+07      5.933523e-08   \n",
       "106855          9.439091        0        1.685339e+07      5.933523e-08   \n",
       "\n",
       "        satisfaction_score  \n",
       "0                 0.493874  \n",
       "1                 0.390148  \n",
       "2                 0.394998  \n",
       "3                 0.192070  \n",
       "4                 0.742282  \n",
       "...                    ...  \n",
       "106851            0.466280  \n",
       "106852            0.351796  \n",
       "106853            4.764734  \n",
       "106854            0.444205  \n",
       "106855            4.719545  \n",
       "\n",
       "[106856 rows x 15 columns]"
      ]
     },
     "execution_count": 21,
     "metadata": {},
     "output_type": "execute_result"
    }
   ],
   "source": [
    "consolidated_data"
   ]
  },
  {
   "cell_type": "code",
   "execution_count": 22,
   "id": "d478de96-7f29-4008-a1f6-4167363d8d3f",
   "metadata": {},
   "outputs": [
    {
     "name": "stdout",
     "output_type": "stream",
     "text": [
      "        MSISDN/Number  satisfaction_score  predicted_satisfaction_score\n",
      "0        3.360100e+10            0.493874                      0.837698\n",
      "1        3.360100e+10            0.390148                      0.759534\n",
      "2        3.360100e+10            0.394998                      0.763189\n",
      "3        3.360101e+10            0.192070                      0.609925\n",
      "4        3.360101e+10            0.742282                      1.024888\n",
      "...               ...                 ...                           ...\n",
      "106851   3.379000e+10            0.466280                      0.816902\n",
      "106852   3.379000e+10            0.351796                      0.730634\n",
      "106853   3.197021e+12            4.764734                      4.056041\n",
      "106854   3.370000e+14            0.444205                      0.800269\n",
      "106855   8.823971e+14            4.719545                      4.021989\n",
      "\n",
      "[106856 rows x 3 columns]\n",
      "Cross-validated R-squared scores: [1. 1. 1. 1. 1.]\n",
      "Mean Squared Error: 1.678952628648227e-13\n",
      "R-squared: 0.9999999999986315\n"
     ]
    },
    {
     "name": "stderr",
     "output_type": "stream",
     "text": [
      "C:\\Users\\Abel\\Documents\\10 Academy\\Week-1\\10-Academy-Week-1\\week1\\lib\\site-packages\\sklearn\\base.py:458: UserWarning: X has feature names, but RidgeCV was fitted without feature names\n",
      "  warnings.warn(\n"
     ]
    }
   ],
   "source": [
    "# Select features for the regression model\n",
    "regression_features = ['Engagement Score', 'experience_score']\n",
    "\n",
    "# Drop rows with missing values in the selected features\n",
    "regression_data = consolidated_data.dropna(subset=regression_features)\n",
    "\n",
    "# Split the data into training and testing sets\n",
    "X_train, X_test, y_train, y_test = train_test_split(\n",
    "    regression_data[regression_features],\n",
    "    regression_data['satisfaction_score'],\n",
    "    test_size=0.2, random_state=42\n",
    ")\n",
    "\n",
    "# Standardize features\n",
    "scaler = StandardScaler()\n",
    "X_train_scaled = scaler.fit_transform(X_train)\n",
    "X_test_scaled = scaler.transform(X_test)\n",
    "\n",
    "# Initialize Ridge regression model with regularization parameter alpha\n",
    "model = RidgeCV(alphas=[0.1, 1.0, 10.0], cv=5)\n",
    "\n",
    "# Train the model on the training set\n",
    "model.fit(X_train_scaled, y_train)\n",
    "\n",
    "# Make predictions on the testing set\n",
    "y_pred = model.predict(X_test_scaled)\n",
    "\n",
    "# Evaluate the model performance\n",
    "mse = mean_squared_error(y_test, y_pred)\n",
    "r2 = r2_score(y_test, y_pred)\n",
    "\n",
    "# Perform cross-validation\n",
    "cv_scores = cross_val_score(model, X_train_scaled, y_train, cv=5)\n",
    "\n",
    "consolidated_data['predicted_satisfaction_score'] = model.predict(consolidated_data[regression_features])\n",
    "\n",
    "print(consolidated_data[['MSISDN/Number', 'satisfaction_score', 'predicted_satisfaction_score']])\n",
    "print(f'Cross-validated R-squared scores: {cv_scores}')\n",
    "print(f'Mean Squared Error: {mse}')\n",
    "print(f'R-squared: {r2}')"
   ]
  },
  {
   "cell_type": "code",
   "execution_count": 23,
   "id": "1ee74e98-ce89-4fc8-adb1-261aba8918c4",
   "metadata": {},
   "outputs": [
    {
     "data": {
      "image/png": "[encoded data removed]",
      "text/plain": [
       "<Figure size 640x480 with 1 Axes>"
      ]
     },
     "metadata": {},
     "output_type": "display_data"
    }
   ],
   "source": [
    "# Visualize predicted vs. actual values\n",
    "plt.scatter(y_test, y_pred)\n",
    "plt.xlabel('Actual Satisfaction Score')\n",
    "plt.ylabel('Predicted Satisfaction Score')\n",
    "plt.title('Actual vs. Predicted Satisfaction Score')\n",
    "plt.show()"
   ]
  },
  {
   "cell_type": "code",
   "execution_count": 24,
   "id": "814fb2ac-e5d8-4193-97c5-b99d52f3b8ca",
   "metadata": {},
   "outputs": [
    {
     "name": "stdout",
     "output_type": "stream",
     "text": [
      "Cross-validated R-squared scores: [1. 1. 1. 1. 1.]\n"
     ]
    }
   ],
   "source": [
    "# Perform cross-validation\n",
    "scores = cross_val_score(model, X_train_scaled, y_train, cv=5)\n",
    "print(f'Cross-validated R-squared scores: {scores}')"
   ]
  },
  {
   "cell_type": "code",
   "execution_count": 25,
   "id": "4e069c2c-40e2-473b-b1cd-9ef716e9632b",
   "metadata": {},
   "outputs": [
    {
     "name": "stdout",
     "output_type": "stream",
     "text": [
      "        MSISDN/Number  satisfaction_score  predicted_satisfaction_score\n",
      "0        3.360100e+10            0.493874                      0.493876\n",
      "1        3.360100e+10            0.390148                      0.390148\n",
      "2        3.360100e+10            0.394998                      0.394997\n",
      "3        3.360101e+10            0.192070                      0.191641\n",
      "4        3.360101e+10            0.742282                      0.742281\n",
      "...               ...                 ...                           ...\n",
      "106851   3.379000e+10            0.466280                      0.466282\n",
      "106852   3.379000e+10            0.351796                      0.351796\n",
      "106853   3.197021e+12            4.764734                      4.766209\n",
      "106854   3.370000e+14            0.444205                      0.444208\n",
      "106855   8.823971e+14            4.719545                      4.724159\n",
      "\n",
      "[106856 rows x 3 columns]\n",
      "Cross-validated R-squared scores: [0.99935569 0.99990636 0.99996155 0.99998868 0.99908807]\n",
      "Mean Squared Error: 3.249840928320656e-06\n",
      "R-squared: 0.999973512161764\n"
     ]
    }
   ],
   "source": [
    "# Select features for the regression model\n",
    "regression_features = ['Engagement Score', 'experience_score']\n",
    "\n",
    "# Drop rows with missing values in the selected features\n",
    "regression_data = consolidated_data.dropna(subset=regression_features)\n",
    "\n",
    "# Split the data into training and testing sets\n",
    "X_train, X_test, y_train, y_test = train_test_split(\n",
    "    regression_data[regression_features],\n",
    "    regression_data['satisfaction_score'],\n",
    "    test_size=0.2, random_state=42\n",
    ")\n",
    "\n",
    "# Initialize the Random Forest Regressor model\n",
    "model = RandomForestRegressor(n_estimators=100, random_state=42)\n",
    "\n",
    "# Train the model on the training set\n",
    "model.fit(X_train, y_train)\n",
    "\n",
    "# Make predictions on the testing set\n",
    "y_pred = model.predict(X_test)\n",
    "\n",
    "# Evaluate the model performance\n",
    "mse = mean_squared_error(y_test, y_pred)\n",
    "r2 = r2_score(y_test, y_pred)\n",
    "\n",
    "consolidated_data['predicted_satisfaction_score'] = model.predict(consolidated_data[regression_features])\n",
    "\n",
    "print(consolidated_data[['MSISDN/Number', 'satisfaction_score', 'predicted_satisfaction_score']])\n",
    "\n",
    "# Perform cross-validation\n",
    "cv_scores = cross_val_score(model, X_train, y_train, cv=5)\n",
    "print(f'Cross-validated R-squared scores: {cv_scores}')\n",
    "print(f'Mean Squared Error: {mse}')\n",
    "print(f'R-squared: {r2}')"
   ]
  },
  {
   "cell_type": "code",
   "execution_count": 26,
   "id": "3cbd8a78-a43a-44ee-9d64-68242e3c3576",
   "metadata": {},
   "outputs": [
    {
     "data": {
      "image/png": "[encoded data removed]",
      "text/plain": [
       "<Figure size 640x480 with 1 Axes>"
      ]
     },
     "metadata": {},
     "output_type": "display_data"
    }
   ],
   "source": [
    "# Visualize predicted vs. actual values\n",
    "plt.scatter(y_test, y_pred)\n",
    "plt.xlabel('Actual Satisfaction Score')\n",
    "plt.ylabel('Predicted Satisfaction Score')\n",
    "plt.title('Actual vs. Predicted Satisfaction Score')\n",
    "plt.show()"
   ]
  },
  {
   "cell_type": "code",
   "execution_count": 27,
   "id": "718bdb22-254d-4e5c-ae8c-42a3b7b614d8",
   "metadata": {},
   "outputs": [
    {
     "name": "stdout",
     "output_type": "stream",
     "text": [
      "        MSISDN/Number  satisfaction_score  predicted_satisfaction_score\n",
      "0        3.360100e+10            0.493874                      0.496683\n",
      "1        3.360100e+10            0.390148                      0.391145\n",
      "2        3.360100e+10            0.394998                      0.392613\n",
      "3        3.360101e+10            0.192070                      0.190939\n",
      "4        3.360101e+10            0.742282                      0.742264\n",
      "...               ...                 ...                           ...\n",
      "106851   3.379000e+10            0.466280                      0.470152\n",
      "106852   3.379000e+10            0.351796                      0.349969\n",
      "106853   3.197021e+12            4.764734                      4.751847\n",
      "106854   3.370000e+14            0.444205                      0.445834\n",
      "106855   8.823971e+14            4.719545                      4.737426\n",
      "\n",
      "[106856 rows x 3 columns]\n",
      "Cross-validated R-squared scores: [0.99904339 0.9997445  0.99964255 0.99982489 0.99921969]\n",
      "Mean Squared Error: 2.0312403898524494e-05\n",
      "R-squared: 0.9998344436910865\n"
     ]
    }
   ],
   "source": [
    "# Select features for the regression model\n",
    "regression_features = ['Engagement Score', 'experience_score']\n",
    "\n",
    "# Drop rows with missing values in the selected features\n",
    "regression_data = consolidated_data.dropna(subset=regression_features)\n",
    "\n",
    "# Split the data into training and testing sets\n",
    "X_train, X_test, y_train, y_test = train_test_split(\n",
    "    regression_data[regression_features],\n",
    "    regression_data['satisfaction_score'],\n",
    "    test_size=0.2, random_state=42\n",
    ")\n",
    "\n",
    "# Initialize the Gradient Boosting Regressor model\n",
    "model = GradientBoostingRegressor(n_estimators=100, random_state=42)\n",
    "\n",
    "# Train the model on the training set\n",
    "model.fit(X_train, y_train)\n",
    "\n",
    "# Make predictions on the testing set\n",
    "y_pred = model.predict(X_test)\n",
    "\n",
    "# Evaluate the model performance\n",
    "mse = mean_squared_error(y_test, y_pred)\n",
    "r2 = r2_score(y_test, y_pred)\n",
    "\n",
    "consolidated_data['predicted_satisfaction_score'] = model.predict(consolidated_data[regression_features])\n",
    "\n",
    "print(consolidated_data[['MSISDN/Number', 'satisfaction_score', 'predicted_satisfaction_score']])\n",
    "\n",
    "# Perform cross-validation\n",
    "cv_scores = cross_val_score(model, X_train, y_train, cv=5)\n",
    "print(f'Cross-validated R-squared scores: {cv_scores}')\n",
    "print(f'Mean Squared Error: {mse}')\n",
    "print(f'R-squared: {r2}')"
   ]
  },
  {
   "cell_type": "code",
   "execution_count": 28,
   "id": "3b7332dd-2256-41fa-acfc-ce5f3537c0a1",
   "metadata": {},
   "outputs": [
    {
     "name": "stderr",
     "output_type": "stream",
     "text": [
      "C:\\Users\\Abel\\Documents\\10 Academy\\Week-1\\10-Academy-Week-1\\week1\\lib\\site-packages\\sklearn\\cluster\\_kmeans.py:1416: FutureWarning: The default value of `n_init` will change from 10 to 'auto' in 1.4. Set the value of `n_init` explicitly to suppress the warning\n",
      "  super()._check_params_vs_input(X, default_n_init=10)\n"
     ]
    },
    {
     "name": "stdout",
     "output_type": "stream",
     "text": [
      "Results of K-means Clustering (k=2):\n",
      "        MSISDN/Number  Engagement Score  experience_score  cluster\n",
      "0        3.360100e+10          0.987749      5.933523e-08        0\n",
      "1        3.360100e+10          0.780296      5.933523e-08        0\n",
      "2        3.360100e+10          0.789995      5.933523e-08        0\n",
      "3        3.360101e+10          0.383222      9.178681e-04        0\n",
      "4        3.360101e+10          1.484564      1.069558e-07        0\n",
      "...               ...               ...               ...      ...\n",
      "106851   3.379000e+10          0.932555      4.645184e-06        0\n",
      "106852   3.379000e+10          0.703592      5.933523e-08        0\n",
      "106853   3.197021e+12          9.529468      5.933523e-08        0\n",
      "106854   3.370000e+14          0.888410      5.933523e-08        0\n",
      "106855   8.823971e+14          9.439091      5.933523e-08        0\n",
      "\n",
      "[106856 rows x 4 columns]\n"
     ]
    }
   ],
   "source": [
    "# Select features for k-means clustering\n",
    "clustering_features = ['Engagement Score', 'experience_score']\n",
    "\n",
    "# Drop rows with missing values in the selected features\n",
    "clustering_data = consolidated_data.dropna(subset=clustering_features)\n",
    "\n",
    "# Standardize features\n",
    "scaler = StandardScaler()\n",
    "clustering_data_scaled = scaler.fit_transform(clustering_data[clustering_features])\n",
    "\n",
    "# Run k-means clustering with k=2\n",
    "kmeans = KMeans(n_clusters=2, random_state=42)\n",
    "clustering_data['cluster'] = kmeans.fit_predict(clustering_data_scaled)\n",
    "\n",
    "# Display the results\n",
    "print(\"Results of K-means Clustering (k=2):\")\n",
    "print(clustering_data[['MSISDN/Number', 'Engagement Score', 'experience_score', 'cluster']])"
   ]
  },
  {
   "cell_type": "code",
   "execution_count": 29,
   "id": "fd6f362c-3ed3-4e6f-9d15-fa0fa864dd79",
   "metadata": {},
   "outputs": [
    {
     "name": "stderr",
     "output_type": "stream",
     "text": [
      "C:\\Users\\Abel\\Documents\\10 Academy\\Week-1\\10-Academy-Week-1\\week1\\lib\\site-packages\\sklearn\\cluster\\_kmeans.py:1416: FutureWarning: The default value of `n_init` will change from 10 to 'auto' in 1.4. Set the value of `n_init` explicitly to suppress the warning\n",
      "  super()._check_params_vs_input(X, default_n_init=10)\n"
     ]
    },
    {
     "name": "stdout",
     "output_type": "stream",
     "text": [
      "Results of K-means Clustering (k=2):\n",
      "        MSISDN/Number  Engagement Score  experience_score  cluster\n",
      "0        3.360100e+10          0.987749      5.933523e-08        0\n",
      "1        3.360100e+10          0.780296      5.933523e-08        0\n",
      "2        3.360100e+10          0.789995      5.933523e-08        0\n",
      "3        3.360101e+10          0.383222      9.178681e-04        0\n",
      "4        3.360101e+10          1.484564      1.069558e-07        0\n",
      "...               ...               ...               ...      ...\n",
      "106851   3.379000e+10          0.932555      4.645184e-06        0\n",
      "106852   3.379000e+10          0.703592      5.933523e-08        0\n",
      "106853   3.197021e+12          9.529468      5.933523e-08        2\n",
      "106854   3.370000e+14          0.888410      5.933523e-08        0\n",
      "106855   8.823971e+14          9.439091      5.933523e-08        2\n",
      "\n",
      "[106856 rows x 4 columns]\n"
     ]
    }
   ],
   "source": [
    "# Select features for k-means clustering\n",
    "clustering_features = ['Engagement Score', 'experience_score']\n",
    "\n",
    "# Drop rows with missing values in the selected features\n",
    "clustering_data = consolidated_data.dropna(subset=clustering_features)\n",
    "\n",
    "# Standardize features\n",
    "scaler = StandardScaler()\n",
    "clustering_data_scaled = scaler.fit_transform(clustering_data[clustering_features])\n",
    "\n",
    "# Run k-means clustering with k=2\n",
    "kmeans = KMeans(n_clusters=3, random_state=42)\n",
    "clustering_data['cluster'] = kmeans.fit_predict(clustering_data_scaled)\n",
    "\n",
    "# Display the results\n",
    "print(\"Results of K-means Clustering (k=2):\")\n",
    "print(clustering_data[['MSISDN/Number', 'Engagement Score', 'experience_score', 'cluster']])"
   ]
  },
  {
   "cell_type": "code",
   "execution_count": 30,
   "id": "ce1c95d5-4577-4121-8ab3-853b6fe62f1a",
   "metadata": {},
   "outputs": [
    {
     "name": "stderr",
     "output_type": "stream",
     "text": [
      "C:\\Users\\Abel\\Documents\\10 Academy\\Week-1\\10-Academy-Week-1\\week1\\lib\\site-packages\\sklearn\\cluster\\_kmeans.py:1416: FutureWarning: The default value of `n_init` will change from 10 to 'auto' in 1.4. Set the value of `n_init` explicitly to suppress the warning\n",
      "  super()._check_params_vs_input(X, default_n_init=10)\n"
     ]
    },
    {
     "name": "stdout",
     "output_type": "stream",
     "text": [
      "Results of K-means Clustering (k=2):\n",
      "        MSISDN/Number  Engagement Score  experience_score  cluster\n",
      "0        3.360100e+10          0.987749      5.933523e-08        2\n",
      "1        3.360100e+10          0.780296      5.933523e-08        2\n",
      "2        3.360100e+10          0.789995      5.933523e-08        2\n",
      "3        3.360101e+10          0.383222      9.178681e-04        2\n",
      "4        3.360101e+10          1.484564      1.069558e-07        1\n",
      "...               ...               ...               ...      ...\n",
      "106851   3.379000e+10          0.932555      4.645184e-06        2\n",
      "106852   3.379000e+10          0.703592      5.933523e-08        2\n",
      "106853   3.197021e+12          9.529468      5.933523e-08        3\n",
      "106854   3.370000e+14          0.888410      5.933523e-08        2\n",
      "106855   8.823971e+14          9.439091      5.933523e-08        3\n",
      "\n",
      "[106856 rows x 4 columns]\n"
     ]
    }
   ],
   "source": [
    "# Select features for k-means clustering\n",
    "clustering_features = ['Engagement Score', 'experience_score']\n",
    "\n",
    "# Drop rows with missing values in the selected features\n",
    "clustering_data = consolidated_data.dropna(subset=clustering_features)\n",
    "\n",
    "# Standardize features\n",
    "scaler = StandardScaler()\n",
    "clustering_data_scaled = scaler.fit_transform(clustering_data[clustering_features])\n",
    "\n",
    "# Run k-means clustering with k=2\n",
    "kmeans = KMeans(n_clusters=4, random_state=42)\n",
    "clustering_data['cluster'] = kmeans.fit_predict(clustering_data_scaled)\n",
    "\n",
    "# Display the results\n",
    "print(\"Results of K-means Clustering (k=2):\")\n",
    "print(clustering_data[['MSISDN/Number', 'Engagement Score', 'experience_score', 'cluster']])"
   ]
  },
  {
   "cell_type": "code",
   "execution_count": 31,
   "id": "16870750-8172-42c7-a7e3-3006251f54c2",
   "metadata": {},
   "outputs": [
    {
     "name": "stdout",
     "output_type": "stream",
     "text": [
      "Average Scores per Cluster:\n",
      "   cluster  satisfaction_score  experience_score\n",
      "0        0            0.490507          0.004726\n",
      "1        1            0.699885          0.000038\n",
      "2        2            0.328399          0.000020\n",
      "3        3            2.602254          0.000012\n"
     ]
    }
   ],
   "source": [
    "# Group by the 'cluster' column and calculate the mean for 'satisfaction_score' and 'experience_score'\n",
    "cluster_aggregation = clustering_data.groupby('cluster').agg({\n",
    "    'satisfaction_score': 'mean',\n",
    "    'experience_score': 'mean'\n",
    "}).reset_index()\n",
    "\n",
    "# Display the aggregated results\n",
    "print(\"Average Scores per Cluster:\")\n",
    "print(cluster_aggregation)"
   ]
  },
  {
   "cell_type": "code",
   "execution_count": 47,
   "id": "775d75e6-079a-45ee-b5f3-ed81acdb50d5",
   "metadata": {},
   "outputs": [],
   "source": [
    "# Define the SQL query for creating the table\n",
    "create_table_query = \"\"\"\n",
    "CREATE TABLE user_scores (\n",
    "    user_id VARCHAR(255),\n",
    "    engagement_score FLOAT,\n",
    "    experience_score FLOAT,\n",
    "    satisfaction_score FLOAT\n",
    ");\n",
    "\"\"\""
   ]
  },
  {
   "cell_type": "code",
   "execution_count": 48,
   "id": "dfcdc03d-6190-47f1-9dbf-239eb792920e",
   "metadata": {},
   "outputs": [
    {
     "name": "stdout",
     "output_type": "stream",
     "text": [
      "Error executing query: This Connection is closed\n"
     ]
    }
   ],
   "source": [
    "# Execute the query\n",
    "db_connection.execute_query(create_table_query)"
   ]
  },
  {
   "cell_type": "code",
   "execution_count": 49,
   "id": "fdda969e-39fb-45a5-92f9-cd001197ca65",
   "metadata": {},
   "outputs": [],
   "source": [
    "user_scores_df = consolidated_data[['MSISDN/Number', 'Engagement Score', 'experience_score', 'satisfaction_score']]"
   ]
  },
  {
   "cell_type": "code",
   "execution_count": 50,
   "id": "28a13e8a-4033-41a6-a065-89d08466f1aa",
   "metadata": {},
   "outputs": [
    {
     "name": "stdout",
     "output_type": "stream",
     "text": [
      "Connection closed.\n"
     ]
    }
   ],
   "source": [
    "# Insert data into the 'user_scores' table\n",
    "user_scores_df.to_sql('user_scores', con=db_connection.engine, index=False, if_exists='append')\n",
    "\n",
    "# Close the database connection\n",
    "db_connection.close_connection()"
   ]
  },
  {
   "cell_type": "code",
   "execution_count": null,
   "id": "5556bcbc-85a1-4f01-83c4-9bf45c4e0b4b",
   "metadata": {},
   "outputs": [],
   "source": []
  }
 ],
 "metadata": {
  "kernelspec": {
   "display_name": "Python 3 (ipykernel)",
   "language": "python",
   "name": "python3"
  },
  "language_info": {
   "codemirror_mode": {
    "name": "ipython",
    "version": 3
   },
   "file_extension": ".py",
   "mimetype": "text/x-python",
   "name": "python",
   "nbconvert_exporter": "python",
   "pygments_lexer": "ipython3",
   "version": "3.8.17"
  }
 },
 "nbformat": 4,
 "nbformat_minor": 5
}
